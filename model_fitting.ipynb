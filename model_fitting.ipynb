{
 "cells": [
  {
   "cell_type": "code",
   "execution_count": null,
   "metadata": {},
   "outputs": [],
   "source": [
    "import pandas as pd\n",
    "import numpy as np\n",
    "import matplotlib.pyplot as plt\n",
    "from matplotlib.backends.backend_pdf import PdfPages\n",
    "import seaborn as sns\n",
    "import time\n",
    "import imp\n",
    "import os\n",
    "import os, os.path\n",
    "import datetime as dt\n",
    "import dateutil.parser as dp\n",
    "import dill\n",
    "\n",
    "%matplotlib inline"
   ]
  },
  {
   "cell_type": "code",
   "execution_count": null,
   "metadata": {},
   "outputs": [],
   "source": [
    "dill.load_session('notebook_env_all_3_dfs.db')\n",
    "\n",
    "print('attr_df.shape = ', attr_df.shape)\n",
    "print('geo_df.shape = ', geo_df.shape)\n",
    "print('seller_df.shape = ', seller_df.shape)\n",
    "\n",
    "df = attr_df.merge(geo_df,on=['cusip','asofdate'])\n",
    "df = df.drop('Label_y',axis=1)\n",
    "df = df.drop(['poolno_y','poolno_x','Label_x'],axis=1)\n",
    "seller_df = seller_df.drop('Label',axis=1)\n",
    "df = df.merge(seller_df,on=['cusip','asofdate'])\n",
    "df = df.drop(['Prefix_y','Prefix_x'],axis=1)\n",
    "\n",
    "print('df.shape = ', df.shape)"
   ]
  },
  {
   "cell_type": "code",
   "execution_count": null,
   "metadata": {},
   "outputs": [],
   "source": [
    "df.head()"
   ]
  },
  {
   "cell_type": "code",
   "execution_count": null,
   "metadata": {},
   "outputs": [],
   "source": [
    "for col in df.columns:\n",
    "    print(col)"
   ]
  },
  {
   "cell_type": "code",
   "execution_count": null,
   "metadata": {},
   "outputs": [],
   "source": [
    "df.shape"
   ]
  },
  {
   "cell_type": "code",
   "execution_count": null,
   "metadata": {},
   "outputs": [],
   "source": [
    "len(df[df['cnloans']>=1500])"
   ]
  },
  {
   "cell_type": "code",
   "execution_count": null,
   "metadata": {},
   "outputs": [],
   "source": [
    "# nloans = 250\n",
    "# ddf = df[df['cnloans']>=nloans]\n",
    "\n",
    "# rows = ddf.shape[0]\n",
    "\n",
    "# N = rows//30000 + 1\n",
    "\n",
    "# for i in range(N):\n",
    "#     ddf.iloc[i*30000:(i+1)*30000,].to_csv(f'data/pools_ge{nloans}_loans_part{i+1}.csv')"
   ]
  },
  {
   "cell_type": "code",
   "execution_count": null,
   "metadata": {},
   "outputs": [],
   "source": [
    "# nloans = 250\n",
    "# df[df['cnloans']>=nloans].to_csv(f'pools_ge{nloans}_loans.csv',index=False)\n",
    "\n",
    "# nloans = 500\n",
    "# df[df['cnloans']>=nloans].to_csv(f'pools_ge{nloans}_loans.csv',index=False)\n",
    "\n",
    "# nloans = 750\n",
    "# df[df['cnloans']>=nloans].to_csv(f'pools_ge{nloans}_loans.csv',index=False)\n",
    "\n",
    "# nloans = 1000\n",
    "# df[df['cnloans']>=nloans].to_csv(f'pools_ge{nloans}_loans.csv',index=False)\n",
    "\n",
    "# nloans = 1500\n",
    "# df[df['cnloans']>=nloans].to_csv(f'pools_ge{nloans}_loans.csv',index=False)\n",
    "\n",
    "# nloans = 2000\n",
    "# df[df['cnloans']>=nloans].to_csv(f'pools_ge{nloans}_loans.csv',index=False)\n",
    "\n",
    "# nloans = 2500\n",
    "# df[df['cnloans']>=nloans].to_csv(f'pools_ge{nloans}_loans.csv',index=False)"
   ]
  },
  {
   "cell_type": "code",
   "execution_count": null,
   "metadata": {},
   "outputs": [],
   "source": [
    "len(df[df['cnloans']>1000])"
   ]
  },
  {
   "cell_type": "code",
   "execution_count": null,
   "metadata": {},
   "outputs": [],
   "source": [
    "df['Seasonality'] = df['asofdate'].apply(lambda x: int(str(x)[-2:]))"
   ]
  },
  {
   "cell_type": "code",
   "execution_count": null,
   "metadata": {},
   "outputs": [],
   "source": [
    "import datetime as dt\n",
    "\n",
    "df['asofdate'] = df['asofdate'].apply(lambda x: dt.date(int(str(x)[:4]),int(str(x)[-2:]),1))\n",
    "df['asofdate'].head()"
   ]
  },
  {
   "cell_type": "code",
   "execution_count": null,
   "metadata": {},
   "outputs": [],
   "source": [
    "simple_model_columns = ['SMM',\n",
    "                        'ONLoans','cnloans',\n",
    "                        'spread',\n",
    "                        'DayCount','Seasonality','factor',\n",
    "                        'Wac','Wam','Age',\n",
    "                        'aols','waols',\n",
    "                        'CSato',\n",
    "                        'fico',\n",
    "                        'cltv','ccltv',\n",
    "                        'dti',\n",
    "                        'PurpPct_purchase','PurpPct_refi',\n",
    "                        'PctChannel_Broker','PctChannel_Corr','PctChannel_Retail',\n",
    "                        'OccPct_investor','OccPct_owner','PropUnitsPct_2-4',\n",
    "                        \n",
    "                        'StatePct_AK','StatePct_AL','StatePct_AR','StatePct_AZ','StatePct_CA','StatePct_CO','StatePct_CT',\n",
    "                        'StatePct_DC','StatePct_DE','StatePct_FL','StatePct_GA','StatePct_GU','StatePct_HI','StatePct_IA',\n",
    "                        'StatePct_ID','StatePct_IL','StatePct_IN','StatePct_KS','StatePct_KY','StatePct_LA','StatePct_MA',\n",
    "                        'StatePct_MD','StatePct_ME','StatePct_MI','StatePct_MN','StatePct_MO','StatePct_MS','StatePct_MT',\n",
    "                        'StatePct_NC','StatePct_ND','StatePct_NE','StatePct_NH','StatePct_NJ','StatePct_NM','StatePct_NV',\n",
    "                        'StatePct_NY','StatePct_OH','StatePct_OK','StatePct_OR','StatePct_PA','StatePct_PR','StatePct_RI',\n",
    "                        'StatePct_SC','StatePct_SD','StatePct_TN','StatePct_TX','StatePct_UT','StatePct_VA','StatePct_VI',\n",
    "                        'StatePct_VT','StatePct_WA','StatePct_WI','StatePct_WV','StatePct_WY',\n",
    "                        \n",
    "                        'SellerPct_AMRHT','SellerPct_ALS','SellerPct_CAFULL','SellerPct_CNTL','SellerPct_CITIZ',\n",
    "                        'SellerPct_53','SellerPct_FIR','SellerPct_FRDOM','SellerPct_GUILD','SellerPct_CHASE',\n",
    "                        'SellerPct_LLSL','SellerPct_MATRX','SellerPct_NCM','SellerPct_NATIONST','SellerPct_NRESM',\n",
    "                        'SellerPct_PNYMAC','SellerPct_PILOSI','SellerPct_QUICK','SellerPct_REG','SellerPct_RMSC',\n",
    "                        'SellerPct_UNSHFI','SellerPct_WFHM']\n",
    "\n",
    "dfm = df[simple_model_columns]\n",
    "\n",
    "dfm = dfm[dfm['cnloans']>=250]\n",
    "\n",
    "#dfm = dfm[dfm['oltv']<=80]\n",
    "len(dfm)"
   ]
  },
  {
   "cell_type": "code",
   "execution_count": null,
   "metadata": {},
   "outputs": [],
   "source": [
    "dfm.dropna(inplace=True)\n",
    "\n",
    "dfm = dfm.drop(['ONLoans','cnloans'],axis=1)"
   ]
  },
  {
   "cell_type": "code",
   "execution_count": null,
   "metadata": {},
   "outputs": [],
   "source": [
    "dummies = pd.get_dummies(dfm['Seasonality'],drop_first=True)\n",
    "dfm = dfm.drop('Seasonality',axis=1)\n",
    "dfm = pd.concat([dfm,dummies],axis=1)\n",
    "\n",
    "dfm.head()"
   ]
  },
  {
   "cell_type": "code",
   "execution_count": null,
   "metadata": {},
   "outputs": [],
   "source": [
    "from sklearn.model_selection import train_test_split\n",
    "\n",
    "X = dfm.drop('SMM',axis=1)\n",
    "y = dfm['SMM']\n",
    "\n",
    "X_train, X_test, y_train, y_test = train_test_split(X, y, test_size=0.30)\n",
    "\n",
    "X_train.shape"
   ]
  },
  {
   "cell_type": "code",
   "execution_count": null,
   "metadata": {},
   "outputs": [],
   "source": [
    "from sklearn.preprocessing import MinMaxScaler\n",
    "\n",
    "scaler = MinMaxScaler()\n",
    "\n",
    "X_train = scaler.fit_transform(X_train)\n",
    "X_test = scaler.transform(X_test)"
   ]
  },
  {
   "cell_type": "code",
   "execution_count": null,
   "metadata": {},
   "outputs": [],
   "source": [
    "import tensorflow as tf\n",
    "from tensorflow.keras.models import Sequential\n",
    "from tensorflow.keras.layers import Dense,Activation,Dropout"
   ]
  },
  {
   "cell_type": "code",
   "execution_count": null,
   "metadata": {},
   "outputs": [],
   "source": [
    "model = Sequential()\n",
    "\n",
    "#input layer / first hidden layer\n",
    "model.add(Dense(512, input_dim=X_train.shape[1], activation='relu'))\n",
    "#model.add(Dropout(0.3))\n",
    "model.add(Dropout(0.5))\n",
    "\n",
    "# hidden layers\n",
    "model.add(Dense(256, activation='relu'))\n",
    "#model.add(Dropout(0.3))\n",
    "model.add(Dropout(0.5))\n",
    "\n",
    "model.add(Dense(128, activation='relu'))\n",
    "#model.add(Dropout(0.3))\n",
    "model.add(Dropout(0.5))\n",
    "\n",
    "model.add(Dense(64, activation='relu'))\n",
    "model.add(Dropout(0.3))\n",
    "# model.add(Dropout(0.5))\n",
    "\n",
    "#output layer\n",
    "model.add(Dense(1)) # no activation means linear activation a(x)=x\n",
    "\n",
    "model.compile(optimizer='adam', loss='mse')\n",
    "#model.compile(optimizer='rmsprop', loss='mse')"
   ]
  },
  {
   "cell_type": "code",
   "execution_count": null,
   "metadata": {},
   "outputs": [],
   "source": [
    "model.fit(x=X_train,\n",
    "          y=y_train.values,\n",
    "          validation_data=(X_test,y_test.values),\n",
    "          batch_size=1024,\n",
    "          epochs=130)"
   ]
  },
  {
   "cell_type": "code",
   "execution_count": null,
   "metadata": {},
   "outputs": [],
   "source": [
    "losses = pd.DataFrame(model.history.history)\n",
    "\n",
    "losses.plot(figsize=(16,4),grid=True)"
   ]
  },
  {
   "cell_type": "code",
   "execution_count": null,
   "metadata": {},
   "outputs": [],
   "source": [
    "from sklearn.metrics import mean_squared_error,mean_absolute_error,explained_variance_score"
   ]
  },
  {
   "cell_type": "code",
   "execution_count": null,
   "metadata": {},
   "outputs": [],
   "source": [
    "test_predictions = model.predict(X_test)"
   ]
  },
  {
   "cell_type": "code",
   "execution_count": null,
   "metadata": {},
   "outputs": [],
   "source": [
    "mean_absolute_error(y_test,test_predictions)"
   ]
  },
  {
   "cell_type": "code",
   "execution_count": null,
   "metadata": {},
   "outputs": [],
   "source": [
    "np.sqrt(mean_squared_error(y_test,test_predictions))"
   ]
  },
  {
   "cell_type": "code",
   "execution_count": null,
   "metadata": {},
   "outputs": [],
   "source": [
    "explained_variance_score(y_test,test_predictions)"
   ]
  },
  {
   "cell_type": "code",
   "execution_count": null,
   "metadata": {},
   "outputs": [],
   "source": [
    "plt.scatter(y_test,test_predictions)\n",
    "\n",
    "plt.plot(y_test,y_test,'r'); plt.grid()"
   ]
  },
  {
   "cell_type": "code",
   "execution_count": null,
   "metadata": {},
   "outputs": [],
   "source": [
    "train_predictions = model.predict(X_train)"
   ]
  },
  {
   "cell_type": "code",
   "execution_count": null,
   "metadata": {},
   "outputs": [],
   "source": [
    "mean_absolute_error(y_train,train_predictions)"
   ]
  },
  {
   "cell_type": "code",
   "execution_count": null,
   "metadata": {},
   "outputs": [],
   "source": [
    "np.sqrt(mean_squared_error(y_train,train_predictions))"
   ]
  },
  {
   "cell_type": "code",
   "execution_count": null,
   "metadata": {},
   "outputs": [],
   "source": [
    "explained_variance_score(y_train,train_predictions)"
   ]
  },
  {
   "cell_type": "code",
   "execution_count": null,
   "metadata": {},
   "outputs": [],
   "source": [
    "plt.scatter(y_train,train_predictions)\n",
    "\n",
    "plt.plot(y_train,y_train,'r'); plt.grid()"
   ]
  },
  {
   "cell_type": "code",
   "execution_count": null,
   "metadata": {},
   "outputs": [],
   "source": [
    "dfm_with_predictions = dfm\n",
    "dfm_with_predictions.head()"
   ]
  },
  {
   "cell_type": "code",
   "execution_count": null,
   "metadata": {},
   "outputs": [],
   "source": [
    "dfm_with_predictions['model SMM'] = model.predict(scaler.transform(dfm_with_predictions.drop('SMM',axis=1)))"
   ]
  },
  {
   "cell_type": "code",
   "execution_count": null,
   "metadata": {},
   "outputs": [],
   "source": [
    "dfm_with_predictions = dfm_with_predictions.join(df[['asofdate','cusip','CBal','Coupon']])"
   ]
  },
  {
   "cell_type": "code",
   "execution_count": null,
   "metadata": {
    "scrolled": true
   },
   "outputs": [],
   "source": [
    "dfm_with_predictions.head()"
   ]
  },
  {
   "cell_type": "code",
   "execution_count": null,
   "metadata": {},
   "outputs": [],
   "source": [
    "dfm_with_predictions['CBal'] = dfm_with_predictions['CBal'].apply(lambda x: float(x))"
   ]
  },
  {
   "cell_type": "code",
   "execution_count": null,
   "metadata": {},
   "outputs": [],
   "source": [
    "dfm_with_predictions['SMM x CBal'] = dfm_with_predictions.apply(lambda x: x['SMM']*x['CBal'],axis=1)\n",
    "dfm_with_predictions['model SMM x CBal'] = dfm_with_predictions.apply(lambda x: x['model SMM']*x['CBal'],axis=1)"
   ]
  },
  {
   "cell_type": "code",
   "execution_count": null,
   "metadata": {},
   "outputs": [],
   "source": [
    "dfm_with_predictions.head()"
   ]
  },
  {
   "cell_type": "code",
   "execution_count": null,
   "metadata": {},
   "outputs": [],
   "source": [
    "temp = dfm_with_predictions[['Coupon','asofdate','SMM x CBal','model SMM x CBal','CBal']]"
   ]
  },
  {
   "cell_type": "code",
   "execution_count": null,
   "metadata": {},
   "outputs": [],
   "source": [
    "temp = temp.groupby(['Coupon','asofdate']).sum()\n",
    "\n",
    "temp['total SMM'] = temp['SMM x CBal']/temp['CBal']\n",
    "temp['total model SMM'] = temp['model SMM x CBal']/temp['CBal']\n",
    "\n",
    "temp['CPR'] = 100*(1-(1-temp['total SMM']/100)**12)\n",
    "temp['model CPR'] = 100*(1-(1-temp['total model SMM']/100)**12)"
   ]
  },
  {
   "cell_type": "code",
   "execution_count": null,
   "metadata": {},
   "outputs": [],
   "source": [
    "temp.head()"
   ]
  },
  {
   "cell_type": "code",
   "execution_count": null,
   "metadata": {
    "tags": []
   },
   "outputs": [],
   "source": [
    "for i, row in temp.iterrows():    \n",
    "    print(f\"Prepay month = {i} | CPR = {np.round(row['CPR'],1)} | Model CPR = {np.round(row['model CPR'],1)}\")"
   ]
  },
  {
   "cell_type": "code",
   "execution_count": null,
   "metadata": {},
   "outputs": [],
   "source": [
    "fig = plt.figure(figsize=(16,16))\n",
    "\n",
    "for i in range(8):\n",
    "    ax = fig.add_subplot(8,1,i+1)\n",
    "    coupon = 2.5+i*0.5\n",
    "    temp[['CPR','model CPR']].unstack(level=0)[[('CPR',coupon),('model CPR',coupon)]].plot(ax=ax,grid=True)"
   ]
  },
  {
   "cell_type": "code",
   "execution_count": null,
   "metadata": {},
   "outputs": [],
   "source": []
  }
 ],
 "metadata": {
  "kernelspec": {
   "display_name": "Python 3",
   "language": "python",
   "name": "python3"
  },
  "language_info": {
   "codemirror_mode": {
    "name": "ipython",
    "version": 3
   },
   "file_extension": ".py",
   "mimetype": "text/x-python",
   "name": "python",
   "nbconvert_exporter": "python",
   "pygments_lexer": "ipython3",
   "version": "3.7.6-final"
  }
 },
 "nbformat": 4,
 "nbformat_minor": 2
}