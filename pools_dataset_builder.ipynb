{
 "cells": [
  {
   "cell_type": "code",
   "execution_count": 1,
   "metadata": {},
   "outputs": [],
   "source": [
    "import pandas as pd\n",
    "import numpy as np\n",
    "import matplotlib.pyplot as plt\n",
    "from matplotlib.backends.backend_pdf import PdfPages\n",
    "import seaborn as sns\n",
    "import time\n",
    "import imp\n",
    "import os\n",
    "import os, os.path\n",
    "import datetime as dt\n",
    "import dateutil.parser as dp\n",
    "import dill\n",
    "\n",
    "%matplotlib inline"
   ]
  },
  {
   "cell_type": "code",
   "execution_count": 2,
   "metadata": {},
   "outputs": [
    {
     "output_type": "stream",
     "name": "stdout",
     "text": [
      "# of attr files:  121\n# of geo pct files:  120\n# of seller pct files:  122\n"
     ]
    }
   ],
   "source": [
    "# Create lists of data files (3 groups: regular attributes, GEO, and Seller composition)\n",
    "pools_attributes_files = list()\n",
    "for root, dirs, files in os.walk(\"C:/Users/YuriTurygin/Desktop/NN-PPM/data/pools attributes\"):\n",
    "    for name in files:\n",
    "        pools_attributes_files.append(os.path.join(root, name))        \n",
    "        \n",
    "pools_geo_pct_files = list()\n",
    "for root, dirs, files in os.walk(\"C:/Users/YuriTurygin/Desktop/NN-PPM/data/geo pct\"):\n",
    "    for name in files:\n",
    "        pools_geo_pct_files.append(os.path.join(root, name))  \n",
    "        \n",
    "pools_seller_pct_files = list()\n",
    "for root, dirs, files in os.walk(\"C:/Users/YuriTurygin/Desktop/NN-PPM/data/seller pct\"):\n",
    "    for name in files:\n",
    "        pools_seller_pct_files.append(os.path.join(root, name)) \n",
    "        \n",
    "print(\"# of attr files: \",len(pools_attributes_files))\n",
    "print(\"# of geo pct files: \",len(pools_geo_pct_files))\n",
    "print(\"# of seller pct files: \",len(pools_seller_pct_files))"
   ]
  },
  {
   "cell_type": "code",
   "execution_count": 3,
   "metadata": {},
   "outputs": [],
   "source": [
    "# Read in all files with regular pool attributes\n",
    "attr_df = pd.DataFrame()\n",
    "for file in pools_attributes_files:\n",
    "    one_month_issue_pools = pd.read_csv(file)\n",
    "    if len(attr_df)==0:\n",
    "        attr_df = one_month_issue_pools\n",
    "    else:\n",
    "        # df1.columns.difference(df2.columns)\n",
    "        # df2.columns.difference(df1.columns)\n",
    "        if all(attr_df.columns == one_month_issue_pools.columns):\n",
    "            attr_df = pd.concat([attr_df,one_month_issue_pools])\n",
    "        else:\n",
    "            print(f'columns missmatch for {file}')\n",
    "\n",
    "    #print('Done loading ' + file)"
   ]
  },
  {
   "cell_type": "code",
   "execution_count": 4,
   "metadata": {},
   "outputs": [
    {
     "output_type": "execute_result",
     "data": {
      "text/plain": [
       "Index(['poolno', 'asofdate', 'cusip', 'Prefix', 'spread', 'Cpr1', 'Cpr3',\n",
       "       'Cpr6', 'Cpr12', 'Cpr24', 'CprLife', 'SMM', 'DayCount', 'OBal', 'CBal',\n",
       "       'pbal', 'paydown', 'Prepay', 'factor', 'OCoupon', 'Coupon', 'OWac',\n",
       "       'Wac', 'Wam', 'Age', 'aols', 'waols', 'ONLoans', 'cnloans', 'PCNLoans',\n",
       "       'PPNLoans', 'OSato', 'CSato', 'oltv', 'cltv', '%cltv_80', '%cltv_105',\n",
       "       '%cltv_125', '%ccltv_80', '%ccltv_105', '%ccltv_125', 'fico',\n",
       "       '%FedHold', '%CMOHold', 'dti', 'codti', '%CashWindow', '%Majors',\n",
       "       'ocltv', 'ccltv', 'PurpPct_purchase', 'PurpPct_refi',\n",
       "       'PctChannel_Broker', 'PctChannel_Corr', 'PctChannel_Retail',\n",
       "       'OccPct_investor', 'OccPct_owner', 'PropUnitsPct_2-4', 'Label'],\n",
       "      dtype='object')"
      ]
     },
     "metadata": {},
     "execution_count": 4
    }
   ],
   "source": [
    "attr_df.columns"
   ]
  },
  {
   "cell_type": "code",
   "execution_count": 5,
   "metadata": {},
   "outputs": [
    {
     "output_type": "execute_result",
     "data": {
      "text/plain": [
       "10143061"
      ]
     },
     "metadata": {},
     "execution_count": 5
    }
   ],
   "source": [
    "len(attr_df)"
   ]
  },
  {
   "cell_type": "code",
   "execution_count": 6,
   "metadata": {},
   "outputs": [],
   "source": [
    "#dill.dump_session('notebook_env_just_attributes.db')"
   ]
  },
  {
   "cell_type": "code",
   "execution_count": 7,
   "metadata": {},
   "outputs": [],
   "source": [
    "# Read in all files with pools GEO info\n",
    "geo_df = pd.DataFrame()\n",
    "for file in pools_geo_pct_files:\n",
    "    one_month_issue_pools = pd.read_csv(file)\n",
    "    if len(geo_df)==0:\n",
    "        geo_df = one_month_issue_pools\n",
    "    else:\n",
    "        # df1.columns.difference(df2.columns)\n",
    "        # df2.columns.difference(df1.columns)\n",
    "        if all(geo_df.columns == one_month_issue_pools.columns):\n",
    "            geo_df = pd.concat([geo_df,one_month_issue_pools])\n",
    "        else:\n",
    "            print(f'columns missmatch for {file}')\n",
    "\n",
    "    #print('Done loading ' + file)"
   ]
  },
  {
   "cell_type": "code",
   "execution_count": 8,
   "metadata": {},
   "outputs": [
    {
     "output_type": "execute_result",
     "data": {
      "text/plain": [
       "Index(['poolno', 'asofdate', 'cusip', 'StatePct_AK', 'StatePct_AL',\n",
       "       'StatePct_AR', 'StatePct_AZ', 'StatePct_CA', 'StatePct_CO',\n",
       "       'StatePct_CT', 'StatePct_DC', 'StatePct_DE', 'StatePct_FL',\n",
       "       'StatePct_GA', 'StatePct_GU', 'StatePct_HI', 'StatePct_IA',\n",
       "       'StatePct_ID', 'StatePct_IL', 'StatePct_IN', 'StatePct_KS',\n",
       "       'StatePct_KY', 'StatePct_LA', 'StatePct_MA', 'StatePct_MD',\n",
       "       'StatePct_ME', 'StatePct_MI', 'StatePct_MN', 'StatePct_MO',\n",
       "       'StatePct_MS', 'StatePct_MT', 'StatePct_NC', 'StatePct_ND',\n",
       "       'StatePct_NE', 'StatePct_NH', 'StatePct_NJ', 'StatePct_NM',\n",
       "       'StatePct_NV', 'StatePct_NY', 'StatePct_OH', 'StatePct_OK',\n",
       "       'StatePct_OR', 'StatePct_PA', 'StatePct_PR', 'StatePct_RI',\n",
       "       'StatePct_SC', 'StatePct_SD', 'StatePct_TN', 'StatePct_TX',\n",
       "       'StatePct_UT', 'StatePct_VA', 'StatePct_VI', 'StatePct_VT',\n",
       "       'StatePct_WA', 'StatePct_WI', 'StatePct_WV', 'StatePct_WY', 'Label'],\n",
       "      dtype='object')"
      ]
     },
     "metadata": {},
     "execution_count": 8
    }
   ],
   "source": [
    "geo_df.columns"
   ]
  },
  {
   "cell_type": "code",
   "execution_count": 9,
   "metadata": {},
   "outputs": [
    {
     "output_type": "execute_result",
     "data": {
      "text/plain": [
       "9929896"
      ]
     },
     "metadata": {},
     "execution_count": 9
    }
   ],
   "source": [
    "len(geo_df)"
   ]
  },
  {
   "cell_type": "code",
   "execution_count": 10,
   "metadata": {},
   "outputs": [],
   "source": [
    "#dill.dump_session('notebook_env_attr_and_geo.db')"
   ]
  },
  {
   "cell_type": "code",
   "execution_count": 11,
   "metadata": {},
   "outputs": [],
   "source": [
    "# Read in all files with pools Seller info\n",
    "seller_df = pd.DataFrame()\n",
    "for file in pools_seller_pct_files:\n",
    "    one_month_issue_pools = pd.read_csv(file)\n",
    "    if len(seller_df)==0:\n",
    "        seller_df = one_month_issue_pools\n",
    "    else:\n",
    "        # df1.columns.difference(df2.columns)\n",
    "        # df2.columns.difference(df1.columns)\n",
    "        if all(seller_df.columns == one_month_issue_pools.columns):\n",
    "            seller_df = pd.concat([seller_df,one_month_issue_pools])\n",
    "        else:\n",
    "            print(f'columns missmatch for {file}')\n",
    "    #print('Done loading ' + file)"
   ]
  },
  {
   "cell_type": "code",
   "execution_count": 12,
   "metadata": {},
   "outputs": [
    {
     "output_type": "execute_result",
     "data": {
      "text/plain": [
       "Index(['poolno', 'asofdate', 'SellerPct_AMRHT', 'SellerPct_ALS',\n",
       "       'SellerPct_CAFULL', 'SellerPct_CNTL', 'SellerPct_CITIZ', 'SellerPct_53',\n",
       "       'SellerPct_FIR', 'SellerPct_FRDOM', 'SellerPct_GUILD',\n",
       "       'SellerPct_CHASE', 'SellerPct_LLSL', 'SellerPct_MATRX', 'SellerPct_NCM',\n",
       "       'SellerPct_NATIONST', 'SellerPct_NRESM', 'SellerPct_PNYMAC',\n",
       "       'SellerPct_PILOSI', 'SellerPct_QUICK', 'SellerPct_REG',\n",
       "       'SellerPct_RMSC', 'SellerPct_UNSHFI', 'SellerPct_WFHM', 'cusip',\n",
       "       'Prefix', 'Label'],\n",
       "      dtype='object')"
      ]
     },
     "metadata": {},
     "execution_count": 12
    }
   ],
   "source": [
    "seller_df.columns"
   ]
  },
  {
   "cell_type": "code",
   "execution_count": 13,
   "metadata": {},
   "outputs": [
    {
     "output_type": "execute_result",
     "data": {
      "text/plain": [
       "9636863"
      ]
     },
     "metadata": {},
     "execution_count": 13
    }
   ],
   "source": [
    "len(seller_df)"
   ]
  },
  {
   "cell_type": "code",
   "execution_count": 14,
   "metadata": {},
   "outputs": [],
   "source": [
    "#dill.dump_session('notebook_env_all_3_dfs.db')"
   ]
  },
  {
   "cell_type": "code",
   "execution_count": 15,
   "metadata": {},
   "outputs": [
    {
     "output_type": "execute_result",
     "data": {
      "text/plain": [
       "(10143061, 59)"
      ]
     },
     "metadata": {},
     "execution_count": 15
    }
   ],
   "source": [
    "attr_df.shape"
   ]
  },
  {
   "cell_type": "code",
   "execution_count": 16,
   "metadata": {},
   "outputs": [],
   "source": [
    "attr_df.drop(['Prefix','Cpr1','Cpr3','Cpr6','Cpr12','Cpr24','CprLife','pbal','paydown','Prepay','OCoupon','OWac','PCNLoans','PPNLoans','OSato','%cltv_80','%cltv_105','%cltv_125','%ccltv_80','%ccltv_105','%ccltv_125','%FedHold','%CMOHold','dti','codti'],axis=1,inplace=True)"
   ]
  },
  {
   "cell_type": "code",
   "execution_count": 17,
   "metadata": {},
   "outputs": [],
   "source": [
    "attr_df.dropna(subset=['CBal','SMM','Wac','aols','fico','OccPct_investor','OccPct_owner','PropUnitsPct_2-4'],inplace=True)"
   ]
  },
  {
   "cell_type": "code",
   "execution_count": 18,
   "metadata": {},
   "outputs": [],
   "source": [
    "attr_df.sort_values(by=['poolno','asofdate'],inplace=True)"
   ]
  },
  {
   "cell_type": "code",
   "execution_count": 19,
   "metadata": {},
   "outputs": [],
   "source": [
    "attr_df.fillna(method='ffill',inplace=True)"
   ]
  },
  {
   "cell_type": "code",
   "execution_count": 20,
   "metadata": {},
   "outputs": [],
   "source": [
    "attr_df['CBal'] = attr_df['CBal'].apply(lambda x: float(x))"
   ]
  },
  {
   "cell_type": "code",
   "execution_count": 21,
   "metadata": {},
   "outputs": [],
   "source": [
    "attr_df.rename(columns={'Label':'pool_issue_month'},inplace=True)"
   ]
  },
  {
   "cell_type": "code",
   "execution_count": 22,
   "metadata": {},
   "outputs": [
    {
     "output_type": "stream",
     "name": "stdout",
     "text": [
      "<class 'pandas.core.frame.DataFrame'>\nInt64Index: 10113549 entries, 1482 to 164706\nData columns (total 34 columns):\n #   Column             Non-Null Count     Dtype  \n---  ------             --------------     -----  \n 0   poolno             10113549 non-null  object \n 1   asofdate           10113549 non-null  int64  \n 2   cusip              10113549 non-null  object \n 3   spread             10113549 non-null  float64\n 4   SMM                10113549 non-null  float64\n 5   DayCount           10113549 non-null  float64\n 6   OBal               10113549 non-null  float64\n 7   CBal               10113549 non-null  float64\n 8   factor             10113549 non-null  float64\n 9   Coupon             10113549 non-null  float64\n 10  Wac                10113549 non-null  float64\n 11  Wam                10113549 non-null  float64\n 12  Age                10113549 non-null  float64\n 13  aols               10113549 non-null  float64\n 14  waols              10113549 non-null  float64\n 15  ONLoans            10113549 non-null  float64\n 16  cnloans            10113549 non-null  float64\n 17  CSato              10113549 non-null  float64\n 18  oltv               10113549 non-null  float64\n 19  cltv               10113549 non-null  float64\n 20  fico               10113549 non-null  float64\n 21  %CashWindow        10113549 non-null  float64\n 22  %Majors            10113549 non-null  float64\n 23  ocltv              10113549 non-null  float64\n 24  ccltv              10113549 non-null  float64\n 25  PurpPct_purchase   10113549 non-null  float64\n 26  PurpPct_refi       10113549 non-null  float64\n 27  PctChannel_Broker  10113520 non-null  float64\n 28  PctChannel_Corr    10113520 non-null  float64\n 29  PctChannel_Retail  10113520 non-null  float64\n 30  OccPct_investor    10113549 non-null  float64\n 31  OccPct_owner       10113549 non-null  float64\n 32  PropUnitsPct_2-4   10113549 non-null  float64\n 33  pool_issue_month   10113549 non-null  int64  \ndtypes: float64(30), int64(2), object(2)\nmemory usage: 2.6+ GB\n"
     ]
    }
   ],
   "source": [
    "attr_df.info(verbose=True, null_counts=True)"
   ]
  },
  {
   "cell_type": "code",
   "execution_count": 23,
   "metadata": {},
   "outputs": [],
   "source": [
    "geo_df.drop('Label',axis=1,inplace=True)"
   ]
  },
  {
   "cell_type": "code",
   "execution_count": 24,
   "metadata": {},
   "outputs": [],
   "source": [
    "geo_df.sort_values(by=['poolno','asofdate'],inplace=True)"
   ]
  },
  {
   "cell_type": "code",
   "execution_count": 25,
   "metadata": {},
   "outputs": [],
   "source": [
    "geo_df.fillna(method='ffill',inplace=True)"
   ]
  },
  {
   "cell_type": "code",
   "execution_count": 26,
   "metadata": {},
   "outputs": [
    {
     "output_type": "stream",
     "name": "stdout",
     "text": [
      "<class 'pandas.core.frame.DataFrame'>\nInt64Index: 9929896 entries, 1482 to 164706\nData columns (total 57 columns):\n #   Column       Non-Null Count    Dtype  \n---  ------       --------------    -----  \n 0   poolno       9929896 non-null  object \n 1   asofdate     9929896 non-null  int64  \n 2   cusip        9929896 non-null  object \n 3   StatePct_AK  9929896 non-null  float64\n 4   StatePct_AL  9929896 non-null  object \n 5   StatePct_AR  9929896 non-null  float64\n 6   StatePct_AZ  9929896 non-null  float64\n 7   StatePct_CA  9929896 non-null  float64\n 8   StatePct_CO  9929896 non-null  object \n 9   StatePct_CT  9929896 non-null  float64\n 10  StatePct_DC  9929896 non-null  float64\n 11  StatePct_DE  9929896 non-null  float64\n 12  StatePct_FL  9929896 non-null  float64\n 13  StatePct_GA  9929896 non-null  float64\n 14  StatePct_GU  9929896 non-null  float64\n 15  StatePct_HI  9929896 non-null  float64\n 16  StatePct_IA  9929896 non-null  float64\n 17  StatePct_ID  9929896 non-null  float64\n 18  StatePct_IL  9929896 non-null  float64\n 19  StatePct_IN  9929896 non-null  float64\n 20  StatePct_KS  9929896 non-null  float64\n 21  StatePct_KY  9929896 non-null  float64\n 22  StatePct_LA  9929896 non-null  float64\n 23  StatePct_MA  9929896 non-null  float64\n 24  StatePct_MD  9929896 non-null  float64\n 25  StatePct_ME  9929896 non-null  object \n 26  StatePct_MI  9929896 non-null  float64\n 27  StatePct_MN  9929896 non-null  float64\n 28  StatePct_MO  9929896 non-null  float64\n 29  StatePct_MS  9929896 non-null  float64\n 30  StatePct_MT  9929896 non-null  object \n 31  StatePct_NC  9929896 non-null  float64\n 32  StatePct_ND  9929896 non-null  float64\n 33  StatePct_NE  9929896 non-null  float64\n 34  StatePct_NH  9929896 non-null  float64\n 35  StatePct_NJ  9929896 non-null  float64\n 36  StatePct_NM  9929896 non-null  float64\n 37  StatePct_NV  9929896 non-null  float64\n 38  StatePct_NY  9929896 non-null  float64\n 39  StatePct_OH  9929896 non-null  float64\n 40  StatePct_OK  9929896 non-null  float64\n 41  StatePct_OR  9929896 non-null  float64\n 42  StatePct_PA  9929896 non-null  float64\n 43  StatePct_PR  9929896 non-null  float64\n 44  StatePct_RI  9929896 non-null  float64\n 45  StatePct_SC  9929896 non-null  float64\n 46  StatePct_SD  9929896 non-null  float64\n 47  StatePct_TN  9929896 non-null  object \n 48  StatePct_TX  9929896 non-null  float64\n 49  StatePct_UT  9929896 non-null  float64\n 50  StatePct_VA  9929896 non-null  float64\n 51  StatePct_VI  9929896 non-null  float64\n 52  StatePct_VT  9929896 non-null  float64\n 53  StatePct_WA  9929896 non-null  float64\n 54  StatePct_WI  9929896 non-null  float64\n 55  StatePct_WV  9929896 non-null  float64\n 56  StatePct_WY  9929896 non-null  object \ndtypes: float64(48), int64(1), object(8)\nmemory usage: 4.3+ GB\n"
     ]
    }
   ],
   "source": [
    "geo_df.info(verbose=True, null_counts=True)"
   ]
  },
  {
   "cell_type": "code",
   "execution_count": 27,
   "metadata": {},
   "outputs": [],
   "source": [
    "geo_columns = ['StatePct_AK','StatePct_AL','StatePct_AR','StatePct_AZ','StatePct_CA','StatePct_CO','StatePct_CT',\n",
    "                'StatePct_DC','StatePct_DE','StatePct_FL','StatePct_GA','StatePct_GU','StatePct_HI','StatePct_IA',\n",
    "                'StatePct_ID','StatePct_IL','StatePct_IN','StatePct_KS','StatePct_KY','StatePct_LA','StatePct_MA',\n",
    "                'StatePct_MD','StatePct_ME','StatePct_MI','StatePct_MN','StatePct_MO','StatePct_MS','StatePct_MT',\n",
    "                'StatePct_NC','StatePct_ND','StatePct_NE','StatePct_NH','StatePct_NJ','StatePct_NM','StatePct_NV',\n",
    "                'StatePct_NY','StatePct_OH','StatePct_OK','StatePct_OR','StatePct_PA','StatePct_PR','StatePct_RI',\n",
    "                'StatePct_SC','StatePct_SD','StatePct_TN','StatePct_TX','StatePct_UT','StatePct_VA','StatePct_VI',\n",
    "                'StatePct_VT','StatePct_WA','StatePct_WI','StatePct_WV','StatePct_WY']"
   ]
  },
  {
   "cell_type": "code",
   "execution_count": 28,
   "metadata": {},
   "outputs": [],
   "source": [
    "def isfloat(value):\n",
    "  try:\n",
    "    float(value)\n",
    "    return True\n",
    "  except ValueError:\n",
    "    return False"
   ]
  },
  {
   "cell_type": "code",
   "execution_count": 29,
   "metadata": {},
   "outputs": [],
   "source": [
    "geo_df[geo_columns] = geo_df[geo_columns].applymap(lambda x: float(x) if isfloat(x) else np.nan)"
   ]
  },
  {
   "cell_type": "code",
   "execution_count": 30,
   "metadata": {},
   "outputs": [],
   "source": [
    "geo_df.fillna(0,inplace=True)"
   ]
  },
  {
   "cell_type": "code",
   "execution_count": 31,
   "metadata": {},
   "outputs": [
    {
     "output_type": "stream",
     "name": "stdout",
     "text": [
      "<class 'pandas.core.frame.DataFrame'>\nInt64Index: 9929896 entries, 1482 to 164706\nData columns (total 57 columns):\n #   Column       Non-Null Count    Dtype  \n---  ------       --------------    -----  \n 0   poolno       9929896 non-null  object \n 1   asofdate     9929896 non-null  int64  \n 2   cusip        9929896 non-null  object \n 3   StatePct_AK  9929896 non-null  float64\n 4   StatePct_AL  9929896 non-null  float64\n 5   StatePct_AR  9929896 non-null  float64\n 6   StatePct_AZ  9929896 non-null  float64\n 7   StatePct_CA  9929896 non-null  float64\n 8   StatePct_CO  9929896 non-null  float64\n 9   StatePct_CT  9929896 non-null  float64\n 10  StatePct_DC  9929896 non-null  float64\n 11  StatePct_DE  9929896 non-null  float64\n 12  StatePct_FL  9929896 non-null  float64\n 13  StatePct_GA  9929896 non-null  float64\n 14  StatePct_GU  9929896 non-null  float64\n 15  StatePct_HI  9929896 non-null  float64\n 16  StatePct_IA  9929896 non-null  float64\n 17  StatePct_ID  9929896 non-null  float64\n 18  StatePct_IL  9929896 non-null  float64\n 19  StatePct_IN  9929896 non-null  float64\n 20  StatePct_KS  9929896 non-null  float64\n 21  StatePct_KY  9929896 non-null  float64\n 22  StatePct_LA  9929896 non-null  float64\n 23  StatePct_MA  9929896 non-null  float64\n 24  StatePct_MD  9929896 non-null  float64\n 25  StatePct_ME  9929896 non-null  float64\n 26  StatePct_MI  9929896 non-null  float64\n 27  StatePct_MN  9929896 non-null  float64\n 28  StatePct_MO  9929896 non-null  float64\n 29  StatePct_MS  9929896 non-null  float64\n 30  StatePct_MT  9929896 non-null  float64\n 31  StatePct_NC  9929896 non-null  float64\n 32  StatePct_ND  9929896 non-null  float64\n 33  StatePct_NE  9929896 non-null  float64\n 34  StatePct_NH  9929896 non-null  float64\n 35  StatePct_NJ  9929896 non-null  float64\n 36  StatePct_NM  9929896 non-null  float64\n 37  StatePct_NV  9929896 non-null  float64\n 38  StatePct_NY  9929896 non-null  float64\n 39  StatePct_OH  9929896 non-null  float64\n 40  StatePct_OK  9929896 non-null  float64\n 41  StatePct_OR  9929896 non-null  float64\n 42  StatePct_PA  9929896 non-null  float64\n 43  StatePct_PR  9929896 non-null  float64\n 44  StatePct_RI  9929896 non-null  float64\n 45  StatePct_SC  9929896 non-null  float64\n 46  StatePct_SD  9929896 non-null  float64\n 47  StatePct_TN  9929896 non-null  float64\n 48  StatePct_TX  9929896 non-null  float64\n 49  StatePct_UT  9929896 non-null  float64\n 50  StatePct_VA  9929896 non-null  float64\n 51  StatePct_VI  9929896 non-null  float64\n 52  StatePct_VT  9929896 non-null  float64\n 53  StatePct_WA  9929896 non-null  float64\n 54  StatePct_WI  9929896 non-null  float64\n 55  StatePct_WV  9929896 non-null  float64\n 56  StatePct_WY  9929896 non-null  float64\ndtypes: float64(54), int64(1), object(2)\nmemory usage: 4.3+ GB\n"
     ]
    }
   ],
   "source": [
    "geo_df.info(verbose=True, null_counts=True)"
   ]
  },
  {
   "cell_type": "code",
   "execution_count": 32,
   "metadata": {},
   "outputs": [
    {
     "output_type": "stream",
     "name": "stdout",
     "text": [
      "<class 'pandas.core.frame.DataFrame'>\nInt64Index: 9636863 entries, 0 to 1283\nData columns (total 27 columns):\n #   Column              Non-Null Count    Dtype  \n---  ------              --------------    -----  \n 0   poolno              9636863 non-null  object \n 1   asofdate            9636863 non-null  int64  \n 2   SellerPct_AMRHT     9634381 non-null  object \n 3   SellerPct_ALS       9634376 non-null  float64\n 4   SellerPct_CAFULL    9634376 non-null  float64\n 5   SellerPct_CNTL      9634373 non-null  float64\n 6   SellerPct_CITIZ     9634373 non-null  float64\n 7   SellerPct_53        9634373 non-null  float64\n 8   SellerPct_FIR       9634355 non-null  float64\n 9   SellerPct_FRDOM     9634355 non-null  float64\n 10  SellerPct_GUILD     9634355 non-null  object \n 11  SellerPct_CHASE     9634348 non-null  float64\n 12  SellerPct_LLSL      9634348 non-null  float64\n 13  SellerPct_MATRX     9634348 non-null  object \n 14  SellerPct_NCM       9634334 non-null  float64\n 15  SellerPct_NATIONST  9634334 non-null  float64\n 16  SellerPct_NRESM     9634331 non-null  object \n 17  SellerPct_PNYMAC    9634327 non-null  float64\n 18  SellerPct_PILOSI    9634327 non-null  float64\n 19  SellerPct_QUICK     9634309 non-null  object \n 20  SellerPct_REG       9634308 non-null  float64\n 21  SellerPct_RMSC      9634308 non-null  float64\n 22  SellerPct_UNSHFI    9634295 non-null  float64\n 23  SellerPct_WFHM      9634295 non-null  float64\n 24  cusip               9636768 non-null  object \n 25  Prefix              9636730 non-null  object \n 26  Label               9636863 non-null  int64  \ndtypes: float64(17), int64(2), object(8)\nmemory usage: 2.0+ GB\n"
     ]
    }
   ],
   "source": [
    "seller_df.info(verbose=True, null_counts=True)"
   ]
  },
  {
   "cell_type": "code",
   "execution_count": 33,
   "metadata": {},
   "outputs": [],
   "source": [
    "seller_df.drop(['Label','Prefix'],axis=1,inplace=True)"
   ]
  },
  {
   "cell_type": "code",
   "execution_count": 34,
   "metadata": {},
   "outputs": [],
   "source": [
    "seller_df.sort_values(by=['poolno','asofdate'],inplace=True)"
   ]
  },
  {
   "cell_type": "code",
   "execution_count": 35,
   "metadata": {},
   "outputs": [],
   "source": [
    "seller_df.fillna(method='ffill',inplace=True)"
   ]
  },
  {
   "cell_type": "code",
   "execution_count": 36,
   "metadata": {},
   "outputs": [],
   "source": [
    "seller_columns = ['SellerPct_AMRHT','SellerPct_ALS','SellerPct_CAFULL','SellerPct_CNTL','SellerPct_CITIZ',\n",
    "                  'SellerPct_53','SellerPct_FIR','SellerPct_FRDOM','SellerPct_GUILD','SellerPct_CHASE',\n",
    "                  'SellerPct_LLSL','SellerPct_MATRX','SellerPct_NCM','SellerPct_NATIONST','SellerPct_NRESM',\n",
    "                  'SellerPct_PNYMAC','SellerPct_PILOSI','SellerPct_QUICK','SellerPct_REG','SellerPct_RMSC',\n",
    "                  'SellerPct_UNSHFI','SellerPct_WFHM']"
   ]
  },
  {
   "cell_type": "code",
   "execution_count": 37,
   "metadata": {},
   "outputs": [],
   "source": [
    "seller_df[seller_columns] = seller_df[seller_columns].applymap(lambda x: float(x) if isfloat(x) else np.nan)"
   ]
  },
  {
   "cell_type": "code",
   "execution_count": 38,
   "metadata": {},
   "outputs": [],
   "source": [
    "seller_df.fillna(0,inplace=True)"
   ]
  },
  {
   "cell_type": "code",
   "execution_count": 39,
   "metadata": {},
   "outputs": [
    {
     "output_type": "stream",
     "name": "stdout",
     "text": [
      "<class 'pandas.core.frame.DataFrame'>\nInt64Index: 9636863 entries, 1482 to 136071\nData columns (total 25 columns):\n #   Column              Non-Null Count    Dtype  \n---  ------              --------------    -----  \n 0   poolno              9636863 non-null  object \n 1   asofdate            9636863 non-null  int64  \n 2   SellerPct_AMRHT     9636863 non-null  float64\n 3   SellerPct_ALS       9636863 non-null  float64\n 4   SellerPct_CAFULL    9636863 non-null  float64\n 5   SellerPct_CNTL      9636863 non-null  float64\n 6   SellerPct_CITIZ     9636863 non-null  float64\n 7   SellerPct_53        9636863 non-null  float64\n 8   SellerPct_FIR       9636863 non-null  float64\n 9   SellerPct_FRDOM     9636863 non-null  float64\n 10  SellerPct_GUILD     9636863 non-null  float64\n 11  SellerPct_CHASE     9636863 non-null  float64\n 12  SellerPct_LLSL      9636863 non-null  float64\n 13  SellerPct_MATRX     9636863 non-null  float64\n 14  SellerPct_NCM       9636863 non-null  float64\n 15  SellerPct_NATIONST  9636863 non-null  float64\n 16  SellerPct_NRESM     9636863 non-null  float64\n 17  SellerPct_PNYMAC    9636863 non-null  float64\n 18  SellerPct_PILOSI    9636863 non-null  float64\n 19  SellerPct_QUICK     9636863 non-null  float64\n 20  SellerPct_REG       9636863 non-null  float64\n 21  SellerPct_RMSC      9636863 non-null  float64\n 22  SellerPct_UNSHFI    9636863 non-null  float64\n 23  SellerPct_WFHM      9636863 non-null  float64\n 24  cusip               9636863 non-null  object \ndtypes: float64(22), int64(1), object(2)\nmemory usage: 1.9+ GB\n"
     ]
    }
   ],
   "source": [
    "seller_df.info(verbose=True, null_counts=True)"
   ]
  },
  {
   "cell_type": "code",
   "execution_count": 40,
   "metadata": {},
   "outputs": [],
   "source": [
    "df = pd.merge(attr_df,geo_df,on=['cusip','asofdate'],how='left')"
   ]
  },
  {
   "cell_type": "code",
   "execution_count": 43,
   "metadata": {
    "tags": [
     "outputPrepend"
    ]
   },
   "outputs": [
    {
     "output_type": "stream",
     "name": "stdout",
     "text": [
      "bers differ row=1119359 | pool_x=AD9363 | pool_y=nan\n",
      "pool numbers differ row=1119360 | pool_x=AD9363 | pool_y=nan\n",
      "pool numbers differ row=1119361 | pool_x=AD9363 | pool_y=nan\n",
      "pool numbers differ row=1119362 | pool_x=AD9363 | pool_y=nan\n",
      "pool numbers differ row=1119363 | pool_x=AD9363 | pool_y=nan\n",
      "pool numbers differ row=1119364 | pool_x=AD9363 | pool_y=nan\n",
      "pool numbers differ row=1119365 | pool_x=AD9363 | pool_y=nan\n",
      "pool numbers differ row=1119366 | pool_x=AD9363 | pool_y=nan\n",
      "pool numbers differ row=1119367 | pool_x=AD9363 | pool_y=nan\n",
      "pool numbers differ row=1119368 | pool_x=AD9363 | pool_y=nan\n",
      "pool numbers differ row=1119422 | pool_x=AD9364 | pool_y=nan\n",
      "pool numbers differ row=1119423 | pool_x=AD9364 | pool_y=nan\n",
      "pool numbers differ row=1119424 | pool_x=AD9364 | pool_y=nan\n",
      "pool numbers differ row=1119425 | pool_x=AD9364 | pool_y=nan\n",
      "pool numbers differ row=1119426 | pool_x=AD9364 | pool_y=nan\n",
      "pool numbers differ row=1119427 | pool_x=AD9364 | pool_y=nan\n",
      "pool numbers differ row=1119428 | pool_x=AD9364 | pool_y=nan\n",
      "pool numbers differ row=1119429 | pool_x=AD9364 | pool_y=nan\n",
      "pool numbers differ row=1119430 | pool_x=AD9364 | pool_y=nan\n",
      "pool numbers differ row=1119431 | pool_x=AD9364 | pool_y=nan\n",
      "pool numbers differ row=1119432 | pool_x=AD9364 | pool_y=nan\n",
      "pool numbers differ row=1119433 | pool_x=AD9364 | pool_y=nan\n",
      "pool numbers differ row=1119470 | pool_x=AD9364 | pool_y=nan\n",
      "pool numbers differ row=1119471 | pool_x=AD9364 | pool_y=nan\n",
      "pool numbers differ row=1119472 | pool_x=AD9364 | pool_y=nan\n",
      "pool numbers differ row=1119473 | pool_x=AD9364 | pool_y=nan\n",
      "pool numbers differ row=1119474 | pool_x=AD9364 | pool_y=nan\n",
      "pool numbers differ row=1119475 | pool_x=AD9364 | pool_y=nan\n",
      "pool numbers differ row=1119476 | pool_x=AD9364 | pool_y=nan\n",
      "pool numbers differ row=1119477 | pool_x=AD9364 | pool_y=nan\n",
      "pool numbers differ row=1119478 | pool_x=AD9364 | pool_y=nan\n",
      "pool numbers differ row=1119479 | pool_x=AD9364 | pool_y=nan\n",
      "pool numbers differ row=1119480 | pool_x=AD9364 | pool_y=nan\n",
      "pool numbers differ row=1119481 | pool_x=AD9364 | pool_y=nan\n",
      "pool numbers differ row=1119535 | pool_x=AD9365 | pool_y=nan\n",
      "pool numbers differ row=1119536 | pool_x=AD9365 | pool_y=nan\n",
      "pool numbers differ row=1119537 | pool_x=AD9365 | pool_y=nan\n",
      "pool numbers differ row=1119538 | pool_x=AD9365 | pool_y=nan\n",
      "pool numbers differ row=1119539 | pool_x=AD9365 | pool_y=nan\n",
      "pool numbers differ row=1119540 | pool_x=AD9365 | pool_y=nan\n",
      "pool numbers differ row=1119541 | pool_x=AD9365 | pool_y=nan\n",
      "pool numbers differ row=1119542 | pool_x=AD9365 | pool_y=nan\n",
      "pool numbers differ row=1119543 | pool_x=AD9365 | pool_y=nan\n",
      "pool numbers differ row=1119544 | pool_x=AD9365 | pool_y=nan\n",
      "pool numbers differ row=1119545 | pool_x=AD9365 | pool_y=nan\n",
      "pool numbers differ row=1119546 | pool_x=AD9365 | pool_y=nan\n",
      "pool numbers differ row=1119583 | pool_x=AD9365 | pool_y=nan\n",
      "pool numbers differ row=1119584 | pool_x=AD9365 | pool_y=nan\n",
      "pool numbers differ row=1119585 | pool_x=AD9365 | pool_y=nan\n",
      "pool numbers differ row=1119586 | pool_x=AD9365 | pool_y=nan\n",
      "pool numbers differ row=1119587 | pool_x=AD9365 | pool_y=nan\n",
      "pool numbers differ row=1119588 | pool_x=AD9365 | pool_y=nan\n",
      "pool numbers differ row=1119589 | pool_x=AD9365 | pool_y=nan\n",
      "pool numbers differ row=1119590 | pool_x=AD9365 | pool_y=nan\n",
      "pool numbers differ row=1119591 | pool_x=AD9365 | pool_y=nan\n",
      "pool numbers differ row=1119592 | pool_x=AD9365 | pool_y=nan\n",
      "pool numbers differ row=1119593 | pool_x=AD9365 | pool_y=nan\n",
      "pool numbers differ row=1119594 | pool_x=AD9365 | pool_y=nan\n",
      "pool numbers differ row=1119761 | pool_x=AD9368 | pool_y=nan\n",
      "pool numbers differ row=1119762 | pool_x=AD9368 | pool_y=nan\n",
      "pool numbers differ row=1119763 | pool_x=AD9368 | pool_y=nan\n",
      "pool numbers differ row=1119764 | pool_x=AD9368 | pool_y=nan\n",
      "pool numbers differ row=1119765 | pool_x=AD9368 | pool_y=nan\n",
      "pool numbers differ row=1119766 | pool_x=AD9368 | pool_y=nan\n",
      "pool numbers differ row=1119767 | pool_x=AD9368 | pool_y=nan\n",
      "pool numbers differ row=1119768 | pool_x=AD9368 | pool_y=nan\n",
      "pool numbers differ row=1119769 | pool_x=AD9368 | pool_y=nan\n",
      "pool numbers differ row=1119770 | pool_x=AD9368 | pool_y=nan\n",
      "pool numbers differ row=1119771 | pool_x=AD9368 | pool_y=nan\n",
      "pool numbers differ row=1119772 | pool_x=AD9368 | pool_y=nan\n",
      "pool numbers differ row=1119809 | pool_x=AD9368 | pool_y=nan\n",
      "pool numbers differ row=1119810 | pool_x=AD9368 | pool_y=nan\n",
      "pool numbers differ row=1119811 | pool_x=AD9368 | pool_y=nan\n",
      "pool numbers differ row=1119812 | pool_x=AD9368 | pool_y=nan\n",
      "pool numbers differ row=1119813 | pool_x=AD9368 | pool_y=nan\n",
      "pool numbers differ row=1119814 | pool_x=AD9368 | pool_y=nan\n",
      "pool numbers differ row=1119815 | pool_x=AD9368 | pool_y=nan\n",
      "pool numbers differ row=1119816 | pool_x=AD9368 | pool_y=nan\n",
      "pool numbers differ row=1119817 | pool_x=AD9368 | pool_y=nan\n",
      "pool numbers differ row=1119818 | pool_x=AD9368 | pool_y=nan\n",
      "pool numbers differ row=1119819 | pool_x=AD9368 | pool_y=nan\n",
      "pool numbers differ row=1119820 | pool_x=AD9368 | pool_y=nan\n",
      "pool numbers differ row=1119874 | pool_x=AD9369 | pool_y=nan\n",
      "pool numbers differ row=1119875 | pool_x=AD9369 | pool_y=nan\n",
      "pool numbers differ row=1119876 | pool_x=AD9369 | pool_y=nan\n",
      "pool numbers differ row=1119877 | pool_x=AD9369 | pool_y=nan\n",
      "pool numbers differ row=1119878 | pool_x=AD9369 | pool_y=nan\n",
      "pool numbers differ row=1119879 | pool_x=AD9369 | pool_y=nan\n",
      "pool numbers differ row=1119880 | pool_x=AD9369 | pool_y=nan\n",
      "pool numbers differ row=1119881 | pool_x=AD9369 | pool_y=nan\n",
      "pool numbers differ row=1119882 | pool_x=AD9369 | pool_y=nan\n",
      "pool numbers differ row=1119883 | pool_x=AD9369 | pool_y=nan\n",
      "pool numbers differ row=1119884 | pool_x=AD9369 | pool_y=nan\n",
      "pool numbers differ row=1119885 | pool_x=AD9369 | pool_y=nan\n",
      "pool numbers differ row=1119922 | pool_x=AD9369 | pool_y=nan\n",
      "pool numbers differ row=1119923 | pool_x=AD9369 | pool_y=nan\n",
      "pool numbers differ row=1119924 | pool_x=AD9369 | pool_y=nan\n",
      "pool numbers differ row=1119925 | pool_x=AD9369 | pool_y=nan\n",
      "pool numbers differ row=1119926 | pool_x=AD9369 | pool_y=nan\n",
      "pool numbers differ row=1119927 | pool_x=AD9369 | pool_y=nan\n",
      "pool numbers differ row=1119928 | pool_x=AD9369 | pool_y=nan\n",
      "pool numbers differ row=1119929 | pool_x=AD9369 | pool_y=nan\n",
      "pool numbers differ row=1119930 | pool_x=AD9369 | pool_y=nan\n",
      "pool numbers differ row=1119931 | pool_x=AD9369 | pool_y=nan\n",
      "pool numbers differ row=1119932 | pool_x=AD9369 | pool_y=nan\n",
      "pool numbers differ row=1119933 | pool_x=AD9369 | pool_y=nan\n",
      "pool numbers differ row=1120100 | pool_x=AD9371 | pool_y=nan\n",
      "pool numbers differ row=1120101 | pool_x=AD9371 | pool_y=nan\n",
      "pool numbers differ row=1120102 | pool_x=AD9371 | pool_y=nan\n",
      "pool numbers differ row=1120103 | pool_x=AD9371 | pool_y=nan\n",
      "pool numbers differ row=1120104 | pool_x=AD9371 | pool_y=nan\n",
      "pool numbers differ row=1120105 | pool_x=AD9371 | pool_y=nan\n",
      "pool numbers differ row=1120106 | pool_x=AD9371 | pool_y=nan\n",
      "pool numbers differ row=1120107 | pool_x=AD9371 | pool_y=nan\n",
      "pool numbers differ row=1120108 | pool_x=AD9371 | pool_y=nan\n",
      "pool numbers differ row=1120109 | pool_x=AD9371 | pool_y=nan\n",
      "pool numbers differ row=1120110 | pool_x=AD9371 | pool_y=nan\n",
      "pool numbers differ row=1120111 | pool_x=AD9371 | pool_y=nan\n",
      "pool numbers differ row=1120148 | pool_x=AD9371 | pool_y=nan\n",
      "pool numbers differ row=1120149 | pool_x=AD9371 | pool_y=nan\n",
      "pool numbers differ row=1120150 | pool_x=AD9371 | pool_y=nan\n",
      "pool numbers differ row=1120151 | pool_x=AD9371 | pool_y=nan\n",
      "pool numbers differ row=1120152 | pool_x=AD9371 | pool_y=nan\n",
      "pool numbers differ row=1120153 | pool_x=AD9371 | pool_y=nan\n",
      "pool numbers differ row=1120154 | pool_x=AD9371 | pool_y=nan\n",
      "pool numbers differ row=1120155 | pool_x=AD9371 | pool_y=nan\n",
      "pool numbers differ row=1120156 | pool_x=AD9371 | pool_y=nan\n",
      "pool numbers differ row=1120157 | pool_x=AD9371 | pool_y=nan\n",
      "pool numbers differ row=1120158 | pool_x=AD9371 | pool_y=nan\n",
      "pool numbers differ row=1120159 | pool_x=AD9371 | pool_y=nan\n",
      "pool numbers differ row=1120213 | pool_x=AD9372 | pool_y=nan\n",
      "pool numbers differ row=1120214 | pool_x=AD9372 | pool_y=nan\n",
      "pool numbers differ row=1120215 | pool_x=AD9372 | pool_y=nan\n",
      "pool numbers differ row=1120216 | pool_x=AD9372 | pool_y=nan\n",
      "pool numbers differ row=1120217 | pool_x=AD9372 | pool_y=nan\n",
      "pool numbers differ row=1120218 | pool_x=AD9372 | pool_y=nan\n",
      "pool numbers differ row=1120219 | pool_x=AD9372 | pool_y=nan\n",
      "pool numbers differ row=1120220 | pool_x=AD9372 | pool_y=nan\n",
      "pool numbers differ row=1120221 | pool_x=AD9372 | pool_y=nan\n",
      "pool numbers differ row=1120222 | pool_x=AD9372 | pool_y=nan\n",
      "pool numbers differ row=1120223 | pool_x=AD9372 | pool_y=nan\n",
      "pool numbers differ row=1120224 | pool_x=AD9372 | pool_y=nan\n",
      "pool numbers differ row=1120261 | pool_x=AD9372 | pool_y=nan\n",
      "pool numbers differ row=1120262 | pool_x=AD9372 | pool_y=nan\n",
      "pool numbers differ row=1120263 | pool_x=AD9372 | pool_y=nan\n",
      "pool numbers differ row=1120264 | pool_x=AD9372 | pool_y=nan\n",
      "pool numbers differ row=1120265 | pool_x=AD9372 | pool_y=nan\n",
      "pool numbers differ row=1120266 | pool_x=AD9372 | pool_y=nan\n",
      "pool numbers differ row=1120267 | pool_x=AD9372 | pool_y=nan\n",
      "pool numbers differ row=1120268 | pool_x=AD9372 | pool_y=nan\n",
      "pool numbers differ row=1120269 | pool_x=AD9372 | pool_y=nan\n",
      "pool numbers differ row=1120270 | pool_x=AD9372 | pool_y=nan\n",
      "pool numbers differ row=1120271 | pool_x=AD9372 | pool_y=nan\n",
      "pool numbers differ row=1120272 | pool_x=AD9372 | pool_y=nan\n",
      "pool numbers differ row=1120326 | pool_x=AD9373 | pool_y=nan\n",
      "pool numbers differ row=1120327 | pool_x=AD9373 | pool_y=nan\n",
      "pool numbers differ row=1120328 | pool_x=AD9373 | pool_y=nan\n",
      "pool numbers differ row=1120329 | pool_x=AD9373 | pool_y=nan\n",
      "pool numbers differ row=1120330 | pool_x=AD9373 | pool_y=nan\n",
      "pool numbers differ row=1120331 | pool_x=AD9373 | pool_y=nan\n",
      "pool numbers differ row=1120332 | pool_x=AD9373 | pool_y=nan\n",
      "pool numbers differ row=1120333 | pool_x=AD9373 | pool_y=nan\n",
      "pool numbers differ row=1120334 | pool_x=AD9373 | pool_y=nan\n",
      "pool numbers differ row=1120335 | pool_x=AD9373 | pool_y=nan\n",
      "pool numbers differ row=1120336 | pool_x=AD9373 | pool_y=nan\n",
      "pool numbers differ row=1120337 | pool_x=AD9373 | pool_y=nan\n",
      "pool numbers differ row=1120374 | pool_x=AD9373 | pool_y=nan\n",
      "pool numbers differ row=1120375 | pool_x=AD9373 | pool_y=nan\n",
      "pool numbers differ row=1120376 | pool_x=AD9373 | pool_y=nan\n",
      "pool numbers differ row=1120377 | pool_x=AD9373 | pool_y=nan\n",
      "pool numbers differ row=1120378 | pool_x=AD9373 | pool_y=nan\n",
      "pool numbers differ row=1120379 | pool_x=AD9373 | pool_y=nan\n",
      "pool numbers differ row=1120380 | pool_x=AD9373 | pool_y=nan\n",
      "pool numbers differ row=1120381 | pool_x=AD9373 | pool_y=nan\n",
      "pool numbers differ row=1120382 | pool_x=AD9373 | pool_y=nan\n",
      "pool numbers differ row=1120383 | pool_x=AD9373 | pool_y=nan\n",
      "pool numbers differ row=1120384 | pool_x=AD9373 | pool_y=nan\n",
      "pool numbers differ row=1120385 | pool_x=AD9373 | pool_y=nan\n",
      "pool numbers differ row=1120439 | pool_x=AD9374 | pool_y=nan\n",
      "pool numbers differ row=1120440 | pool_x=AD9374 | pool_y=nan\n",
      "pool numbers differ row=1120441 | pool_x=AD9374 | pool_y=nan\n",
      "pool numbers differ row=1120442 | pool_x=AD9374 | pool_y=nan\n",
      "pool numbers differ row=1120443 | pool_x=AD9374 | pool_y=nan\n",
      "pool numbers differ row=1120444 | pool_x=AD9374 | pool_y=nan\n",
      "pool numbers differ row=1120445 | pool_x=AD9374 | pool_y=nan\n",
      "pool numbers differ row=1120446 | pool_x=AD9374 | pool_y=nan\n",
      "pool numbers differ row=1120447 | pool_x=AD9374 | pool_y=nan\n",
      "pool numbers differ row=1120448 | pool_x=AD9374 | pool_y=nan\n",
      "pool numbers differ row=1120449 | pool_x=AD9374 | pool_y=nan\n",
      "pool numbers differ row=1120450 | pool_x=AD9374 | pool_y=nan\n",
      "pool numbers differ row=1120487 | pool_x=AD9374 | pool_y=nan\n",
      "pool numbers differ row=1120488 | pool_x=AD9374 | pool_y=nan\n",
      "pool numbers differ row=1120489 | pool_x=AD9374 | pool_y=nan\n",
      "pool numbers differ row=1120490 | pool_x=AD9374 | pool_y=nan\n",
      "pool numbers differ row=1120491 | pool_x=AD9374 | pool_y=nan\n",
      "pool numbers differ row=1120492 | pool_x=AD9374 | pool_y=nan\n",
      "pool numbers differ row=1120658 | pool_x=AD9376 | pool_y=nan\n",
      "pool numbers differ row=1120659 | pool_x=AD9376 | pool_y=nan\n",
      "pool numbers differ row=1120660 | pool_x=AD9376 | pool_y=nan\n",
      "pool numbers differ row=1120661 | pool_x=AD9376 | pool_y=nan\n",
      "pool numbers differ row=1120662 | pool_x=AD9376 | pool_y=nan\n",
      "pool numbers differ row=1120663 | pool_x=AD9376 | pool_y=nan\n",
      "pool numbers differ row=1120664 | pool_x=AD9376 | pool_y=nan\n",
      "pool numbers differ row=1120665 | pool_x=AD9376 | pool_y=nan\n",
      "pool numbers differ row=1120666 | pool_x=AD9376 | pool_y=nan\n",
      "pool numbers differ row=1120667 | pool_x=AD9376 | pool_y=nan\n",
      "pool numbers differ row=1120668 | pool_x=AD9376 | pool_y=nan\n",
      "pool numbers differ row=1120669 | pool_x=AD9376 | pool_y=nan\n",
      "pool numbers differ row=1120706 | pool_x=AD9376 | pool_y=nan\n",
      "pool numbers differ row=1120707 | pool_x=AD9376 | pool_y=nan\n",
      "pool numbers differ row=1120708 | pool_x=AD9376 | pool_y=nan\n",
      "pool numbers differ row=1120709 | pool_x=AD9376 | pool_y=nan\n",
      "pool numbers differ row=1120710 | pool_x=AD9376 | pool_y=nan\n",
      "pool numbers differ row=1120711 | pool_x=AD9376 | pool_y=nan\n",
      "pool numbers differ row=1120712 | pool_x=AD9376 | pool_y=nan\n",
      "pool numbers differ row=1120713 | pool_x=AD9376 | pool_y=nan\n",
      "pool numbers differ row=1120714 | pool_x=AD9376 | pool_y=nan\n",
      "pool numbers differ row=1120715 | pool_x=AD9376 | pool_y=nan\n",
      "pool numbers differ row=1120716 | pool_x=AD9376 | pool_y=nan\n",
      "pool numbers differ row=1120717 | pool_x=AD9376 | pool_y=nan\n",
      "pool numbers differ row=1120884 | pool_x=AD9378 | pool_y=nan\n",
      "pool numbers differ row=1120885 | pool_x=AD9378 | pool_y=nan\n",
      "pool numbers differ row=1120886 | pool_x=AD9378 | pool_y=nan\n",
      "pool numbers differ row=1120887 | pool_x=AD9378 | pool_y=nan\n",
      "pool numbers differ row=1120888 | pool_x=AD9378 | pool_y=nan\n",
      "pool numbers differ row=1120889 | pool_x=AD9378 | pool_y=nan\n",
      "pool numbers differ row=1120890 | pool_x=AD9378 | pool_y=nan\n",
      "pool numbers differ row=1120891 | pool_x=AD9378 | pool_y=nan\n",
      "pool numbers differ row=1120892 | pool_x=AD9378 | pool_y=nan\n",
      "pool numbers differ row=1120893 | pool_x=AD9378 | pool_y=nan\n",
      "pool numbers differ row=1120894 | pool_x=AD9378 | pool_y=nan\n",
      "pool numbers differ row=1120895 | pool_x=AD9378 | pool_y=nan\n",
      "pool numbers differ row=1120932 | pool_x=AD9378 | pool_y=nan\n",
      "pool numbers differ row=1120933 | pool_x=AD9378 | pool_y=nan\n",
      "pool numbers differ row=1120934 | pool_x=AD9378 | pool_y=nan\n",
      "pool numbers differ row=1120935 | pool_x=AD9378 | pool_y=nan\n",
      "pool numbers differ row=1120936 | pool_x=AD9378 | pool_y=nan\n",
      "pool numbers differ row=1120937 | pool_x=AD9378 | pool_y=nan\n",
      "pool numbers differ row=1120938 | pool_x=AD9378 | pool_y=nan\n",
      "pool numbers differ row=1120939 | pool_x=AD9378 | pool_y=nan\n",
      "pool numbers differ row=1120940 | pool_x=AD9378 | pool_y=nan\n",
      "pool numbers differ row=1120941 | pool_x=AD9378 | pool_y=nan\n",
      "pool numbers differ row=1120942 | pool_x=AD9378 | pool_y=nan\n",
      "pool numbers differ row=1120943 | pool_x=AD9378 | pool_y=nan\n",
      "pool numbers differ row=1120997 | pool_x=AD9381 | pool_y=nan\n",
      "pool numbers differ row=1120998 | pool_x=AD9381 | pool_y=nan\n",
      "pool numbers differ row=1120999 | pool_x=AD9381 | pool_y=nan\n",
      "pool numbers differ row=1121000 | pool_x=AD9381 | pool_y=nan\n",
      "pool numbers differ row=1121001 | pool_x=AD9381 | pool_y=nan\n",
      "pool numbers differ row=1121002 | pool_x=AD9381 | pool_y=nan\n",
      "pool numbers differ row=1121003 | pool_x=AD9381 | pool_y=nan\n",
      "pool numbers differ row=1121004 | pool_x=AD9381 | pool_y=nan\n",
      "pool numbers differ row=1121005 | pool_x=AD9381 | pool_y=nan\n",
      "pool numbers differ row=1121006 | pool_x=AD9381 | pool_y=nan\n",
      "pool numbers differ row=1121007 | pool_x=AD9381 | pool_y=nan\n",
      "pool numbers differ row=1121008 | pool_x=AD9381 | pool_y=nan\n",
      "pool numbers differ row=1121045 | pool_x=AD9381 | pool_y=nan\n",
      "pool numbers differ row=1121046 | pool_x=AD9381 | pool_y=nan\n",
      "pool numbers differ row=1121047 | pool_x=AD9381 | pool_y=nan\n",
      "pool numbers differ row=1121048 | pool_x=AD9381 | pool_y=nan\n",
      "pool numbers differ row=1121049 | pool_x=AD9381 | pool_y=nan\n",
      "pool numbers differ row=1121050 | pool_x=AD9381 | pool_y=nan\n",
      "pool numbers differ row=1121051 | pool_x=AD9381 | pool_y=nan\n",
      "pool numbers differ row=1121052 | pool_x=AD9381 | pool_y=nan\n",
      "pool numbers differ row=1121053 | pool_x=AD9381 | pool_y=nan\n",
      "pool numbers differ row=1121054 | pool_x=AD9381 | pool_y=nan\n",
      "pool numbers differ row=1121055 | pool_x=AD9381 | pool_y=nan\n",
      "pool numbers differ row=1121056 | pool_x=AD9381 | pool_y=nan\n",
      "pool numbers differ row=1121223 | pool_x=AD9383 | pool_y=nan\n",
      "pool numbers differ row=1121224 | pool_x=AD9383 | pool_y=nan\n",
      "pool numbers differ row=1121225 | pool_x=AD9383 | pool_y=nan\n",
      "pool numbers differ row=1121226 | pool_x=AD9383 | pool_y=nan\n",
      "pool numbers differ row=1121227 | pool_x=AD9383 | pool_y=nan\n",
      "pool numbers differ row=1121228 | pool_x=AD9383 | pool_y=nan\n",
      "pool numbers differ row=1121229 | pool_x=AD9383 | pool_y=nan\n",
      "pool numbers differ row=1121230 | pool_x=AD9383 | pool_y=nan\n",
      "pool numbers differ row=1121231 | pool_x=AD9383 | pool_y=nan\n",
      "pool numbers differ row=1121232 | pool_x=AD9383 | pool_y=nan\n",
      "pool numbers differ row=1121233 | pool_x=AD9383 | pool_y=nan\n",
      "pool numbers differ row=1121234 | pool_x=AD9383 | pool_y=nan\n",
      "pool numbers differ row=1121271 | pool_x=AD9383 | pool_y=nan\n",
      "pool numbers differ row=1121272 | pool_x=AD9383 | pool_y=nan\n",
      "pool numbers differ row=1121273 | pool_x=AD9383 | pool_y=nan\n",
      "pool numbers differ row=1121274 | pool_x=AD9383 | pool_y=nan\n",
      "pool numbers differ row=1121275 | pool_x=AD9383 | pool_y=nan\n",
      "pool numbers differ row=1121276 | pool_x=AD9383 | pool_y=nan\n",
      "pool numbers differ row=1121277 | pool_x=AD9383 | pool_y=nan\n",
      "pool numbers differ row=1121278 | pool_x=AD9383 | pool_y=nan\n",
      "pool numbers differ row=1121279 | pool_x=AD9383 | pool_y=nan\n",
      "pool numbers differ row=1121280 | pool_x=AD9383 | pool_y=nan\n",
      "pool numbers differ row=1121281 | pool_x=AD9383 | pool_y=nan\n",
      "pool numbers differ row=1121282 | pool_x=AD9383 | pool_y=nan\n",
      "pool numbers differ row=1121788 | pool_x=AD9388 | pool_y=nan\n",
      "pool numbers differ row=1121789 | pool_x=AD9388 | pool_y=nan\n",
      "pool numbers differ row=1121790 | pool_x=AD9388 | pool_y=nan\n",
      "pool numbers differ row=1121791 | pool_x=AD9388 | pool_y=nan\n",
      "pool numbers differ row=1121792 | pool_x=AD9388 | pool_y=nan\n",
      "pool numbers differ row=1121793 | pool_x=AD9388 | pool_y=nan\n",
      "pool numbers differ row=1121794 | pool_x=AD9388 | pool_y=nan\n",
      "pool numbers differ row=1121795 | pool_x=AD9388 | pool_y=nan\n",
      "pool numbers differ row=1121796 | pool_x=AD9388 | pool_y=nan\n",
      "pool numbers differ row=1121797 | pool_x=AD9388 | pool_y=nan\n",
      "pool numbers differ row=1121798 | pool_x=AD9388 | pool_y=nan\n",
      "pool numbers differ row=1121799 | pool_x=AD9388 | pool_y=nan\n",
      "pool numbers differ row=1121836 | pool_x=AD9388 | pool_y=nan\n",
      "pool numbers differ row=1121837 | pool_x=AD9388 | pool_y=nan\n",
      "pool numbers differ row=1121838 | pool_x=AD9388 | pool_y=nan\n",
      "pool numbers differ row=1121839 | pool_x=AD9388 | pool_y=nan\n",
      "pool numbers differ row=1121840 | pool_x=AD9388 | pool_y=nan\n",
      "pool numbers differ row=1121841 | pool_x=AD9388 | pool_y=nan\n",
      "pool numbers differ row=1121842 | pool_x=AD9388 | pool_y=nan\n",
      "pool numbers differ row=1121843 | pool_x=AD9388 | pool_y=nan\n",
      "pool numbers differ row=1121844 | pool_x=AD9388 | pool_y=nan\n",
      "pool numbers differ row=1121845 | pool_x=AD9388 | pool_y=nan\n",
      "pool numbers differ row=1121846 | pool_x=AD9388 | pool_y=nan\n",
      "pool numbers differ row=1121847 | pool_x=AD9388 | pool_y=nan\n",
      "pool numbers differ row=1122282 | pool_x=AD9392 | pool_y=nan\n",
      "pool numbers differ row=1122283 | pool_x=AD9392 | pool_y=nan\n",
      "pool numbers differ row=1122284 | pool_x=AD9392 | pool_y=nan\n",
      "pool numbers differ row=1122285 | pool_x=AD9392 | pool_y=nan\n",
      "pool numbers differ row=1122286 | pool_x=AD9392 | pool_y=nan\n",
      "pool numbers differ row=1122287 | pool_x=AD9392 | pool_y=nan\n",
      "pool numbers differ row=1122288 | pool_x=AD9392 | pool_y=nan\n",
      "pool numbers differ row=1122289 | pool_x=AD9392 | pool_y=nan\n",
      "pool numbers differ row=1122290 | pool_x=AD9392 | pool_y=nan\n",
      "pool numbers differ row=1122291 | pool_x=AD9392 | pool_y=nan\n",
      "pool numbers differ row=1122292 | pool_x=AD9392 | pool_y=nan\n",
      "pool numbers differ row=1122293 | pool_x=AD9392 | pool_y=nan\n"
     ]
    },
    {
     "output_type": "error",
     "ename": "KeyboardInterrupt",
     "evalue": "",
     "traceback": [
      "\u001b[1;31m---------------------------------------------------------------------------\u001b[0m",
      "\u001b[1;31mKeyboardInterrupt\u001b[0m                         Traceback (most recent call last)",
      "\u001b[1;32m<ipython-input-43-16090c09f72d>\u001b[0m in \u001b[0;36m<module>\u001b[1;34m\u001b[0m\n\u001b[1;32m----> 1\u001b[1;33m \u001b[1;32mfor\u001b[0m \u001b[0mi\u001b[0m\u001b[1;33m,\u001b[0m\u001b[0mrow\u001b[0m \u001b[1;32min\u001b[0m \u001b[0mdf\u001b[0m\u001b[1;33m.\u001b[0m\u001b[0miterrows\u001b[0m\u001b[1;33m(\u001b[0m\u001b[1;33m)\u001b[0m\u001b[1;33m:\u001b[0m\u001b[1;33m\u001b[0m\u001b[1;33m\u001b[0m\u001b[0m\n\u001b[0m\u001b[0;32m      2\u001b[0m     \u001b[1;32mif\u001b[0m \u001b[0mrow\u001b[0m\u001b[1;33m[\u001b[0m\u001b[1;34m'poolno_x'\u001b[0m\u001b[1;33m]\u001b[0m \u001b[1;33m!=\u001b[0m \u001b[0mrow\u001b[0m\u001b[1;33m[\u001b[0m\u001b[1;34m'poolno_y'\u001b[0m\u001b[1;33m]\u001b[0m\u001b[1;33m:\u001b[0m\u001b[1;33m\u001b[0m\u001b[1;33m\u001b[0m\u001b[0m\n\u001b[0;32m      3\u001b[0m         \u001b[0mprint\u001b[0m\u001b[1;33m(\u001b[0m\u001b[1;34mf'pool numbers differ row={i} | pool_x={row[\"poolno_x\"]} | pool_y={row[\"poolno_y\"]}'\u001b[0m\u001b[1;33m)\u001b[0m\u001b[1;33m\u001b[0m\u001b[1;33m\u001b[0m\u001b[0m\n",
      "\u001b[1;32m~\\Anaconda3\\lib\\site-packages\\pandas\\core\\frame.py\u001b[0m in \u001b[0;36miterrows\u001b[1;34m(self)\u001b[0m\n\u001b[0;32m    950\u001b[0m         \u001b[0mklass\u001b[0m \u001b[1;33m=\u001b[0m \u001b[0mself\u001b[0m\u001b[1;33m.\u001b[0m\u001b[0m_constructor_sliced\u001b[0m\u001b[1;33m\u001b[0m\u001b[1;33m\u001b[0m\u001b[0m\n\u001b[0;32m    951\u001b[0m         \u001b[1;32mfor\u001b[0m \u001b[0mk\u001b[0m\u001b[1;33m,\u001b[0m \u001b[0mv\u001b[0m \u001b[1;32min\u001b[0m \u001b[0mzip\u001b[0m\u001b[1;33m(\u001b[0m\u001b[0mself\u001b[0m\u001b[1;33m.\u001b[0m\u001b[0mindex\u001b[0m\u001b[1;33m,\u001b[0m \u001b[0mself\u001b[0m\u001b[1;33m.\u001b[0m\u001b[0mvalues\u001b[0m\u001b[1;33m)\u001b[0m\u001b[1;33m:\u001b[0m\u001b[1;33m\u001b[0m\u001b[1;33m\u001b[0m\u001b[0m\n\u001b[1;32m--> 952\u001b[1;33m             \u001b[0ms\u001b[0m \u001b[1;33m=\u001b[0m \u001b[0mklass\u001b[0m\u001b[1;33m(\u001b[0m\u001b[0mv\u001b[0m\u001b[1;33m,\u001b[0m \u001b[0mindex\u001b[0m\u001b[1;33m=\u001b[0m\u001b[0mcolumns\u001b[0m\u001b[1;33m,\u001b[0m \u001b[0mname\u001b[0m\u001b[1;33m=\u001b[0m\u001b[0mk\u001b[0m\u001b[1;33m)\u001b[0m\u001b[1;33m\u001b[0m\u001b[1;33m\u001b[0m\u001b[0m\n\u001b[0m\u001b[0;32m    953\u001b[0m             \u001b[1;32myield\u001b[0m \u001b[0mk\u001b[0m\u001b[1;33m,\u001b[0m \u001b[0ms\u001b[0m\u001b[1;33m\u001b[0m\u001b[1;33m\u001b[0m\u001b[0m\n\u001b[0;32m    954\u001b[0m \u001b[1;33m\u001b[0m\u001b[0m\n",
      "\u001b[1;32m~\\Anaconda3\\lib\\site-packages\\pandas\\core\\series.py\u001b[0m in \u001b[0;36m__init__\u001b[1;34m(self, data, index, dtype, name, copy, fastpath)\u001b[0m\n\u001b[0;32m    303\u001b[0m                     \u001b[0mdata\u001b[0m \u001b[1;33m=\u001b[0m \u001b[0mdata\u001b[0m\u001b[1;33m.\u001b[0m\u001b[0mcopy\u001b[0m\u001b[1;33m(\u001b[0m\u001b[1;33m)\u001b[0m\u001b[1;33m\u001b[0m\u001b[1;33m\u001b[0m\u001b[0m\n\u001b[0;32m    304\u001b[0m             \u001b[1;32melse\u001b[0m\u001b[1;33m:\u001b[0m\u001b[1;33m\u001b[0m\u001b[1;33m\u001b[0m\u001b[0m\n\u001b[1;32m--> 305\u001b[1;33m                 \u001b[0mdata\u001b[0m \u001b[1;33m=\u001b[0m \u001b[0msanitize_array\u001b[0m\u001b[1;33m(\u001b[0m\u001b[0mdata\u001b[0m\u001b[1;33m,\u001b[0m \u001b[0mindex\u001b[0m\u001b[1;33m,\u001b[0m \u001b[0mdtype\u001b[0m\u001b[1;33m,\u001b[0m \u001b[0mcopy\u001b[0m\u001b[1;33m,\u001b[0m \u001b[0mraise_cast_failure\u001b[0m\u001b[1;33m=\u001b[0m\u001b[1;32mTrue\u001b[0m\u001b[1;33m)\u001b[0m\u001b[1;33m\u001b[0m\u001b[1;33m\u001b[0m\u001b[0m\n\u001b[0m\u001b[0;32m    306\u001b[0m \u001b[1;33m\u001b[0m\u001b[0m\n\u001b[0;32m    307\u001b[0m                 \u001b[0mdata\u001b[0m \u001b[1;33m=\u001b[0m \u001b[0mSingleBlockManager\u001b[0m\u001b[1;33m(\u001b[0m\u001b[0mdata\u001b[0m\u001b[1;33m,\u001b[0m \u001b[0mindex\u001b[0m\u001b[1;33m,\u001b[0m \u001b[0mfastpath\u001b[0m\u001b[1;33m=\u001b[0m\u001b[1;32mTrue\u001b[0m\u001b[1;33m)\u001b[0m\u001b[1;33m\u001b[0m\u001b[1;33m\u001b[0m\u001b[0m\n",
      "\u001b[1;32m~\\Anaconda3\\lib\\site-packages\\pandas\\core\\construction.py\u001b[0m in \u001b[0;36msanitize_array\u001b[1;34m(data, index, dtype, copy, raise_cast_failure)\u001b[0m\n\u001b[0;32m    422\u001b[0m         \u001b[1;32melse\u001b[0m\u001b[1;33m:\u001b[0m\u001b[1;33m\u001b[0m\u001b[1;33m\u001b[0m\u001b[0m\n\u001b[0;32m    423\u001b[0m             \u001b[1;31m# we will try to copy be-definition here\u001b[0m\u001b[1;33m\u001b[0m\u001b[1;33m\u001b[0m\u001b[1;33m\u001b[0m\u001b[0m\n\u001b[1;32m--> 424\u001b[1;33m             \u001b[0msubarr\u001b[0m \u001b[1;33m=\u001b[0m \u001b[0m_try_cast\u001b[0m\u001b[1;33m(\u001b[0m\u001b[0mdata\u001b[0m\u001b[1;33m,\u001b[0m \u001b[0mdtype\u001b[0m\u001b[1;33m,\u001b[0m \u001b[0mcopy\u001b[0m\u001b[1;33m,\u001b[0m \u001b[0mraise_cast_failure\u001b[0m\u001b[1;33m)\u001b[0m\u001b[1;33m\u001b[0m\u001b[1;33m\u001b[0m\u001b[0m\n\u001b[0m\u001b[0;32m    425\u001b[0m \u001b[1;33m\u001b[0m\u001b[0m\n\u001b[0;32m    426\u001b[0m     \u001b[1;32melif\u001b[0m \u001b[0misinstance\u001b[0m\u001b[1;33m(\u001b[0m\u001b[0mdata\u001b[0m\u001b[1;33m,\u001b[0m \u001b[0mABCExtensionArray\u001b[0m\u001b[1;33m)\u001b[0m\u001b[1;33m:\u001b[0m\u001b[1;33m\u001b[0m\u001b[1;33m\u001b[0m\u001b[0m\n",
      "\u001b[1;32m~\\Anaconda3\\lib\\site-packages\\pandas\\core\\construction.py\u001b[0m in \u001b[0;36m_try_cast\u001b[1;34m(arr, dtype, copy, raise_cast_failure)\u001b[0m\n\u001b[0;32m    535\u001b[0m             \u001b[0msubarr\u001b[0m \u001b[1;33m=\u001b[0m \u001b[0mmaybe_cast_to_integer_array\u001b[0m\u001b[1;33m(\u001b[0m\u001b[0marr\u001b[0m\u001b[1;33m,\u001b[0m \u001b[0mdtype\u001b[0m\u001b[1;33m)\u001b[0m\u001b[1;33m\u001b[0m\u001b[1;33m\u001b[0m\u001b[0m\n\u001b[0;32m    536\u001b[0m \u001b[1;33m\u001b[0m\u001b[0m\n\u001b[1;32m--> 537\u001b[1;33m         \u001b[0msubarr\u001b[0m \u001b[1;33m=\u001b[0m \u001b[0mmaybe_cast_to_datetime\u001b[0m\u001b[1;33m(\u001b[0m\u001b[0marr\u001b[0m\u001b[1;33m,\u001b[0m \u001b[0mdtype\u001b[0m\u001b[1;33m)\u001b[0m\u001b[1;33m\u001b[0m\u001b[1;33m\u001b[0m\u001b[0m\n\u001b[0m\u001b[0;32m    538\u001b[0m         \u001b[1;31m# Take care in creating object arrays (but iterators are not\u001b[0m\u001b[1;33m\u001b[0m\u001b[1;33m\u001b[0m\u001b[1;33m\u001b[0m\u001b[0m\n\u001b[0;32m    539\u001b[0m         \u001b[1;31m# supported):\u001b[0m\u001b[1;33m\u001b[0m\u001b[1;33m\u001b[0m\u001b[1;33m\u001b[0m\u001b[0m\n",
      "\u001b[1;32m~\\Anaconda3\\lib\\site-packages\\pandas\\core\\dtypes\\cast.py\u001b[0m in \u001b[0;36mmaybe_cast_to_datetime\u001b[1;34m(value, dtype, errors)\u001b[0m\n\u001b[0;32m   1220\u001b[0m     \u001b[0mnan\u001b[0m \u001b[0mto\u001b[0m \u001b[0miNaT\u001b[0m\u001b[1;33m\u001b[0m\u001b[1;33m\u001b[0m\u001b[0m\n\u001b[0;32m   1221\u001b[0m     \"\"\"\n\u001b[1;32m-> 1222\u001b[1;33m     \u001b[1;32mfrom\u001b[0m \u001b[0mpandas\u001b[0m\u001b[1;33m.\u001b[0m\u001b[0mcore\u001b[0m\u001b[1;33m.\u001b[0m\u001b[0mtools\u001b[0m\u001b[1;33m.\u001b[0m\u001b[0mtimedeltas\u001b[0m \u001b[1;32mimport\u001b[0m \u001b[0mto_timedelta\u001b[0m\u001b[1;33m\u001b[0m\u001b[1;33m\u001b[0m\u001b[0m\n\u001b[0m\u001b[0;32m   1223\u001b[0m     \u001b[1;32mfrom\u001b[0m \u001b[0mpandas\u001b[0m\u001b[1;33m.\u001b[0m\u001b[0mcore\u001b[0m\u001b[1;33m.\u001b[0m\u001b[0mtools\u001b[0m\u001b[1;33m.\u001b[0m\u001b[0mdatetimes\u001b[0m \u001b[1;32mimport\u001b[0m \u001b[0mto_datetime\u001b[0m\u001b[1;33m\u001b[0m\u001b[1;33m\u001b[0m\u001b[0m\n\u001b[0;32m   1224\u001b[0m \u001b[1;33m\u001b[0m\u001b[0m\n",
      "\u001b[1;31mKeyboardInterrupt\u001b[0m: "
     ]
    }
   ],
   "source": [
    "for i,row in df.iterrows():\n",
    "    if row['poolno_x'] != row['poolno_y']:\n",
    "        print(f'pool numbers differ row={i} | pool_x={row[\"poolno_x\"]} | pool_y={row[\"poolno_y\"]}')"
   ]
  },
  {
   "cell_type": "code",
   "execution_count": 44,
   "metadata": {},
   "outputs": [
    {
     "output_type": "error",
     "ename": "KeyError",
     "evalue": "'pool_x'",
     "traceback": [
      "\u001b[1;31m---------------------------------------------------------------------------\u001b[0m",
      "\u001b[1;31mKeyError\u001b[0m                                  Traceback (most recent call last)",
      "\u001b[1;32m~\\Anaconda3\\lib\\site-packages\\pandas\\core\\indexes\\base.py\u001b[0m in \u001b[0;36mget_loc\u001b[1;34m(self, key, method, tolerance)\u001b[0m\n\u001b[0;32m   2645\u001b[0m             \u001b[1;32mtry\u001b[0m\u001b[1;33m:\u001b[0m\u001b[1;33m\u001b[0m\u001b[1;33m\u001b[0m\u001b[0m\n\u001b[1;32m-> 2646\u001b[1;33m                 \u001b[1;32mreturn\u001b[0m \u001b[0mself\u001b[0m\u001b[1;33m.\u001b[0m\u001b[0m_engine\u001b[0m\u001b[1;33m.\u001b[0m\u001b[0mget_loc\u001b[0m\u001b[1;33m(\u001b[0m\u001b[0mkey\u001b[0m\u001b[1;33m)\u001b[0m\u001b[1;33m\u001b[0m\u001b[1;33m\u001b[0m\u001b[0m\n\u001b[0m\u001b[0;32m   2647\u001b[0m             \u001b[1;32mexcept\u001b[0m \u001b[0mKeyError\u001b[0m\u001b[1;33m:\u001b[0m\u001b[1;33m\u001b[0m\u001b[1;33m\u001b[0m\u001b[0m\n",
      "\u001b[1;32mpandas\\_libs\\index.pyx\u001b[0m in \u001b[0;36mpandas._libs.index.IndexEngine.get_loc\u001b[1;34m()\u001b[0m\n",
      "\u001b[1;32mpandas\\_libs\\index.pyx\u001b[0m in \u001b[0;36mpandas._libs.index.IndexEngine.get_loc\u001b[1;34m()\u001b[0m\n",
      "\u001b[1;32mpandas\\_libs\\hashtable_class_helper.pxi\u001b[0m in \u001b[0;36mpandas._libs.hashtable.PyObjectHashTable.get_item\u001b[1;34m()\u001b[0m\n",
      "\u001b[1;32mpandas\\_libs\\hashtable_class_helper.pxi\u001b[0m in \u001b[0;36mpandas._libs.hashtable.PyObjectHashTable.get_item\u001b[1;34m()\u001b[0m\n",
      "\u001b[1;31mKeyError\u001b[0m: 'pool_x'",
      "\nDuring handling of the above exception, another exception occurred:\n",
      "\u001b[1;31mKeyError\u001b[0m                                  Traceback (most recent call last)",
      "\u001b[1;32m<ipython-input-44-a836483c251a>\u001b[0m in \u001b[0;36m<module>\u001b[1;34m\u001b[0m\n\u001b[1;32m----> 1\u001b[1;33m \u001b[0mdf\u001b[0m\u001b[1;33m[\u001b[0m\u001b[0mdf\u001b[0m\u001b[1;33m[\u001b[0m\u001b[1;34m'pool_x'\u001b[0m\u001b[1;33m]\u001b[0m\u001b[1;33m==\u001b[0m\u001b[1;34m'AD9369'\u001b[0m\u001b[1;33m]\u001b[0m\u001b[1;33m\u001b[0m\u001b[1;33m\u001b[0m\u001b[0m\n\u001b[0m",
      "\u001b[1;32m~\\Anaconda3\\lib\\site-packages\\pandas\\core\\frame.py\u001b[0m in \u001b[0;36m__getitem__\u001b[1;34m(self, key)\u001b[0m\n\u001b[0;32m   2798\u001b[0m             \u001b[1;32mif\u001b[0m \u001b[0mself\u001b[0m\u001b[1;33m.\u001b[0m\u001b[0mcolumns\u001b[0m\u001b[1;33m.\u001b[0m\u001b[0mnlevels\u001b[0m \u001b[1;33m>\u001b[0m \u001b[1;36m1\u001b[0m\u001b[1;33m:\u001b[0m\u001b[1;33m\u001b[0m\u001b[1;33m\u001b[0m\u001b[0m\n\u001b[0;32m   2799\u001b[0m                 \u001b[1;32mreturn\u001b[0m \u001b[0mself\u001b[0m\u001b[1;33m.\u001b[0m\u001b[0m_getitem_multilevel\u001b[0m\u001b[1;33m(\u001b[0m\u001b[0mkey\u001b[0m\u001b[1;33m)\u001b[0m\u001b[1;33m\u001b[0m\u001b[1;33m\u001b[0m\u001b[0m\n\u001b[1;32m-> 2800\u001b[1;33m             \u001b[0mindexer\u001b[0m \u001b[1;33m=\u001b[0m \u001b[0mself\u001b[0m\u001b[1;33m.\u001b[0m\u001b[0mcolumns\u001b[0m\u001b[1;33m.\u001b[0m\u001b[0mget_loc\u001b[0m\u001b[1;33m(\u001b[0m\u001b[0mkey\u001b[0m\u001b[1;33m)\u001b[0m\u001b[1;33m\u001b[0m\u001b[1;33m\u001b[0m\u001b[0m\n\u001b[0m\u001b[0;32m   2801\u001b[0m             \u001b[1;32mif\u001b[0m \u001b[0mis_integer\u001b[0m\u001b[1;33m(\u001b[0m\u001b[0mindexer\u001b[0m\u001b[1;33m)\u001b[0m\u001b[1;33m:\u001b[0m\u001b[1;33m\u001b[0m\u001b[1;33m\u001b[0m\u001b[0m\n\u001b[0;32m   2802\u001b[0m                 \u001b[0mindexer\u001b[0m \u001b[1;33m=\u001b[0m \u001b[1;33m[\u001b[0m\u001b[0mindexer\u001b[0m\u001b[1;33m]\u001b[0m\u001b[1;33m\u001b[0m\u001b[1;33m\u001b[0m\u001b[0m\n",
      "\u001b[1;32m~\\Anaconda3\\lib\\site-packages\\pandas\\core\\indexes\\base.py\u001b[0m in \u001b[0;36mget_loc\u001b[1;34m(self, key, method, tolerance)\u001b[0m\n\u001b[0;32m   2646\u001b[0m                 \u001b[1;32mreturn\u001b[0m \u001b[0mself\u001b[0m\u001b[1;33m.\u001b[0m\u001b[0m_engine\u001b[0m\u001b[1;33m.\u001b[0m\u001b[0mget_loc\u001b[0m\u001b[1;33m(\u001b[0m\u001b[0mkey\u001b[0m\u001b[1;33m)\u001b[0m\u001b[1;33m\u001b[0m\u001b[1;33m\u001b[0m\u001b[0m\n\u001b[0;32m   2647\u001b[0m             \u001b[1;32mexcept\u001b[0m \u001b[0mKeyError\u001b[0m\u001b[1;33m:\u001b[0m\u001b[1;33m\u001b[0m\u001b[1;33m\u001b[0m\u001b[0m\n\u001b[1;32m-> 2648\u001b[1;33m                 \u001b[1;32mreturn\u001b[0m \u001b[0mself\u001b[0m\u001b[1;33m.\u001b[0m\u001b[0m_engine\u001b[0m\u001b[1;33m.\u001b[0m\u001b[0mget_loc\u001b[0m\u001b[1;33m(\u001b[0m\u001b[0mself\u001b[0m\u001b[1;33m.\u001b[0m\u001b[0m_maybe_cast_indexer\u001b[0m\u001b[1;33m(\u001b[0m\u001b[0mkey\u001b[0m\u001b[1;33m)\u001b[0m\u001b[1;33m)\u001b[0m\u001b[1;33m\u001b[0m\u001b[1;33m\u001b[0m\u001b[0m\n\u001b[0m\u001b[0;32m   2649\u001b[0m         \u001b[0mindexer\u001b[0m \u001b[1;33m=\u001b[0m \u001b[0mself\u001b[0m\u001b[1;33m.\u001b[0m\u001b[0mget_indexer\u001b[0m\u001b[1;33m(\u001b[0m\u001b[1;33m[\u001b[0m\u001b[0mkey\u001b[0m\u001b[1;33m]\u001b[0m\u001b[1;33m,\u001b[0m \u001b[0mmethod\u001b[0m\u001b[1;33m=\u001b[0m\u001b[0mmethod\u001b[0m\u001b[1;33m,\u001b[0m \u001b[0mtolerance\u001b[0m\u001b[1;33m=\u001b[0m\u001b[0mtolerance\u001b[0m\u001b[1;33m)\u001b[0m\u001b[1;33m\u001b[0m\u001b[1;33m\u001b[0m\u001b[0m\n\u001b[0;32m   2650\u001b[0m         \u001b[1;32mif\u001b[0m \u001b[0mindexer\u001b[0m\u001b[1;33m.\u001b[0m\u001b[0mndim\u001b[0m \u001b[1;33m>\u001b[0m \u001b[1;36m1\u001b[0m \u001b[1;32mor\u001b[0m \u001b[0mindexer\u001b[0m\u001b[1;33m.\u001b[0m\u001b[0msize\u001b[0m \u001b[1;33m>\u001b[0m \u001b[1;36m1\u001b[0m\u001b[1;33m:\u001b[0m\u001b[1;33m\u001b[0m\u001b[1;33m\u001b[0m\u001b[0m\n",
      "\u001b[1;32mpandas\\_libs\\index.pyx\u001b[0m in \u001b[0;36mpandas._libs.index.IndexEngine.get_loc\u001b[1;34m()\u001b[0m\n",
      "\u001b[1;32mpandas\\_libs\\index.pyx\u001b[0m in \u001b[0;36mpandas._libs.index.IndexEngine.get_loc\u001b[1;34m()\u001b[0m\n",
      "\u001b[1;32mpandas\\_libs\\hashtable_class_helper.pxi\u001b[0m in \u001b[0;36mpandas._libs.hashtable.PyObjectHashTable.get_item\u001b[1;34m()\u001b[0m\n",
      "\u001b[1;32mpandas\\_libs\\hashtable_class_helper.pxi\u001b[0m in \u001b[0;36mpandas._libs.hashtable.PyObjectHashTable.get_item\u001b[1;34m()\u001b[0m\n",
      "\u001b[1;31mKeyError\u001b[0m: 'pool_x'"
     ]
    }
   ],
   "source": [
    "#df[df['pool_x']=='AD9369']\n",
    "\n",
    "df.shape"
   ]
  },
  {
   "cell_type": "code",
   "execution_count": 45,
   "metadata": {},
   "outputs": [
    {
     "output_type": "execute_result",
     "data": {
      "text/plain": [
       "  poolno_x  asofdate      cusip  spread     SMM  DayCount        OBal  \\\n",
       "0   877118    201012  31409SPB0   -19.5  0.0029      22.0  58535566.0   \n",
       "1   877118    201101  31409SPB0   -44.0  0.0247      20.0  58535566.0   \n",
       "2   877118    201102  31409SPB0   -66.8  0.1765      19.0  58535566.0   \n",
       "3   877118    201103  31409SPB0   -78.7  0.8830      23.0  58535566.0   \n",
       "4   877118    201104  31409SPB0   -82.7  1.0095      21.0  58535566.0   \n",
       "\n",
       "          CBal     factor  Coupon  ...  StatePct_TN  StatePct_TX  StatePct_UT  \\\n",
       "0  58449322.63  99.852665     3.5  ...         2.61         4.97         1.30   \n",
       "1  58350056.36  99.683082     3.5  ...         2.61         4.97         1.29   \n",
       "2  58162116.05  99.362012     3.5  ...         2.61         4.98         1.28   \n",
       "3  57564063.94  98.340322     3.5  ...         2.64         5.02         1.29   \n",
       "4  56898607.41  97.203480     3.5  ...         2.66         5.07         1.29   \n",
       "\n",
       "   StatePct_VA  StatePct_VI  StatePct_VT  StatePct_WA  StatePct_WI  \\\n",
       "0         3.64          0.0         0.27         3.08         1.15   \n",
       "1         3.64          0.0         0.27         3.08         1.15   \n",
       "2         3.64          0.0         0.27         3.08         1.15   \n",
       "3         3.68          0.0         0.27         3.10         1.16   \n",
       "4         3.71          0.0         0.27         2.14         1.17   \n",
       "\n",
       "   StatePct_WV  StatePct_WY  \n",
       "0          0.0         2.42  \n",
       "1          0.0         2.42  \n",
       "2          0.0         2.42  \n",
       "3          0.0         2.45  \n",
       "4          0.0         2.47  \n",
       "\n",
       "[5 rows x 89 columns]"
      ],
      "text/html": "<div>\n<style scoped>\n    .dataframe tbody tr th:only-of-type {\n        vertical-align: middle;\n    }\n\n    .dataframe tbody tr th {\n        vertical-align: top;\n    }\n\n    .dataframe thead th {\n        text-align: right;\n    }\n</style>\n<table border=\"1\" class=\"dataframe\">\n  <thead>\n    <tr style=\"text-align: right;\">\n      <th></th>\n      <th>poolno_x</th>\n      <th>asofdate</th>\n      <th>cusip</th>\n      <th>spread</th>\n      <th>SMM</th>\n      <th>DayCount</th>\n      <th>OBal</th>\n      <th>CBal</th>\n      <th>factor</th>\n      <th>Coupon</th>\n      <th>...</th>\n      <th>StatePct_TN</th>\n      <th>StatePct_TX</th>\n      <th>StatePct_UT</th>\n      <th>StatePct_VA</th>\n      <th>StatePct_VI</th>\n      <th>StatePct_VT</th>\n      <th>StatePct_WA</th>\n      <th>StatePct_WI</th>\n      <th>StatePct_WV</th>\n      <th>StatePct_WY</th>\n    </tr>\n  </thead>\n  <tbody>\n    <tr>\n      <th>0</th>\n      <td>877118</td>\n      <td>201012</td>\n      <td>31409SPB0</td>\n      <td>-19.5</td>\n      <td>0.0029</td>\n      <td>22.0</td>\n      <td>58535566.0</td>\n      <td>58449322.63</td>\n      <td>99.852665</td>\n      <td>3.5</td>\n      <td>...</td>\n      <td>2.61</td>\n      <td>4.97</td>\n      <td>1.30</td>\n      <td>3.64</td>\n      <td>0.0</td>\n      <td>0.27</td>\n      <td>3.08</td>\n      <td>1.15</td>\n      <td>0.0</td>\n      <td>2.42</td>\n    </tr>\n    <tr>\n      <th>1</th>\n      <td>877118</td>\n      <td>201101</td>\n      <td>31409SPB0</td>\n      <td>-44.0</td>\n      <td>0.0247</td>\n      <td>20.0</td>\n      <td>58535566.0</td>\n      <td>58350056.36</td>\n      <td>99.683082</td>\n      <td>3.5</td>\n      <td>...</td>\n      <td>2.61</td>\n      <td>4.97</td>\n      <td>1.29</td>\n      <td>3.64</td>\n      <td>0.0</td>\n      <td>0.27</td>\n      <td>3.08</td>\n      <td>1.15</td>\n      <td>0.0</td>\n      <td>2.42</td>\n    </tr>\n    <tr>\n      <th>2</th>\n      <td>877118</td>\n      <td>201102</td>\n      <td>31409SPB0</td>\n      <td>-66.8</td>\n      <td>0.1765</td>\n      <td>19.0</td>\n      <td>58535566.0</td>\n      <td>58162116.05</td>\n      <td>99.362012</td>\n      <td>3.5</td>\n      <td>...</td>\n      <td>2.61</td>\n      <td>4.98</td>\n      <td>1.28</td>\n      <td>3.64</td>\n      <td>0.0</td>\n      <td>0.27</td>\n      <td>3.08</td>\n      <td>1.15</td>\n      <td>0.0</td>\n      <td>2.42</td>\n    </tr>\n    <tr>\n      <th>3</th>\n      <td>877118</td>\n      <td>201103</td>\n      <td>31409SPB0</td>\n      <td>-78.7</td>\n      <td>0.8830</td>\n      <td>23.0</td>\n      <td>58535566.0</td>\n      <td>57564063.94</td>\n      <td>98.340322</td>\n      <td>3.5</td>\n      <td>...</td>\n      <td>2.64</td>\n      <td>5.02</td>\n      <td>1.29</td>\n      <td>3.68</td>\n      <td>0.0</td>\n      <td>0.27</td>\n      <td>3.10</td>\n      <td>1.16</td>\n      <td>0.0</td>\n      <td>2.45</td>\n    </tr>\n    <tr>\n      <th>4</th>\n      <td>877118</td>\n      <td>201104</td>\n      <td>31409SPB0</td>\n      <td>-82.7</td>\n      <td>1.0095</td>\n      <td>21.0</td>\n      <td>58535566.0</td>\n      <td>56898607.41</td>\n      <td>97.203480</td>\n      <td>3.5</td>\n      <td>...</td>\n      <td>2.66</td>\n      <td>5.07</td>\n      <td>1.29</td>\n      <td>3.71</td>\n      <td>0.0</td>\n      <td>0.27</td>\n      <td>2.14</td>\n      <td>1.17</td>\n      <td>0.0</td>\n      <td>2.47</td>\n    </tr>\n  </tbody>\n</table>\n<p>5 rows × 89 columns</p>\n</div>"
     },
     "metadata": {},
     "execution_count": 45
    }
   ],
   "source": [
    "df.head()"
   ]
  },
  {
   "cell_type": "code",
   "execution_count": null,
   "metadata": {},
   "outputs": [],
   "source": [
    "#check that poolno_x and poolno_y are exactly the same, drop one and rename the other to poolno"
   ]
  },
  {
   "cell_type": "code",
   "execution_count": 41,
   "metadata": {},
   "outputs": [
    {
     "output_type": "stream",
     "name": "stdout",
     "text": [
      "<class 'pandas.core.frame.DataFrame'>\nInt64Index: 10113549 entries, 0 to 10113548\nData columns (total 89 columns):\n #   Column             Non-Null Count     Dtype  \n---  ------             --------------     -----  \n 0   poolno_x           10113549 non-null  object \n 1   asofdate           10113549 non-null  int64  \n 2   cusip              10113549 non-null  object \n 3   spread             10113549 non-null  float64\n 4   SMM                10113549 non-null  float64\n 5   DayCount           10113549 non-null  float64\n 6   OBal               10113549 non-null  float64\n 7   CBal               10113549 non-null  float64\n 8   factor             10113549 non-null  float64\n 9   Coupon             10113549 non-null  float64\n 10  Wac                10113549 non-null  float64\n 11  Wam                10113549 non-null  float64\n 12  Age                10113549 non-null  float64\n 13  aols               10113549 non-null  float64\n 14  waols              10113549 non-null  float64\n 15  ONLoans            10113549 non-null  float64\n 16  cnloans            10113549 non-null  float64\n 17  CSato              10113549 non-null  float64\n 18  oltv               10113549 non-null  float64\n 19  cltv               10113549 non-null  float64\n 20  fico               10113549 non-null  float64\n 21  %CashWindow        10113549 non-null  float64\n 22  %Majors            10113549 non-null  float64\n 23  ocltv              10113549 non-null  float64\n 24  ccltv              10113549 non-null  float64\n 25  PurpPct_purchase   10113549 non-null  float64\n 26  PurpPct_refi       10113549 non-null  float64\n 27  PctChannel_Broker  10113520 non-null  float64\n 28  PctChannel_Corr    10113520 non-null  float64\n 29  PctChannel_Retail  10113520 non-null  float64\n 30  OccPct_investor    10113549 non-null  float64\n 31  OccPct_owner       10113549 non-null  float64\n 32  PropUnitsPct_2-4   10113549 non-null  float64\n 33  pool_issue_month   10113549 non-null  int64  \n 34  poolno_y           9878595 non-null   object \n 35  StatePct_AK        9878595 non-null   float64\n 36  StatePct_AL        9878595 non-null   float64\n 37  StatePct_AR        9878595 non-null   float64\n 38  StatePct_AZ        9878595 non-null   float64\n 39  StatePct_CA        9878595 non-null   float64\n 40  StatePct_CO        9878595 non-null   float64\n 41  StatePct_CT        9878595 non-null   float64\n 42  StatePct_DC        9878595 non-null   float64\n 43  StatePct_DE        9878595 non-null   float64\n 44  StatePct_FL        9878595 non-null   float64\n 45  StatePct_GA        9878595 non-null   float64\n 46  StatePct_GU        9878595 non-null   float64\n 47  StatePct_HI        9878595 non-null   float64\n 48  StatePct_IA        9878595 non-null   float64\n 49  StatePct_ID        9878595 non-null   float64\n 50  StatePct_IL        9878595 non-null   float64\n 51  StatePct_IN        9878595 non-null   float64\n 52  StatePct_KS        9878595 non-null   float64\n 53  StatePct_KY        9878595 non-null   float64\n 54  StatePct_LA        9878595 non-null   float64\n 55  StatePct_MA        9878595 non-null   float64\n 56  StatePct_MD        9878595 non-null   float64\n 57  StatePct_ME        9878595 non-null   float64\n 58  StatePct_MI        9878595 non-null   float64\n 59  StatePct_MN        9878595 non-null   float64\n 60  StatePct_MO        9878595 non-null   float64\n 61  StatePct_MS        9878595 non-null   float64\n 62  StatePct_MT        9878595 non-null   float64\n 63  StatePct_NC        9878595 non-null   float64\n 64  StatePct_ND        9878595 non-null   float64\n 65  StatePct_NE        9878595 non-null   float64\n 66  StatePct_NH        9878595 non-null   float64\n 67  StatePct_NJ        9878595 non-null   float64\n 68  StatePct_NM        9878595 non-null   float64\n 69  StatePct_NV        9878595 non-null   float64\n 70  StatePct_NY        9878595 non-null   float64\n 71  StatePct_OH        9878595 non-null   float64\n 72  StatePct_OK        9878595 non-null   float64\n 73  StatePct_OR        9878595 non-null   float64\n 74  StatePct_PA        9878595 non-null   float64\n 75  StatePct_PR        9878595 non-null   float64\n 76  StatePct_RI        9878595 non-null   float64\n 77  StatePct_SC        9878595 non-null   float64\n 78  StatePct_SD        9878595 non-null   float64\n 79  StatePct_TN        9878595 non-null   float64\n 80  StatePct_TX        9878595 non-null   float64\n 81  StatePct_UT        9878595 non-null   float64\n 82  StatePct_VA        9878595 non-null   float64\n 83  StatePct_VI        9878595 non-null   float64\n 84  StatePct_VT        9878595 non-null   float64\n 85  StatePct_WA        9878595 non-null   float64\n 86  StatePct_WI        9878595 non-null   float64\n 87  StatePct_WV        9878595 non-null   float64\n 88  StatePct_WY        9878595 non-null   float64\ndtypes: float64(84), int64(2), object(3)\nmemory usage: 6.8+ GB\n"
     ]
    }
   ],
   "source": [
    "df.info(verbose=True, null_counts=True)"
   ]
  },
  {
   "cell_type": "code",
   "execution_count": null,
   "metadata": {},
   "outputs": [],
   "source": []
  },
  {
   "cell_type": "code",
   "execution_count": null,
   "metadata": {},
   "outputs": [],
   "source": []
  },
  {
   "cell_type": "code",
   "execution_count": null,
   "metadata": {},
   "outputs": [],
   "source": []
  },
  {
   "cell_type": "code",
   "execution_count": null,
   "metadata": {},
   "outputs": [],
   "source": []
  },
  {
   "cell_type": "code",
   "execution_count": null,
   "metadata": {},
   "outputs": [],
   "source": [
    "dill.dump_session('notebook_env_all_3_dfs.db')"
   ]
  }
 ],
 "metadata": {
  "kernelspec": {
   "display_name": "Python 3",
   "language": "python",
   "name": "python3"
  },
  "language_info": {
   "codemirror_mode": {
    "name": "ipython",
    "version": 3
   },
   "file_extension": ".py",
   "mimetype": "text/x-python",
   "name": "python",
   "nbconvert_exporter": "python",
   "pygments_lexer": "ipython3",
   "version": "3.7.6-final"
  }
 },
 "nbformat": 4,
 "nbformat_minor": 2
}