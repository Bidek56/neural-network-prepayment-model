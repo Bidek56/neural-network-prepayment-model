{
 "cells": [
  {
   "cell_type": "code",
   "execution_count": 1,
   "metadata": {},
   "outputs": [],
   "source": [
    "import pandas as pd\n",
    "import numpy as np\n",
    "import matplotlib.pyplot as plt\n",
    "from matplotlib.backends.backend_pdf import PdfPages\n",
    "import seaborn as sns\n",
    "import time\n",
    "import imp\n",
    "import os\n",
    "import os, os.path\n",
    "import datetime as dt\n",
    "import dateutil.parser as dp\n",
    "import dill\n",
    "\n",
    "%matplotlib inline"
   ]
  },
  {
   "cell_type": "code",
   "execution_count": 2,
   "metadata": {},
   "outputs": [
    {
     "output_type": "stream",
     "name": "stdout",
     "text": [
      "# of attr files:  121\n# of geo pct files:  120\n# of seller pct files:  122\n"
     ]
    }
   ],
   "source": [
    "# Create lists of data files (3 groups: regular attributes, GEO, and Seller composition)\n",
    "pools_attributes_files = list()\n",
    "for root, dirs, files in os.walk(\"C:/Users/YuriTurygin/Desktop/NN-PPM/data/pools attributes\"):\n",
    "    for name in files:\n",
    "        pools_attributes_files.append(os.path.join(root, name))        \n",
    "        \n",
    "pools_geo_pct_files = list()\n",
    "for root, dirs, files in os.walk(\"C:/Users/YuriTurygin/Desktop/NN-PPM/data/geo pct\"):\n",
    "    for name in files:\n",
    "        pools_geo_pct_files.append(os.path.join(root, name))  \n",
    "        \n",
    "pools_seller_pct_files = list()\n",
    "for root, dirs, files in os.walk(\"C:/Users/YuriTurygin/Desktop/NN-PPM/data/seller pct\"):\n",
    "    for name in files:\n",
    "        pools_seller_pct_files.append(os.path.join(root, name)) \n",
    "        \n",
    "print(\"# of attr files: \",len(pools_attributes_files))\n",
    "print(\"# of geo pct files: \",len(pools_geo_pct_files))\n",
    "print(\"# of seller pct files: \",len(pools_seller_pct_files))"
   ]
  },
  {
   "cell_type": "code",
   "execution_count": 3,
   "metadata": {},
   "outputs": [],
   "source": [
    "# Read in all files with regular pool attributes\n",
    "attr_df = pd.DataFrame()\n",
    "for file in pools_attributes_files:\n",
    "    one_month_issue_pools = pd.read_csv(file)\n",
    "    if len(attr_df)==0:\n",
    "        attr_df = one_month_issue_pools\n",
    "    else:\n",
    "        # df1.columns.difference(df2.columns)\n",
    "        # df2.columns.difference(df1.columns)\n",
    "        if all(attr_df.columns == one_month_issue_pools.columns):\n",
    "            attr_df = pd.concat([attr_df,one_month_issue_pools])\n",
    "        else:\n",
    "            print(f'columns missmatch for {file}')\n",
    "\n",
    "    #print('Done loading ' + file)"
   ]
  },
  {
   "cell_type": "code",
   "execution_count": 4,
   "metadata": {},
   "outputs": [
    {
     "output_type": "execute_result",
     "data": {
      "text/plain": [
       "Index(['poolno', 'asofdate', 'cusip', 'Prefix', 'spread', 'Cpr1', 'Cpr3',\n",
       "       'Cpr6', 'Cpr12', 'Cpr24', 'CprLife', 'SMM', 'DayCount', 'OBal', 'CBal',\n",
       "       'pbal', 'paydown', 'Prepay', 'factor', 'OCoupon', 'Coupon', 'OWac',\n",
       "       'Wac', 'Wam', 'Age', 'aols', 'waols', 'ONLoans', 'cnloans', 'PCNLoans',\n",
       "       'PPNLoans', 'OSato', 'CSato', 'oltv', 'cltv', '%cltv_80', '%cltv_105',\n",
       "       '%cltv_125', '%ccltv_80', '%ccltv_105', '%ccltv_125', 'fico',\n",
       "       '%FedHold', '%CMOHold', 'dti', 'codti', '%CashWindow', '%Majors',\n",
       "       'ocltv', 'ccltv', 'PurpPct_purchase', 'PurpPct_refi',\n",
       "       'PctChannel_Broker', 'PctChannel_Corr', 'PctChannel_Retail',\n",
       "       'OccPct_investor', 'OccPct_owner', 'PropUnitsPct_2-4', 'Label'],\n",
       "      dtype='object')"
      ]
     },
     "metadata": {},
     "execution_count": 4
    }
   ],
   "source": [
    "attr_df.columns"
   ]
  },
  {
   "cell_type": "code",
   "execution_count": 5,
   "metadata": {},
   "outputs": [
    {
     "output_type": "execute_result",
     "data": {
      "text/plain": [
       "10143061"
      ]
     },
     "metadata": {},
     "execution_count": 5
    }
   ],
   "source": [
    "len(attr_df)"
   ]
  },
  {
   "cell_type": "code",
   "execution_count": 6,
   "metadata": {},
   "outputs": [],
   "source": [
    "#dill.dump_session('notebook_env_just_attributes.db')"
   ]
  },
  {
   "cell_type": "code",
   "execution_count": 7,
   "metadata": {},
   "outputs": [],
   "source": [
    "# Read in all files with pools GEO info\n",
    "geo_df = pd.DataFrame()\n",
    "for file in pools_geo_pct_files:\n",
    "    one_month_issue_pools = pd.read_csv(file)\n",
    "    if len(geo_df)==0:\n",
    "        geo_df = one_month_issue_pools\n",
    "    else:\n",
    "        # df1.columns.difference(df2.columns)\n",
    "        # df2.columns.difference(df1.columns)\n",
    "        if all(geo_df.columns == one_month_issue_pools.columns):\n",
    "            geo_df = pd.concat([geo_df,one_month_issue_pools])\n",
    "        else:\n",
    "            print(f'columns missmatch for {file}')\n",
    "\n",
    "    #print('Done loading ' + file)"
   ]
  },
  {
   "cell_type": "code",
   "execution_count": 8,
   "metadata": {},
   "outputs": [
    {
     "output_type": "execute_result",
     "data": {
      "text/plain": [
       "Index(['poolno', 'asofdate', 'cusip', 'StatePct_AK', 'StatePct_AL',\n",
       "       'StatePct_AR', 'StatePct_AZ', 'StatePct_CA', 'StatePct_CO',\n",
       "       'StatePct_CT', 'StatePct_DC', 'StatePct_DE', 'StatePct_FL',\n",
       "       'StatePct_GA', 'StatePct_GU', 'StatePct_HI', 'StatePct_IA',\n",
       "       'StatePct_ID', 'StatePct_IL', 'StatePct_IN', 'StatePct_KS',\n",
       "       'StatePct_KY', 'StatePct_LA', 'StatePct_MA', 'StatePct_MD',\n",
       "       'StatePct_ME', 'StatePct_MI', 'StatePct_MN', 'StatePct_MO',\n",
       "       'StatePct_MS', 'StatePct_MT', 'StatePct_NC', 'StatePct_ND',\n",
       "       'StatePct_NE', 'StatePct_NH', 'StatePct_NJ', 'StatePct_NM',\n",
       "       'StatePct_NV', 'StatePct_NY', 'StatePct_OH', 'StatePct_OK',\n",
       "       'StatePct_OR', 'StatePct_PA', 'StatePct_PR', 'StatePct_RI',\n",
       "       'StatePct_SC', 'StatePct_SD', 'StatePct_TN', 'StatePct_TX',\n",
       "       'StatePct_UT', 'StatePct_VA', 'StatePct_VI', 'StatePct_VT',\n",
       "       'StatePct_WA', 'StatePct_WI', 'StatePct_WV', 'StatePct_WY', 'Label'],\n",
       "      dtype='object')"
      ]
     },
     "metadata": {},
     "execution_count": 8
    }
   ],
   "source": [
    "geo_df.columns"
   ]
  },
  {
   "cell_type": "code",
   "execution_count": 9,
   "metadata": {},
   "outputs": [
    {
     "output_type": "execute_result",
     "data": {
      "text/plain": [
       "9929896"
      ]
     },
     "metadata": {},
     "execution_count": 9
    }
   ],
   "source": [
    "len(geo_df)"
   ]
  },
  {
   "cell_type": "code",
   "execution_count": 10,
   "metadata": {},
   "outputs": [],
   "source": [
    "#dill.dump_session('notebook_env_attr_and_geo.db')"
   ]
  },
  {
   "cell_type": "code",
   "execution_count": 11,
   "metadata": {},
   "outputs": [],
   "source": [
    "# Read in all files with pools Seller info\n",
    "seller_df = pd.DataFrame()\n",
    "for file in pools_seller_pct_files:\n",
    "    one_month_issue_pools = pd.read_csv(file)\n",
    "    if len(seller_df)==0:\n",
    "        seller_df = one_month_issue_pools\n",
    "    else:\n",
    "        # df1.columns.difference(df2.columns)\n",
    "        # df2.columns.difference(df1.columns)\n",
    "        if all(seller_df.columns == one_month_issue_pools.columns):\n",
    "            seller_df = pd.concat([seller_df,one_month_issue_pools])\n",
    "        else:\n",
    "            print(f'columns missmatch for {file}')\n",
    "    #print('Done loading ' + file)"
   ]
  },
  {
   "cell_type": "code",
   "execution_count": 12,
   "metadata": {},
   "outputs": [
    {
     "output_type": "execute_result",
     "data": {
      "text/plain": [
       "Index(['poolno', 'asofdate', 'SellerPct_AMRHT', 'SellerPct_ALS',\n",
       "       'SellerPct_CAFULL', 'SellerPct_CNTL', 'SellerPct_CITIZ', 'SellerPct_53',\n",
       "       'SellerPct_FIR', 'SellerPct_FRDOM', 'SellerPct_GUILD',\n",
       "       'SellerPct_CHASE', 'SellerPct_LLSL', 'SellerPct_MATRX', 'SellerPct_NCM',\n",
       "       'SellerPct_NATIONST', 'SellerPct_NRESM', 'SellerPct_PNYMAC',\n",
       "       'SellerPct_PILOSI', 'SellerPct_QUICK', 'SellerPct_REG',\n",
       "       'SellerPct_RMSC', 'SellerPct_UNSHFI', 'SellerPct_WFHM', 'cusip',\n",
       "       'Prefix', 'Label'],\n",
       "      dtype='object')"
      ]
     },
     "metadata": {},
     "execution_count": 12
    }
   ],
   "source": [
    "seller_df.columns"
   ]
  },
  {
   "cell_type": "code",
   "execution_count": 13,
   "metadata": {},
   "outputs": [
    {
     "output_type": "execute_result",
     "data": {
      "text/plain": [
       "9636863"
      ]
     },
     "metadata": {},
     "execution_count": 13
    }
   ],
   "source": [
    "len(seller_df)"
   ]
  },
  {
   "cell_type": "code",
   "execution_count": 14,
   "metadata": {},
   "outputs": [],
   "source": [
    "dill.dump_session('notebook_env_all_3_dfs.db')"
   ]
  },
  {
   "cell_type": "code",
   "execution_count": 15,
   "metadata": {},
   "outputs": [
    {
     "output_type": "execute_result",
     "data": {
      "text/plain": [
       "(10143061, 59)"
      ]
     },
     "metadata": {},
     "execution_count": 15
    }
   ],
   "source": [
    "attr_df.shape"
   ]
  },
  {
   "cell_type": "code",
   "execution_count": 16,
   "metadata": {},
   "outputs": [],
   "source": [
    "attr_df.drop(['Prefix','Cpr1','Cpr3','Cpr6','Cpr12','Cpr24','CprLife','pbal','paydown','Prepay','OCoupon','OWac','PCNLoans','PPNLoans','OSato','%cltv_80','%cltv_105','%cltv_125','%ccltv_80','%ccltv_105','%ccltv_125','%FedHold','%CMOHold','dti','codti'],axis=1,inplace=True)"
   ]
  },
  {
   "cell_type": "code",
   "execution_count": 17,
   "metadata": {},
   "outputs": [],
   "source": [
    "attr_df.dropna(subset=['CBal','SMM','Wac','aols','fico','OccPct_investor','OccPct_owner','PropUnitsPct_2-4'],inplace=True)"
   ]
  },
  {
   "cell_type": "code",
   "execution_count": 18,
   "metadata": {},
   "outputs": [],
   "source": [
    "attr_df.sort_values(by=['poolno','asofdate'],inplace=True)"
   ]
  },
  {
   "cell_type": "code",
   "execution_count": 19,
   "metadata": {},
   "outputs": [],
   "source": [
    "attr_df.fillna(method='ffill',inplace=True)"
   ]
  },
  {
   "cell_type": "code",
   "execution_count": 20,
   "metadata": {},
   "outputs": [],
   "source": [
    "attr_df['CBal'] = attr_df['CBal'].apply(lambda x: float(x))"
   ]
  },
  {
   "cell_type": "code",
   "execution_count": 21,
   "metadata": {},
   "outputs": [],
   "source": [
    "attr_df.rename(columns={'Label':'pool_issue_month'},inplace=True)"
   ]
  },
  {
   "cell_type": "code",
   "execution_count": 22,
   "metadata": {},
   "outputs": [
    {
     "output_type": "stream",
     "name": "stdout",
     "text": [
      "<class 'pandas.core.frame.DataFrame'>\nInt64Index: 10113549 entries, 1482 to 164706\nData columns (total 34 columns):\n #   Column             Non-Null Count     Dtype  \n---  ------             --------------     -----  \n 0   poolno             10113549 non-null  object \n 1   asofdate           10113549 non-null  int64  \n 2   cusip              10113549 non-null  object \n 3   spread             10113549 non-null  float64\n 4   SMM                10113549 non-null  float64\n 5   DayCount           10113549 non-null  float64\n 6   OBal               10113549 non-null  float64\n 7   CBal               10113549 non-null  float64\n 8   factor             10113549 non-null  float64\n 9   Coupon             10113549 non-null  float64\n 10  Wac                10113549 non-null  float64\n 11  Wam                10113549 non-null  float64\n 12  Age                10113549 non-null  float64\n 13  aols               10113549 non-null  float64\n 14  waols              10113549 non-null  float64\n 15  ONLoans            10113549 non-null  float64\n 16  cnloans            10113549 non-null  float64\n 17  CSato              10113549 non-null  float64\n 18  oltv               10113549 non-null  float64\n 19  cltv               10113549 non-null  float64\n 20  fico               10113549 non-null  float64\n 21  %CashWindow        10113549 non-null  float64\n 22  %Majors            10113549 non-null  float64\n 23  ocltv              10113549 non-null  float64\n 24  ccltv              10113549 non-null  float64\n 25  PurpPct_purchase   10113549 non-null  float64\n 26  PurpPct_refi       10113549 non-null  float64\n 27  PctChannel_Broker  10113520 non-null  float64\n 28  PctChannel_Corr    10113520 non-null  float64\n 29  PctChannel_Retail  10113520 non-null  float64\n 30  OccPct_investor    10113549 non-null  float64\n 31  OccPct_owner       10113549 non-null  float64\n 32  PropUnitsPct_2-4   10113549 non-null  float64\n 33  pool_issue_month   10113549 non-null  int64  \ndtypes: float64(30), int64(2), object(2)\nmemory usage: 2.6+ GB\n"
     ]
    }
   ],
   "source": [
    "attr_df.info(verbose=True, null_counts=True)"
   ]
  },
  {
   "cell_type": "code",
   "execution_count": null,
   "metadata": {},
   "outputs": [],
   "source": []
  },
  {
   "cell_type": "code",
   "execution_count": 23,
   "metadata": {},
   "outputs": [],
   "source": [
    "geo_df.sort_values(by=['poolno','asofdate'],inplace=True)"
   ]
  },
  {
   "cell_type": "code",
   "execution_count": 24,
   "metadata": {},
   "outputs": [],
   "source": [
    "geo_df.fillna(method='ffill',inplace=True)"
   ]
  },
  {
   "cell_type": "code",
   "execution_count": 27,
   "metadata": {},
   "outputs": [],
   "source": [
    "geo_df.drop('Label',axis=1,inplace=True)"
   ]
  },
  {
   "cell_type": "code",
   "execution_count": 28,
   "metadata": {},
   "outputs": [
    {
     "output_type": "stream",
     "name": "stdout",
     "text": [
      "<class 'pandas.core.frame.DataFrame'>\nInt64Index: 9929896 entries, 1482 to 164706\nData columns (total 57 columns):\n #   Column       Non-Null Count    Dtype  \n---  ------       --------------    -----  \n 0   poolno       9929896 non-null  object \n 1   asofdate     9929896 non-null  int64  \n 2   cusip        9929896 non-null  object \n 3   StatePct_AK  9929896 non-null  float64\n 4   StatePct_AL  9929896 non-null  object \n 5   StatePct_AR  9929896 non-null  float64\n 6   StatePct_AZ  9929896 non-null  float64\n 7   StatePct_CA  9929896 non-null  float64\n 8   StatePct_CO  9929896 non-null  object \n 9   StatePct_CT  9929896 non-null  float64\n 10  StatePct_DC  9929896 non-null  float64\n 11  StatePct_DE  9929896 non-null  float64\n 12  StatePct_FL  9929896 non-null  float64\n 13  StatePct_GA  9929896 non-null  float64\n 14  StatePct_GU  9929896 non-null  float64\n 15  StatePct_HI  9929896 non-null  float64\n 16  StatePct_IA  9929896 non-null  float64\n 17  StatePct_ID  9929896 non-null  float64\n 18  StatePct_IL  9929896 non-null  float64\n 19  StatePct_IN  9929896 non-null  float64\n 20  StatePct_KS  9929896 non-null  float64\n 21  StatePct_KY  9929896 non-null  float64\n 22  StatePct_LA  9929896 non-null  float64\n 23  StatePct_MA  9929896 non-null  float64\n 24  StatePct_MD  9929896 non-null  float64\n 25  StatePct_ME  9929896 non-null  object \n 26  StatePct_MI  9929896 non-null  float64\n 27  StatePct_MN  9929896 non-null  float64\n 28  StatePct_MO  9929896 non-null  float64\n 29  StatePct_MS  9929896 non-null  float64\n 30  StatePct_MT  9929896 non-null  object \n 31  StatePct_NC  9929896 non-null  float64\n 32  StatePct_ND  9929896 non-null  float64\n 33  StatePct_NE  9929896 non-null  float64\n 34  StatePct_NH  9929896 non-null  float64\n 35  StatePct_NJ  9929896 non-null  float64\n 36  StatePct_NM  9929896 non-null  float64\n 37  StatePct_NV  9929896 non-null  float64\n 38  StatePct_NY  9929896 non-null  float64\n 39  StatePct_OH  9929896 non-null  float64\n 40  StatePct_OK  9929896 non-null  float64\n 41  StatePct_OR  9929896 non-null  float64\n 42  StatePct_PA  9929896 non-null  float64\n 43  StatePct_PR  9929896 non-null  float64\n 44  StatePct_RI  9929896 non-null  float64\n 45  StatePct_SC  9929896 non-null  float64\n 46  StatePct_SD  9929896 non-null  float64\n 47  StatePct_TN  9929896 non-null  object \n 48  StatePct_TX  9929896 non-null  float64\n 49  StatePct_UT  9929896 non-null  float64\n 50  StatePct_VA  9929896 non-null  float64\n 51  StatePct_VI  9929896 non-null  float64\n 52  StatePct_VT  9929896 non-null  float64\n 53  StatePct_WA  9929896 non-null  float64\n 54  StatePct_WI  9929896 non-null  float64\n 55  StatePct_WV  9929896 non-null  float64\n 56  StatePct_WY  9929896 non-null  object \ndtypes: float64(48), int64(1), object(8)\nmemory usage: 4.3+ GB\n"
     ]
    }
   ],
   "source": [
    "geo_df.info(verbose=True, null_counts=True)"
   ]
  },
  {
   "cell_type": "code",
   "execution_count": 41,
   "metadata": {},
   "outputs": [],
   "source": [
    "geo_columns = ['StatePct_AK','StatePct_AL','StatePct_AR','StatePct_AZ','StatePct_CA','StatePct_CO','StatePct_CT',\n",
    "                'StatePct_DC','StatePct_DE','StatePct_FL','StatePct_GA','StatePct_GU','StatePct_HI','StatePct_IA',\n",
    "                'StatePct_ID','StatePct_IL','StatePct_IN','StatePct_KS','StatePct_KY','StatePct_LA','StatePct_MA',\n",
    "                'StatePct_MD','StatePct_ME','StatePct_MI','StatePct_MN','StatePct_MO','StatePct_MS','StatePct_MT',\n",
    "                'StatePct_NC','StatePct_ND','StatePct_NE','StatePct_NH','StatePct_NJ','StatePct_NM','StatePct_NV',\n",
    "                'StatePct_NY','StatePct_OH','StatePct_OK','StatePct_OR','StatePct_PA','StatePct_PR','StatePct_RI',\n",
    "                'StatePct_SC','StatePct_SD','StatePct_TN','StatePct_TX','StatePct_UT','StatePct_VA','StatePct_VI',\n",
    "                'StatePct_VT','StatePct_WA','StatePct_WI','StatePct_WV','StatePct_WY']"
   ]
  },
  {
   "cell_type": "code",
   "execution_count": 45,
   "metadata": {},
   "outputs": [],
   "source": [
    "geo_df[geo_columns] = geo_df[geo_columns].applymap(lambda x: float(x) if type(x) == float or type(x) == int else np.nan)"
   ]
  },
  {
   "cell_type": "code",
   "execution_count": 46,
   "metadata": {},
   "outputs": [],
   "source": [
    "geo_df.fillna(0,inplace=True)"
   ]
  },
  {
   "cell_type": "code",
   "execution_count": 47,
   "metadata": {},
   "outputs": [
    {
     "output_type": "stream",
     "name": "stdout",
     "text": [
      "<class 'pandas.core.frame.DataFrame'>\nInt64Index: 9929896 entries, 1482 to 164706\nData columns (total 57 columns):\n #   Column       Non-Null Count    Dtype  \n---  ------       --------------    -----  \n 0   poolno       9929896 non-null  object \n 1   asofdate     9929896 non-null  int64  \n 2   cusip        9929896 non-null  object \n 3   StatePct_AK  9929896 non-null  float64\n 4   StatePct_AL  9929896 non-null  float64\n 5   StatePct_AR  9929896 non-null  float64\n 6   StatePct_AZ  9929896 non-null  float64\n 7   StatePct_CA  9929896 non-null  float64\n 8   StatePct_CO  9929896 non-null  float64\n 9   StatePct_CT  9929896 non-null  float64\n 10  StatePct_DC  9929896 non-null  float64\n 11  StatePct_DE  9929896 non-null  float64\n 12  StatePct_FL  9929896 non-null  float64\n 13  StatePct_GA  9929896 non-null  float64\n 14  StatePct_GU  9929896 non-null  float64\n 15  StatePct_HI  9929896 non-null  float64\n 16  StatePct_IA  9929896 non-null  float64\n 17  StatePct_ID  9929896 non-null  float64\n 18  StatePct_IL  9929896 non-null  float64\n 19  StatePct_IN  9929896 non-null  float64\n 20  StatePct_KS  9929896 non-null  float64\n 21  StatePct_KY  9929896 non-null  float64\n 22  StatePct_LA  9929896 non-null  float64\n 23  StatePct_MA  9929896 non-null  float64\n 24  StatePct_MD  9929896 non-null  float64\n 25  StatePct_ME  9929896 non-null  float64\n 26  StatePct_MI  9929896 non-null  float64\n 27  StatePct_MN  9929896 non-null  float64\n 28  StatePct_MO  9929896 non-null  float64\n 29  StatePct_MS  9929896 non-null  float64\n 30  StatePct_MT  9929896 non-null  float64\n 31  StatePct_NC  9929896 non-null  float64\n 32  StatePct_ND  9929896 non-null  float64\n 33  StatePct_NE  9929896 non-null  float64\n 34  StatePct_NH  9929896 non-null  float64\n 35  StatePct_NJ  9929896 non-null  float64\n 36  StatePct_NM  9929896 non-null  float64\n 37  StatePct_NV  9929896 non-null  float64\n 38  StatePct_NY  9929896 non-null  float64\n 39  StatePct_OH  9929896 non-null  float64\n 40  StatePct_OK  9929896 non-null  float64\n 41  StatePct_OR  9929896 non-null  float64\n 42  StatePct_PA  9929896 non-null  float64\n 43  StatePct_PR  9929896 non-null  float64\n 44  StatePct_RI  9929896 non-null  float64\n 45  StatePct_SC  9929896 non-null  float64\n 46  StatePct_SD  9929896 non-null  float64\n 47  StatePct_TN  9929896 non-null  float64\n 48  StatePct_TX  9929896 non-null  float64\n 49  StatePct_UT  9929896 non-null  float64\n 50  StatePct_VA  9929896 non-null  float64\n 51  StatePct_VI  9929896 non-null  float64\n 52  StatePct_VT  9929896 non-null  float64\n 53  StatePct_WA  9929896 non-null  float64\n 54  StatePct_WI  9929896 non-null  float64\n 55  StatePct_WV  9929896 non-null  float64\n 56  StatePct_WY  9929896 non-null  float64\ndtypes: float64(54), int64(1), object(2)\nmemory usage: 4.3+ GB\n"
     ]
    }
   ],
   "source": [
    "geo_df.info(verbose=True, null_counts=True)"
   ]
  },
  {
   "cell_type": "code",
   "execution_count": null,
   "metadata": {},
   "outputs": [],
   "source": []
  },
  {
   "cell_type": "code",
   "execution_count": null,
   "metadata": {},
   "outputs": [],
   "source": []
  },
  {
   "cell_type": "code",
   "execution_count": null,
   "metadata": {},
   "outputs": [],
   "source": []
  },
  {
   "cell_type": "code",
   "execution_count": null,
   "metadata": {},
   "outputs": [],
   "source": []
  }
 ],
 "metadata": {
  "kernelspec": {
   "display_name": "Python 3",
   "language": "python",
   "name": "python3"
  },
  "language_info": {
   "codemirror_mode": {
    "name": "ipython",
    "version": 3
   },
   "file_extension": ".py",
   "mimetype": "text/x-python",
   "name": "python",
   "nbconvert_exporter": "python",
   "pygments_lexer": "ipython3",
   "version": "3.7.6-final"
  }
 },
 "nbformat": 4,
 "nbformat_minor": 2
}