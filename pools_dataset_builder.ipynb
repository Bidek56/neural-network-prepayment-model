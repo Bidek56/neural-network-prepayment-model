{
 "cells": [
  {
   "cell_type": "code",
   "execution_count": 1,
   "metadata": {},
   "outputs": [],
   "source": [
    "import pandas as pd\n",
    "import numpy as np\n",
    "import matplotlib.pyplot as plt\n",
    "from matplotlib.backends.backend_pdf import PdfPages\n",
    "import seaborn as sns\n",
    "import time\n",
    "import imp\n",
    "import os\n",
    "import os, os.path\n",
    "import datetime as dt\n",
    "import dateutil.parser as dp\n",
    "import dill\n",
    "\n",
    "%matplotlib inline"
   ]
  },
  {
   "cell_type": "code",
   "execution_count": 2,
   "metadata": {},
   "outputs": [
    {
     "output_type": "stream",
     "name": "stdout",
     "text": [
      "# of attr files:  121\n# of geo pct files:  120\n# of seller pct files:  122\n"
     ]
    }
   ],
   "source": [
    "# Create lists of data files (3 groups: regular attributes, GEO, and Seller composition)\n",
    "pools_attributes_files = list()\n",
    "for root, dirs, files in os.walk(\"C:/Users/YuriTurygin/Desktop/NN-PPM/data/pools attributes\"):\n",
    "    for name in files:\n",
    "        pools_attributes_files.append(os.path.join(root, name))        \n",
    "        \n",
    "pools_geo_pct_files = list()\n",
    "for root, dirs, files in os.walk(\"C:/Users/YuriTurygin/Desktop/NN-PPM/data/geo pct\"):\n",
    "    for name in files:\n",
    "        pools_geo_pct_files.append(os.path.join(root, name))  \n",
    "        \n",
    "pools_seller_pct_files = list()\n",
    "for root, dirs, files in os.walk(\"C:/Users/YuriTurygin/Desktop/NN-PPM/data/seller pct\"):\n",
    "    for name in files:\n",
    "        pools_seller_pct_files.append(os.path.join(root, name)) \n",
    "        \n",
    "print(\"# of attr files: \",len(pools_attributes_files))\n",
    "print(\"# of geo pct files: \",len(pools_geo_pct_files))\n",
    "print(\"# of seller pct files: \",len(pools_seller_pct_files))"
   ]
  },
  {
   "cell_type": "code",
   "execution_count": 3,
   "metadata": {},
   "outputs": [
    {
     "output_type": "stream",
     "name": "stdout",
     "text": [
      "Done loading C:/Users/YuriTurygin/Desktop/NN-PPM/data/pools attributes\\pools_attributes_issued_201001.csv\n",
      "Done loading C:/Users/YuriTurygin/Desktop/NN-PPM/data/pools attributes\\pools_attributes_issued_201002.csv\n",
      "Done loading C:/Users/YuriTurygin/Desktop/NN-PPM/data/pools attributes\\pools_attributes_issued_201003.csv\n",
      "Done loading C:/Users/YuriTurygin/Desktop/NN-PPM/data/pools attributes\\pools_attributes_issued_201004.csv\n",
      "Done loading C:/Users/YuriTurygin/Desktop/NN-PPM/data/pools attributes\\pools_attributes_issued_201005.csv\n",
      "Done loading C:/Users/YuriTurygin/Desktop/NN-PPM/data/pools attributes\\pools_attributes_issued_201006.csv\n",
      "Done loading C:/Users/YuriTurygin/Desktop/NN-PPM/data/pools attributes\\pools_attributes_issued_201007.csv\n",
      "Done loading C:/Users/YuriTurygin/Desktop/NN-PPM/data/pools attributes\\pools_attributes_issued_201008.csv\n",
      "Done loading C:/Users/YuriTurygin/Desktop/NN-PPM/data/pools attributes\\pools_attributes_issued_201009.csv\n",
      "Done loading C:/Users/YuriTurygin/Desktop/NN-PPM/data/pools attributes\\pools_attributes_issued_201010.csv\n",
      "Done loading C:/Users/YuriTurygin/Desktop/NN-PPM/data/pools attributes\\pools_attributes_issued_201011.csv\n",
      "Done loading C:/Users/YuriTurygin/Desktop/NN-PPM/data/pools attributes\\pools_attributes_issued_201012.csv\n",
      "Done loading C:/Users/YuriTurygin/Desktop/NN-PPM/data/pools attributes\\pools_attributes_issued_201101.csv\n",
      "Done loading C:/Users/YuriTurygin/Desktop/NN-PPM/data/pools attributes\\pools_attributes_issued_201102.csv\n",
      "Done loading C:/Users/YuriTurygin/Desktop/NN-PPM/data/pools attributes\\pools_attributes_issued_201103.csv\n",
      "Done loading C:/Users/YuriTurygin/Desktop/NN-PPM/data/pools attributes\\pools_attributes_issued_201104.csv\n",
      "Done loading C:/Users/YuriTurygin/Desktop/NN-PPM/data/pools attributes\\pools_attributes_issued_201105.csv\n",
      "Done loading C:/Users/YuriTurygin/Desktop/NN-PPM/data/pools attributes\\pools_attributes_issued_201106.csv\n",
      "Done loading C:/Users/YuriTurygin/Desktop/NN-PPM/data/pools attributes\\pools_attributes_issued_201107.csv\n",
      "Done loading C:/Users/YuriTurygin/Desktop/NN-PPM/data/pools attributes\\pools_attributes_issued_201108.csv\n",
      "Done loading C:/Users/YuriTurygin/Desktop/NN-PPM/data/pools attributes\\pools_attributes_issued_201109.csv\n",
      "Done loading C:/Users/YuriTurygin/Desktop/NN-PPM/data/pools attributes\\pools_attributes_issued_201110.csv\n",
      "Done loading C:/Users/YuriTurygin/Desktop/NN-PPM/data/pools attributes\\pools_attributes_issued_201111.csv\n",
      "Done loading C:/Users/YuriTurygin/Desktop/NN-PPM/data/pools attributes\\pools_attributes_issued_201112.csv\n",
      "Done loading C:/Users/YuriTurygin/Desktop/NN-PPM/data/pools attributes\\pools_attributes_issued_201201.csv\n",
      "Done loading C:/Users/YuriTurygin/Desktop/NN-PPM/data/pools attributes\\pools_attributes_issued_201202.csv\n",
      "Done loading C:/Users/YuriTurygin/Desktop/NN-PPM/data/pools attributes\\pools_attributes_issued_201203.csv\n",
      "Done loading C:/Users/YuriTurygin/Desktop/NN-PPM/data/pools attributes\\pools_attributes_issued_201204.csv\n",
      "Done loading C:/Users/YuriTurygin/Desktop/NN-PPM/data/pools attributes\\pools_attributes_issued_201205.csv\n",
      "Done loading C:/Users/YuriTurygin/Desktop/NN-PPM/data/pools attributes\\pools_attributes_issued_201206.csv\n",
      "Done loading C:/Users/YuriTurygin/Desktop/NN-PPM/data/pools attributes\\pools_attributes_issued_201207.csv\n",
      "Done loading C:/Users/YuriTurygin/Desktop/NN-PPM/data/pools attributes\\pools_attributes_issued_201208.csv\n",
      "Done loading C:/Users/YuriTurygin/Desktop/NN-PPM/data/pools attributes\\pools_attributes_issued_201209.csv\n",
      "Done loading C:/Users/YuriTurygin/Desktop/NN-PPM/data/pools attributes\\pools_attributes_issued_201210.csv\n",
      "Done loading C:/Users/YuriTurygin/Desktop/NN-PPM/data/pools attributes\\pools_attributes_issued_201211.csv\n",
      "Done loading C:/Users/YuriTurygin/Desktop/NN-PPM/data/pools attributes\\pools_attributes_issued_201212.csv\n",
      "Done loading C:/Users/YuriTurygin/Desktop/NN-PPM/data/pools attributes\\pools_attributes_issued_201301.csv\n",
      "Done loading C:/Users/YuriTurygin/Desktop/NN-PPM/data/pools attributes\\pools_attributes_issued_201302.csv\n",
      "Done loading C:/Users/YuriTurygin/Desktop/NN-PPM/data/pools attributes\\pools_attributes_issued_201303.csv\n",
      "Done loading C:/Users/YuriTurygin/Desktop/NN-PPM/data/pools attributes\\pools_attributes_issued_201304.csv\n",
      "Done loading C:/Users/YuriTurygin/Desktop/NN-PPM/data/pools attributes\\pools_attributes_issued_201305.csv\n",
      "Done loading C:/Users/YuriTurygin/Desktop/NN-PPM/data/pools attributes\\pools_attributes_issued_201306.csv\n",
      "Done loading C:/Users/YuriTurygin/Desktop/NN-PPM/data/pools attributes\\pools_attributes_issued_201307.csv\n",
      "Done loading C:/Users/YuriTurygin/Desktop/NN-PPM/data/pools attributes\\pools_attributes_issued_201308.csv\n",
      "Done loading C:/Users/YuriTurygin/Desktop/NN-PPM/data/pools attributes\\pools_attributes_issued_201309.csv\n",
      "Done loading C:/Users/YuriTurygin/Desktop/NN-PPM/data/pools attributes\\pools_attributes_issued_201310.csv\n",
      "Done loading C:/Users/YuriTurygin/Desktop/NN-PPM/data/pools attributes\\pools_attributes_issued_201311.csv\n",
      "Done loading C:/Users/YuriTurygin/Desktop/NN-PPM/data/pools attributes\\pools_attributes_issued_201312.csv\n",
      "Done loading C:/Users/YuriTurygin/Desktop/NN-PPM/data/pools attributes\\pools_attributes_issued_201401.csv\n",
      "Done loading C:/Users/YuriTurygin/Desktop/NN-PPM/data/pools attributes\\pools_attributes_issued_201402.csv\n",
      "Done loading C:/Users/YuriTurygin/Desktop/NN-PPM/data/pools attributes\\pools_attributes_issued_201403.csv\n",
      "Done loading C:/Users/YuriTurygin/Desktop/NN-PPM/data/pools attributes\\pools_attributes_issued_201404.csv\n",
      "Done loading C:/Users/YuriTurygin/Desktop/NN-PPM/data/pools attributes\\pools_attributes_issued_201405.csv\n",
      "Done loading C:/Users/YuriTurygin/Desktop/NN-PPM/data/pools attributes\\pools_attributes_issued_201406.csv\n",
      "Done loading C:/Users/YuriTurygin/Desktop/NN-PPM/data/pools attributes\\pools_attributes_issued_201407.csv\n",
      "Done loading C:/Users/YuriTurygin/Desktop/NN-PPM/data/pools attributes\\pools_attributes_issued_201408.csv\n",
      "Done loading C:/Users/YuriTurygin/Desktop/NN-PPM/data/pools attributes\\pools_attributes_issued_201409.csv\n",
      "Done loading C:/Users/YuriTurygin/Desktop/NN-PPM/data/pools attributes\\pools_attributes_issued_201410.csv\n",
      "Done loading C:/Users/YuriTurygin/Desktop/NN-PPM/data/pools attributes\\pools_attributes_issued_201411.csv\n",
      "Done loading C:/Users/YuriTurygin/Desktop/NN-PPM/data/pools attributes\\pools_attributes_issued_201412.csv\n",
      "Done loading C:/Users/YuriTurygin/Desktop/NN-PPM/data/pools attributes\\pools_attributes_issued_201501.csv\n",
      "Done loading C:/Users/YuriTurygin/Desktop/NN-PPM/data/pools attributes\\pools_attributes_issued_201502.csv\n",
      "Done loading C:/Users/YuriTurygin/Desktop/NN-PPM/data/pools attributes\\pools_attributes_issued_201503.csv\n",
      "Done loading C:/Users/YuriTurygin/Desktop/NN-PPM/data/pools attributes\\pools_attributes_issued_201504.csv\n",
      "Done loading C:/Users/YuriTurygin/Desktop/NN-PPM/data/pools attributes\\pools_attributes_issued_201505.csv\n",
      "Done loading C:/Users/YuriTurygin/Desktop/NN-PPM/data/pools attributes\\pools_attributes_issued_201506.csv\n",
      "Done loading C:/Users/YuriTurygin/Desktop/NN-PPM/data/pools attributes\\pools_attributes_issued_201507.csv\n",
      "Done loading C:/Users/YuriTurygin/Desktop/NN-PPM/data/pools attributes\\pools_attributes_issued_201508.csv\n",
      "Done loading C:/Users/YuriTurygin/Desktop/NN-PPM/data/pools attributes\\pools_attributes_issued_201509.csv\n",
      "Done loading C:/Users/YuriTurygin/Desktop/NN-PPM/data/pools attributes\\pools_attributes_issued_201510.csv\n",
      "Done loading C:/Users/YuriTurygin/Desktop/NN-PPM/data/pools attributes\\pools_attributes_issued_201511.csv\n",
      "Done loading C:/Users/YuriTurygin/Desktop/NN-PPM/data/pools attributes\\pools_attributes_issued_201512.csv\n",
      "Done loading C:/Users/YuriTurygin/Desktop/NN-PPM/data/pools attributes\\pools_attributes_issued_201601.csv\n",
      "Done loading C:/Users/YuriTurygin/Desktop/NN-PPM/data/pools attributes\\pools_attributes_issued_201602.csv\n",
      "Done loading C:/Users/YuriTurygin/Desktop/NN-PPM/data/pools attributes\\pools_attributes_issued_201603.csv\n",
      "Done loading C:/Users/YuriTurygin/Desktop/NN-PPM/data/pools attributes\\pools_attributes_issued_201604.csv\n",
      "Done loading C:/Users/YuriTurygin/Desktop/NN-PPM/data/pools attributes\\pools_attributes_issued_201605.csv\n",
      "Done loading C:/Users/YuriTurygin/Desktop/NN-PPM/data/pools attributes\\pools_attributes_issued_201606.csv\n",
      "Done loading C:/Users/YuriTurygin/Desktop/NN-PPM/data/pools attributes\\pools_attributes_issued_201607.csv\n",
      "Done loading C:/Users/YuriTurygin/Desktop/NN-PPM/data/pools attributes\\pools_attributes_issued_201608.csv\n",
      "Done loading C:/Users/YuriTurygin/Desktop/NN-PPM/data/pools attributes\\pools_attributes_issued_201609.csv\n",
      "Done loading C:/Users/YuriTurygin/Desktop/NN-PPM/data/pools attributes\\pools_attributes_issued_201610.csv\n",
      "Done loading C:/Users/YuriTurygin/Desktop/NN-PPM/data/pools attributes\\pools_attributes_issued_201611.csv\n",
      "Done loading C:/Users/YuriTurygin/Desktop/NN-PPM/data/pools attributes\\pools_attributes_issued_201612.csv\n",
      "Done loading C:/Users/YuriTurygin/Desktop/NN-PPM/data/pools attributes\\pools_attributes_issued_201701.csv\n",
      "Done loading C:/Users/YuriTurygin/Desktop/NN-PPM/data/pools attributes\\pools_attributes_issued_201702.csv\n",
      "Done loading C:/Users/YuriTurygin/Desktop/NN-PPM/data/pools attributes\\pools_attributes_issued_201703.csv\n",
      "Done loading C:/Users/YuriTurygin/Desktop/NN-PPM/data/pools attributes\\pools_attributes_issued_201704.csv\n",
      "Done loading C:/Users/YuriTurygin/Desktop/NN-PPM/data/pools attributes\\pools_attributes_issued_201705.csv\n",
      "Done loading C:/Users/YuriTurygin/Desktop/NN-PPM/data/pools attributes\\pools_attributes_issued_201706.csv\n",
      "Done loading C:/Users/YuriTurygin/Desktop/NN-PPM/data/pools attributes\\pools_attributes_issued_201707.csv\n",
      "Done loading C:/Users/YuriTurygin/Desktop/NN-PPM/data/pools attributes\\pools_attributes_issued_201708.csv\n",
      "Done loading C:/Users/YuriTurygin/Desktop/NN-PPM/data/pools attributes\\pools_attributes_issued_201709.csv\n",
      "Done loading C:/Users/YuriTurygin/Desktop/NN-PPM/data/pools attributes\\pools_attributes_issued_201710.csv\n",
      "Done loading C:/Users/YuriTurygin/Desktop/NN-PPM/data/pools attributes\\pools_attributes_issued_201711.csv\n",
      "Done loading C:/Users/YuriTurygin/Desktop/NN-PPM/data/pools attributes\\pools_attributes_issued_201712.csv\n",
      "Done loading C:/Users/YuriTurygin/Desktop/NN-PPM/data/pools attributes\\pools_attributes_issued_201801.csv\n",
      "Done loading C:/Users/YuriTurygin/Desktop/NN-PPM/data/pools attributes\\pools_attributes_issued_201802.csv\n",
      "Done loading C:/Users/YuriTurygin/Desktop/NN-PPM/data/pools attributes\\pools_attributes_issued_201803.csv\n",
      "Done loading C:/Users/YuriTurygin/Desktop/NN-PPM/data/pools attributes\\pools_attributes_issued_201804.csv\n",
      "Done loading C:/Users/YuriTurygin/Desktop/NN-PPM/data/pools attributes\\pools_attributes_issued_201805.csv\n",
      "Done loading C:/Users/YuriTurygin/Desktop/NN-PPM/data/pools attributes\\pools_attributes_issued_201806.csv\n",
      "Done loading C:/Users/YuriTurygin/Desktop/NN-PPM/data/pools attributes\\pools_attributes_issued_201807.csv\n",
      "Done loading C:/Users/YuriTurygin/Desktop/NN-PPM/data/pools attributes\\pools_attributes_issued_201808.csv\n",
      "Done loading C:/Users/YuriTurygin/Desktop/NN-PPM/data/pools attributes\\pools_attributes_issued_201809.csv\n",
      "Done loading C:/Users/YuriTurygin/Desktop/NN-PPM/data/pools attributes\\pools_attributes_issued_201810.csv\n",
      "Done loading C:/Users/YuriTurygin/Desktop/NN-PPM/data/pools attributes\\pools_attributes_issued_201811.csv\n",
      "Done loading C:/Users/YuriTurygin/Desktop/NN-PPM/data/pools attributes\\pools_attributes_issued_201812.csv\n",
      "Done loading C:/Users/YuriTurygin/Desktop/NN-PPM/data/pools attributes\\pools_attributes_issued_201901.csv\n",
      "Done loading C:/Users/YuriTurygin/Desktop/NN-PPM/data/pools attributes\\pools_attributes_issued_201902.csv\n",
      "Done loading C:/Users/YuriTurygin/Desktop/NN-PPM/data/pools attributes\\pools_attributes_issued_201903.csv\n",
      "Done loading C:/Users/YuriTurygin/Desktop/NN-PPM/data/pools attributes\\pools_attributes_issued_201904.csv\n",
      "Done loading C:/Users/YuriTurygin/Desktop/NN-PPM/data/pools attributes\\pools_attributes_issued_201905.csv\n",
      "Done loading C:/Users/YuriTurygin/Desktop/NN-PPM/data/pools attributes\\pools_attributes_issued_201906.csv\n",
      "Done loading C:/Users/YuriTurygin/Desktop/NN-PPM/data/pools attributes\\pools_attributes_issued_201907.csv\n",
      "Done loading C:/Users/YuriTurygin/Desktop/NN-PPM/data/pools attributes\\pools_attributes_issued_201908.csv\n",
      "Done loading C:/Users/YuriTurygin/Desktop/NN-PPM/data/pools attributes\\pools_attributes_issued_201909.csv\n",
      "Done loading C:/Users/YuriTurygin/Desktop/NN-PPM/data/pools attributes\\pools_attributes_issued_201910.csv\n",
      "Done loading C:/Users/YuriTurygin/Desktop/NN-PPM/data/pools attributes\\pools_attributes_issued_201911.csv\n",
      "Done loading C:/Users/YuriTurygin/Desktop/NN-PPM/data/pools attributes\\pools_attributes_issued_201912.csv\n",
      "Done loading C:/Users/YuriTurygin/Desktop/NN-PPM/data/pools attributes\\pools_attributes_issued_202001.csv\n"
     ]
    }
   ],
   "source": [
    "# Read in all files with regular pool attributes\n",
    "attr_df = pd.DataFrame()\n",
    "for file in pools_attributes_files:\n",
    "    one_month_issue_pools = pd.read_csv(file)\n",
    "    if len(attr_df)==0:\n",
    "        attr_df = one_month_issue_pools\n",
    "    else:\n",
    "        # df1.columns.difference(df2.columns)\n",
    "        # df2.columns.difference(df1.columns)\n",
    "        if all(attr_df.columns == one_month_issue_pools.columns):\n",
    "            attr_df = pd.concat([attr_df,one_month_issue_pools])\n",
    "    print('Done loading ' + file)"
   ]
  },
  {
   "cell_type": "code",
   "execution_count": 4,
   "metadata": {},
   "outputs": [
    {
     "output_type": "execute_result",
     "data": {
      "text/plain": [
       "Index(['poolno', 'asofdate', 'cusip', 'Prefix', 'spread', 'Cpr1', 'Cpr3',\n",
       "       'Cpr6', 'Cpr12', 'Cpr24', 'CprLife', 'SMM', 'DayCount', 'OBal', 'CBal',\n",
       "       'pbal', 'paydown', 'Prepay', 'factor', 'OCoupon', 'Coupon', 'OWac',\n",
       "       'Wac', 'Wam', 'Age', 'aols', 'waols', 'ONLoans', 'cnloans', 'PCNLoans',\n",
       "       'PPNLoans', 'OSato', 'CSato', 'oltv', 'cltv', '%cltv_80', '%cltv_105',\n",
       "       '%cltv_125', '%ccltv_80', '%ccltv_105', '%ccltv_125', 'fico',\n",
       "       '%FedHold', '%CMOHold', 'dti', 'codti', '%CashWindow', '%Majors',\n",
       "       'ocltv', 'ccltv', 'PurpPct_purchase', 'PurpPct_refi',\n",
       "       'PctChannel_Broker', 'PctChannel_Corr', 'PctChannel_Retail',\n",
       "       'OccPct_investor', 'OccPct_owner', 'PropUnitsPct_2-4', 'Label'],\n",
       "      dtype='object')"
      ]
     },
     "metadata": {},
     "execution_count": 4
    }
   ],
   "source": [
    "attr_df.columns"
   ]
  },
  {
   "cell_type": "code",
   "execution_count": 5,
   "metadata": {},
   "outputs": [
    {
     "output_type": "execute_result",
     "data": {
      "text/plain": [
       "10143061"
      ]
     },
     "metadata": {},
     "execution_count": 5
    }
   ],
   "source": [
    "len(attr_df)"
   ]
  },
  {
   "cell_type": "code",
   "execution_count": 6,
   "metadata": {},
   "outputs": [],
   "source": [
    "dill.dump_session('notebook_env_just_attributes.db')"
   ]
  },
  {
   "cell_type": "code",
   "execution_count": 7,
   "metadata": {},
   "outputs": [
    {
     "output_type": "stream",
     "name": "stdout",
     "text": [
      "Done loading C:/Users/YuriTurygin/Desktop/NN-PPM/data/geo pct\\pools_geo_pct_issued_201001.csv\n",
      "Done loading C:/Users/YuriTurygin/Desktop/NN-PPM/data/geo pct\\pools_geo_pct_issued_201002.csv\n",
      "Done loading C:/Users/YuriTurygin/Desktop/NN-PPM/data/geo pct\\pools_geo_pct_issued_201003.csv\n",
      "Done loading C:/Users/YuriTurygin/Desktop/NN-PPM/data/geo pct\\pools_geo_pct_issued_201005.csv\n",
      "Done loading C:/Users/YuriTurygin/Desktop/NN-PPM/data/geo pct\\pools_geo_pct_issued_201006.csv\n",
      "Done loading C:/Users/YuriTurygin/Desktop/NN-PPM/data/geo pct\\pools_geo_pct_issued_201007.csv\n",
      "Done loading C:/Users/YuriTurygin/Desktop/NN-PPM/data/geo pct\\pools_geo_pct_issued_201008.csv\n",
      "Done loading C:/Users/YuriTurygin/Desktop/NN-PPM/data/geo pct\\pools_geo_pct_issued_201009.csv\n",
      "Done loading C:/Users/YuriTurygin/Desktop/NN-PPM/data/geo pct\\pools_geo_pct_issued_201010.csv\n",
      "Done loading C:/Users/YuriTurygin/Desktop/NN-PPM/data/geo pct\\pools_geo_pct_issued_201011.csv\n",
      "Done loading C:/Users/YuriTurygin/Desktop/NN-PPM/data/geo pct\\pools_geo_pct_issued_201012.csv\n",
      "Done loading C:/Users/YuriTurygin/Desktop/NN-PPM/data/geo pct\\pools_geo_pct_issued_201101.csv\n",
      "Done loading C:/Users/YuriTurygin/Desktop/NN-PPM/data/geo pct\\pools_geo_pct_issued_201102.csv\n",
      "Done loading C:/Users/YuriTurygin/Desktop/NN-PPM/data/geo pct\\pools_geo_pct_issued_201103.csv\n",
      "Done loading C:/Users/YuriTurygin/Desktop/NN-PPM/data/geo pct\\pools_geo_pct_issued_201104.csv\n",
      "Done loading C:/Users/YuriTurygin/Desktop/NN-PPM/data/geo pct\\pools_geo_pct_issued_201105.csv\n",
      "Done loading C:/Users/YuriTurygin/Desktop/NN-PPM/data/geo pct\\pools_geo_pct_issued_201106.csv\n",
      "Done loading C:/Users/YuriTurygin/Desktop/NN-PPM/data/geo pct\\pools_geo_pct_issued_201107.csv\n",
      "Done loading C:/Users/YuriTurygin/Desktop/NN-PPM/data/geo pct\\pools_geo_pct_issued_201108.csv\n",
      "Done loading C:/Users/YuriTurygin/Desktop/NN-PPM/data/geo pct\\pools_geo_pct_issued_201109.csv\n",
      "Done loading C:/Users/YuriTurygin/Desktop/NN-PPM/data/geo pct\\pools_geo_pct_issued_201110.csv\n",
      "Done loading C:/Users/YuriTurygin/Desktop/NN-PPM/data/geo pct\\pools_geo_pct_issued_201111.csv\n",
      "Done loading C:/Users/YuriTurygin/Desktop/NN-PPM/data/geo pct\\pools_geo_pct_issued_201112.csv\n",
      "Done loading C:/Users/YuriTurygin/Desktop/NN-PPM/data/geo pct\\pools_geo_pct_issued_201201.csv\n",
      "Done loading C:/Users/YuriTurygin/Desktop/NN-PPM/data/geo pct\\pools_geo_pct_issued_201202.csv\n",
      "Done loading C:/Users/YuriTurygin/Desktop/NN-PPM/data/geo pct\\pools_geo_pct_issued_201203.csv\n",
      "Done loading C:/Users/YuriTurygin/Desktop/NN-PPM/data/geo pct\\pools_geo_pct_issued_201204.csv\n",
      "Done loading C:/Users/YuriTurygin/Desktop/NN-PPM/data/geo pct\\pools_geo_pct_issued_201205.csv\n",
      "Done loading C:/Users/YuriTurygin/Desktop/NN-PPM/data/geo pct\\pools_geo_pct_issued_201206.csv\n",
      "Done loading C:/Users/YuriTurygin/Desktop/NN-PPM/data/geo pct\\pools_geo_pct_issued_201207.csv\n",
      "Done loading C:/Users/YuriTurygin/Desktop/NN-PPM/data/geo pct\\pools_geo_pct_issued_201208.csv\n",
      "Done loading C:/Users/YuriTurygin/Desktop/NN-PPM/data/geo pct\\pools_geo_pct_issued_201209.csv\n",
      "Done loading C:/Users/YuriTurygin/Desktop/NN-PPM/data/geo pct\\pools_geo_pct_issued_201210.csv\n",
      "Done loading C:/Users/YuriTurygin/Desktop/NN-PPM/data/geo pct\\pools_geo_pct_issued_201211.csv\n",
      "Done loading C:/Users/YuriTurygin/Desktop/NN-PPM/data/geo pct\\pools_geo_pct_issued_201212.csv\n",
      "Done loading C:/Users/YuriTurygin/Desktop/NN-PPM/data/geo pct\\pools_geo_pct_issued_201301.csv\n",
      "Done loading C:/Users/YuriTurygin/Desktop/NN-PPM/data/geo pct\\pools_geo_pct_issued_201302.csv\n",
      "Done loading C:/Users/YuriTurygin/Desktop/NN-PPM/data/geo pct\\pools_geo_pct_issued_201303.csv\n",
      "Done loading C:/Users/YuriTurygin/Desktop/NN-PPM/data/geo pct\\pools_geo_pct_issued_201304.csv\n",
      "Done loading C:/Users/YuriTurygin/Desktop/NN-PPM/data/geo pct\\pools_geo_pct_issued_201305.csv\n",
      "Done loading C:/Users/YuriTurygin/Desktop/NN-PPM/data/geo pct\\pools_geo_pct_issued_201306.csv\n",
      "Done loading C:/Users/YuriTurygin/Desktop/NN-PPM/data/geo pct\\pools_geo_pct_issued_201307.csv\n",
      "Done loading C:/Users/YuriTurygin/Desktop/NN-PPM/data/geo pct\\pools_geo_pct_issued_201308.csv\n",
      "Done loading C:/Users/YuriTurygin/Desktop/NN-PPM/data/geo pct\\pools_geo_pct_issued_201309.csv\n",
      "Done loading C:/Users/YuriTurygin/Desktop/NN-PPM/data/geo pct\\pools_geo_pct_issued_201310.csv\n",
      "Done loading C:/Users/YuriTurygin/Desktop/NN-PPM/data/geo pct\\pools_geo_pct_issued_201311.csv\n",
      "Done loading C:/Users/YuriTurygin/Desktop/NN-PPM/data/geo pct\\pools_geo_pct_issued_201312.csv\n",
      "Done loading C:/Users/YuriTurygin/Desktop/NN-PPM/data/geo pct\\pools_geo_pct_issued_201401.csv\n",
      "Done loading C:/Users/YuriTurygin/Desktop/NN-PPM/data/geo pct\\pools_geo_pct_issued_201402.csv\n",
      "Done loading C:/Users/YuriTurygin/Desktop/NN-PPM/data/geo pct\\pools_geo_pct_issued_201403.csv\n",
      "Done loading C:/Users/YuriTurygin/Desktop/NN-PPM/data/geo pct\\pools_geo_pct_issued_201404.csv\n",
      "Done loading C:/Users/YuriTurygin/Desktop/NN-PPM/data/geo pct\\pools_geo_pct_issued_201405.csv\n",
      "Done loading C:/Users/YuriTurygin/Desktop/NN-PPM/data/geo pct\\pools_geo_pct_issued_201406.csv\n",
      "Done loading C:/Users/YuriTurygin/Desktop/NN-PPM/data/geo pct\\pools_geo_pct_issued_201407.csv\n",
      "Done loading C:/Users/YuriTurygin/Desktop/NN-PPM/data/geo pct\\pools_geo_pct_issued_201408.csv\n",
      "Done loading C:/Users/YuriTurygin/Desktop/NN-PPM/data/geo pct\\pools_geo_pct_issued_201409.csv\n",
      "Done loading C:/Users/YuriTurygin/Desktop/NN-PPM/data/geo pct\\pools_geo_pct_issued_201410.csv\n",
      "Done loading C:/Users/YuriTurygin/Desktop/NN-PPM/data/geo pct\\pools_geo_pct_issued_201411.csv\n",
      "Done loading C:/Users/YuriTurygin/Desktop/NN-PPM/data/geo pct\\pools_geo_pct_issued_201412.csv\n",
      "Done loading C:/Users/YuriTurygin/Desktop/NN-PPM/data/geo pct\\pools_geo_pct_issued_201501.csv\n",
      "Done loading C:/Users/YuriTurygin/Desktop/NN-PPM/data/geo pct\\pools_geo_pct_issued_201502.csv\n",
      "Done loading C:/Users/YuriTurygin/Desktop/NN-PPM/data/geo pct\\pools_geo_pct_issued_201503.csv\n",
      "Done loading C:/Users/YuriTurygin/Desktop/NN-PPM/data/geo pct\\pools_geo_pct_issued_201504.csv\n",
      "Done loading C:/Users/YuriTurygin/Desktop/NN-PPM/data/geo pct\\pools_geo_pct_issued_201505.csv\n",
      "Done loading C:/Users/YuriTurygin/Desktop/NN-PPM/data/geo pct\\pools_geo_pct_issued_201506.csv\n",
      "Done loading C:/Users/YuriTurygin/Desktop/NN-PPM/data/geo pct\\pools_geo_pct_issued_201507.csv\n",
      "Done loading C:/Users/YuriTurygin/Desktop/NN-PPM/data/geo pct\\pools_geo_pct_issued_201508.csv\n",
      "Done loading C:/Users/YuriTurygin/Desktop/NN-PPM/data/geo pct\\pools_geo_pct_issued_201509.csv\n",
      "Done loading C:/Users/YuriTurygin/Desktop/NN-PPM/data/geo pct\\pools_geo_pct_issued_201510.csv\n",
      "Done loading C:/Users/YuriTurygin/Desktop/NN-PPM/data/geo pct\\pools_geo_pct_issued_201511.csv\n",
      "Done loading C:/Users/YuriTurygin/Desktop/NN-PPM/data/geo pct\\pools_geo_pct_issued_201512.csv\n",
      "Done loading C:/Users/YuriTurygin/Desktop/NN-PPM/data/geo pct\\pools_geo_pct_issued_201601.csv\n",
      "Done loading C:/Users/YuriTurygin/Desktop/NN-PPM/data/geo pct\\pools_geo_pct_issued_201602.csv\n",
      "Done loading C:/Users/YuriTurygin/Desktop/NN-PPM/data/geo pct\\pools_geo_pct_issued_201603.csv\n",
      "Done loading C:/Users/YuriTurygin/Desktop/NN-PPM/data/geo pct\\pools_geo_pct_issued_201604.csv\n",
      "Done loading C:/Users/YuriTurygin/Desktop/NN-PPM/data/geo pct\\pools_geo_pct_issued_201605.csv\n",
      "Done loading C:/Users/YuriTurygin/Desktop/NN-PPM/data/geo pct\\pools_geo_pct_issued_201606.csv\n",
      "Done loading C:/Users/YuriTurygin/Desktop/NN-PPM/data/geo pct\\pools_geo_pct_issued_201607.csv\n",
      "Done loading C:/Users/YuriTurygin/Desktop/NN-PPM/data/geo pct\\pools_geo_pct_issued_201608.csv\n",
      "Done loading C:/Users/YuriTurygin/Desktop/NN-PPM/data/geo pct\\pools_geo_pct_issued_201609.csv\n",
      "Done loading C:/Users/YuriTurygin/Desktop/NN-PPM/data/geo pct\\pools_geo_pct_issued_201610.csv\n",
      "Done loading C:/Users/YuriTurygin/Desktop/NN-PPM/data/geo pct\\pools_geo_pct_issued_201611.csv\n",
      "Done loading C:/Users/YuriTurygin/Desktop/NN-PPM/data/geo pct\\pools_geo_pct_issued_201612.csv\n",
      "Done loading C:/Users/YuriTurygin/Desktop/NN-PPM/data/geo pct\\pools_geo_pct_issued_201701.csv\n",
      "Done loading C:/Users/YuriTurygin/Desktop/NN-PPM/data/geo pct\\pools_geo_pct_issued_201702.csv\n",
      "Done loading C:/Users/YuriTurygin/Desktop/NN-PPM/data/geo pct\\pools_geo_pct_issued_201703.csv\n",
      "Done loading C:/Users/YuriTurygin/Desktop/NN-PPM/data/geo pct\\pools_geo_pct_issued_201704.csv\n",
      "Done loading C:/Users/YuriTurygin/Desktop/NN-PPM/data/geo pct\\pools_geo_pct_issued_201705.csv\n",
      "Done loading C:/Users/YuriTurygin/Desktop/NN-PPM/data/geo pct\\pools_geo_pct_issued_201706.csv\n",
      "Done loading C:/Users/YuriTurygin/Desktop/NN-PPM/data/geo pct\\pools_geo_pct_issued_201707.csv\n",
      "Done loading C:/Users/YuriTurygin/Desktop/NN-PPM/data/geo pct\\pools_geo_pct_issued_201708.csv\n",
      "Done loading C:/Users/YuriTurygin/Desktop/NN-PPM/data/geo pct\\pools_geo_pct_issued_201709.csv\n",
      "Done loading C:/Users/YuriTurygin/Desktop/NN-PPM/data/geo pct\\pools_geo_pct_issued_201710.csv\n",
      "Done loading C:/Users/YuriTurygin/Desktop/NN-PPM/data/geo pct\\pools_geo_pct_issued_201711.csv\n",
      "Done loading C:/Users/YuriTurygin/Desktop/NN-PPM/data/geo pct\\pools_geo_pct_issued_201712.csv\n",
      "Done loading C:/Users/YuriTurygin/Desktop/NN-PPM/data/geo pct\\pools_geo_pct_issued_201801.csv\n",
      "Done loading C:/Users/YuriTurygin/Desktop/NN-PPM/data/geo pct\\pools_geo_pct_issued_201802.csv\n",
      "Done loading C:/Users/YuriTurygin/Desktop/NN-PPM/data/geo pct\\pools_geo_pct_issued_201803.csv\n",
      "Done loading C:/Users/YuriTurygin/Desktop/NN-PPM/data/geo pct\\pools_geo_pct_issued_201804.csv\n",
      "Done loading C:/Users/YuriTurygin/Desktop/NN-PPM/data/geo pct\\pools_geo_pct_issued_201805.csv\n",
      "Done loading C:/Users/YuriTurygin/Desktop/NN-PPM/data/geo pct\\pools_geo_pct_issued_201806.csv\n",
      "Done loading C:/Users/YuriTurygin/Desktop/NN-PPM/data/geo pct\\pools_geo_pct_issued_201807.csv\n",
      "Done loading C:/Users/YuriTurygin/Desktop/NN-PPM/data/geo pct\\pools_geo_pct_issued_201808.csv\n",
      "Done loading C:/Users/YuriTurygin/Desktop/NN-PPM/data/geo pct\\pools_geo_pct_issued_201809.csv\n",
      "Done loading C:/Users/YuriTurygin/Desktop/NN-PPM/data/geo pct\\pools_geo_pct_issued_201810.csv\n",
      "Done loading C:/Users/YuriTurygin/Desktop/NN-PPM/data/geo pct\\pools_geo_pct_issued_201811.csv\n",
      "Done loading C:/Users/YuriTurygin/Desktop/NN-PPM/data/geo pct\\pools_geo_pct_issued_201812.csv\n",
      "Done loading C:/Users/YuriTurygin/Desktop/NN-PPM/data/geo pct\\pools_geo_pct_issued_201901.csv\n",
      "Done loading C:/Users/YuriTurygin/Desktop/NN-PPM/data/geo pct\\pools_geo_pct_issued_201902.csv\n",
      "Done loading C:/Users/YuriTurygin/Desktop/NN-PPM/data/geo pct\\pools_geo_pct_issued_201903.csv\n",
      "Done loading C:/Users/YuriTurygin/Desktop/NN-PPM/data/geo pct\\pools_geo_pct_issued_201904.csv\n",
      "Done loading C:/Users/YuriTurygin/Desktop/NN-PPM/data/geo pct\\pools_geo_pct_issued_201905.csv\n",
      "Done loading C:/Users/YuriTurygin/Desktop/NN-PPM/data/geo pct\\pools_geo_pct_issued_201906.csv\n",
      "Done loading C:/Users/YuriTurygin/Desktop/NN-PPM/data/geo pct\\pools_geo_pct_issued_201907.csv\n",
      "Done loading C:/Users/YuriTurygin/Desktop/NN-PPM/data/geo pct\\pools_geo_pct_issued_201908.csv\n",
      "Done loading C:/Users/YuriTurygin/Desktop/NN-PPM/data/geo pct\\pools_geo_pct_issued_201909.csv\n",
      "Done loading C:/Users/YuriTurygin/Desktop/NN-PPM/data/geo pct\\pools_geo_pct_issued_201910.csv\n",
      "Done loading C:/Users/YuriTurygin/Desktop/NN-PPM/data/geo pct\\pools_geo_pct_issued_201911.csv\n",
      "Done loading C:/Users/YuriTurygin/Desktop/NN-PPM/data/geo pct\\pools_geo_pct_issued_201912.csv\n",
      "Done loading C:/Users/YuriTurygin/Desktop/NN-PPM/data/geo pct\\pools_geo_pct_issued_202001.csv\n"
     ]
    }
   ],
   "source": [
    "# Read in all files with pools GEO info\n",
    "geo_df = pd.DataFrame()\n",
    "for file in pools_geo_pct_files:\n",
    "    one_month_issue_pools = pd.read_csv(file)\n",
    "    if len(geo_df)==0:\n",
    "        geo_df = one_month_issue_pools\n",
    "    else:\n",
    "        # df1.columns.difference(df2.columns)\n",
    "        # df2.columns.difference(df1.columns)\n",
    "        if all(geo_df.columns == one_month_issue_pools.columns):\n",
    "            geo_df = pd.concat([geo_df,one_month_issue_pools])\n",
    "    print('Done loading ' + file)"
   ]
  },
  {
   "cell_type": "code",
   "execution_count": 8,
   "metadata": {},
   "outputs": [
    {
     "output_type": "execute_result",
     "data": {
      "text/plain": [
       "Index(['poolno', 'asofdate', 'cusip', 'StatePct_AK', 'StatePct_AL',\n",
       "       'StatePct_AR', 'StatePct_AZ', 'StatePct_CA', 'StatePct_CO',\n",
       "       'StatePct_CT', 'StatePct_DC', 'StatePct_DE', 'StatePct_FL',\n",
       "       'StatePct_GA', 'StatePct_GU', 'StatePct_HI', 'StatePct_IA',\n",
       "       'StatePct_ID', 'StatePct_IL', 'StatePct_IN', 'StatePct_KS',\n",
       "       'StatePct_KY', 'StatePct_LA', 'StatePct_MA', 'StatePct_MD',\n",
       "       'StatePct_ME', 'StatePct_MI', 'StatePct_MN', 'StatePct_MO',\n",
       "       'StatePct_MS', 'StatePct_MT', 'StatePct_NC', 'StatePct_ND',\n",
       "       'StatePct_NE', 'StatePct_NH', 'StatePct_NJ', 'StatePct_NM',\n",
       "       'StatePct_NV', 'StatePct_NY', 'StatePct_OH', 'StatePct_OK',\n",
       "       'StatePct_OR', 'StatePct_PA', 'StatePct_PR', 'StatePct_RI',\n",
       "       'StatePct_SC', 'StatePct_SD', 'StatePct_TN', 'StatePct_TX',\n",
       "       'StatePct_UT', 'StatePct_VA', 'StatePct_VI', 'StatePct_VT',\n",
       "       'StatePct_WA', 'StatePct_WI', 'StatePct_WV', 'StatePct_WY', 'Label'],\n",
       "      dtype='object')"
      ]
     },
     "metadata": {},
     "execution_count": 8
    }
   ],
   "source": [
    "geo_df.columns"
   ]
  },
  {
   "cell_type": "code",
   "execution_count": 9,
   "metadata": {},
   "outputs": [
    {
     "output_type": "execute_result",
     "data": {
      "text/plain": [
       "9929896"
      ]
     },
     "metadata": {},
     "execution_count": 9
    }
   ],
   "source": [
    "len(geo_df)"
   ]
  },
  {
   "cell_type": "code",
   "execution_count": 10,
   "metadata": {},
   "outputs": [],
   "source": [
    "dill.dump_session('notebook_env_attr_and_geo.db')"
   ]
  },
  {
   "cell_type": "code",
   "execution_count": 11,
   "metadata": {},
   "outputs": [
    {
     "output_type": "stream",
     "name": "stdout",
     "text": [
      "Done loading C:/Users/YuriTurygin/Desktop/NN-PPM/data/seller pct\\pools_attributes_issued_201001.csv\n",
      "Done loading C:/Users/YuriTurygin/Desktop/NN-PPM/data/seller pct\\pools_attributes_issued_201002.csv\n",
      "Done loading C:/Users/YuriTurygin/Desktop/NN-PPM/data/seller pct\\pools_attributes_issued_201003.csv\n",
      "Done loading C:/Users/YuriTurygin/Desktop/NN-PPM/data/seller pct\\pools_attributes_issued_201004.csv\n",
      "Done loading C:/Users/YuriTurygin/Desktop/NN-PPM/data/seller pct\\pools_attributes_issued_201005.csv\n",
      "Done loading C:/Users/YuriTurygin/Desktop/NN-PPM/data/seller pct\\pools_attributes_issued_201006.csv\n",
      "Done loading C:/Users/YuriTurygin/Desktop/NN-PPM/data/seller pct\\pools_attributes_issued_201007.csv\n",
      "Done loading C:/Users/YuriTurygin/Desktop/NN-PPM/data/seller pct\\pools_attributes_issued_201008.csv\n",
      "Done loading C:/Users/YuriTurygin/Desktop/NN-PPM/data/seller pct\\pools_attributes_issued_201009.csv\n",
      "Done loading C:/Users/YuriTurygin/Desktop/NN-PPM/data/seller pct\\pools_attributes_issued_201010.csv\n",
      "Done loading C:/Users/YuriTurygin/Desktop/NN-PPM/data/seller pct\\pools_attributes_issued_201011.csv\n",
      "Done loading C:/Users/YuriTurygin/Desktop/NN-PPM/data/seller pct\\pools_attributes_issued_201012.csv\n",
      "Done loading C:/Users/YuriTurygin/Desktop/NN-PPM/data/seller pct\\pools_attributes_issued_201101.csv\n",
      "Done loading C:/Users/YuriTurygin/Desktop/NN-PPM/data/seller pct\\pools_attributes_issued_201102.csv\n",
      "Done loading C:/Users/YuriTurygin/Desktop/NN-PPM/data/seller pct\\pools_attributes_issued_201103.csv\n",
      "Done loading C:/Users/YuriTurygin/Desktop/NN-PPM/data/seller pct\\pools_attributes_issued_201104.csv\n",
      "Done loading C:/Users/YuriTurygin/Desktop/NN-PPM/data/seller pct\\pools_attributes_issued_201105.csv\n",
      "Done loading C:/Users/YuriTurygin/Desktop/NN-PPM/data/seller pct\\pools_attributes_issued_201106.csv\n",
      "Done loading C:/Users/YuriTurygin/Desktop/NN-PPM/data/seller pct\\pools_attributes_issued_201107.csv\n",
      "Done loading C:/Users/YuriTurygin/Desktop/NN-PPM/data/seller pct\\pools_attributes_issued_201108.csv\n",
      "Done loading C:/Users/YuriTurygin/Desktop/NN-PPM/data/seller pct\\pools_attributes_issued_201109.csv\n",
      "Done loading C:/Users/YuriTurygin/Desktop/NN-PPM/data/seller pct\\pools_attributes_issued_201110.csv\n",
      "Done loading C:/Users/YuriTurygin/Desktop/NN-PPM/data/seller pct\\pools_attributes_issued_201111.csv\n",
      "Done loading C:/Users/YuriTurygin/Desktop/NN-PPM/data/seller pct\\pools_attributes_issued_201112.csv\n",
      "Done loading C:/Users/YuriTurygin/Desktop/NN-PPM/data/seller pct\\pools_attributes_issued_201201.csv\n",
      "Done loading C:/Users/YuriTurygin/Desktop/NN-PPM/data/seller pct\\pools_attributes_issued_201202.csv\n",
      "Done loading C:/Users/YuriTurygin/Desktop/NN-PPM/data/seller pct\\pools_attributes_issued_201203.csv\n",
      "Done loading C:/Users/YuriTurygin/Desktop/NN-PPM/data/seller pct\\pools_attributes_issued_201204.csv\n",
      "Done loading C:/Users/YuriTurygin/Desktop/NN-PPM/data/seller pct\\pools_attributes_issued_201205.csv\n",
      "Done loading C:/Users/YuriTurygin/Desktop/NN-PPM/data/seller pct\\pools_attributes_issued_201206.csv\n",
      "Done loading C:/Users/YuriTurygin/Desktop/NN-PPM/data/seller pct\\pools_attributes_issued_201207.csv\n",
      "Done loading C:/Users/YuriTurygin/Desktop/NN-PPM/data/seller pct\\pools_attributes_issued_201208.csv\n",
      "Done loading C:/Users/YuriTurygin/Desktop/NN-PPM/data/seller pct\\pools_attributes_issued_201209.csv\n",
      "Done loading C:/Users/YuriTurygin/Desktop/NN-PPM/data/seller pct\\pools_attributes_issued_201210.csv\n",
      "Done loading C:/Users/YuriTurygin/Desktop/NN-PPM/data/seller pct\\pools_attributes_issued_201211.csv\n",
      "Done loading C:/Users/YuriTurygin/Desktop/NN-PPM/data/seller pct\\pools_attributes_issued_201212.csv\n",
      "Done loading C:/Users/YuriTurygin/Desktop/NN-PPM/data/seller pct\\pools_attributes_issued_201301.csv\n",
      "Done loading C:/Users/YuriTurygin/Desktop/NN-PPM/data/seller pct\\pools_attributes_issued_201302.csv\n",
      "Done loading C:/Users/YuriTurygin/Desktop/NN-PPM/data/seller pct\\pools_attributes_issued_201303.csv\n",
      "Done loading C:/Users/YuriTurygin/Desktop/NN-PPM/data/seller pct\\pools_attributes_issued_201304.csv\n",
      "Done loading C:/Users/YuriTurygin/Desktop/NN-PPM/data/seller pct\\pools_attributes_issued_201305.csv\n",
      "Done loading C:/Users/YuriTurygin/Desktop/NN-PPM/data/seller pct\\pools_attributes_issued_201306.csv\n",
      "Done loading C:/Users/YuriTurygin/Desktop/NN-PPM/data/seller pct\\pools_attributes_issued_201307.csv\n",
      "Done loading C:/Users/YuriTurygin/Desktop/NN-PPM/data/seller pct\\pools_attributes_issued_201308.csv\n",
      "Done loading C:/Users/YuriTurygin/Desktop/NN-PPM/data/seller pct\\pools_attributes_issued_201309.csv\n",
      "Done loading C:/Users/YuriTurygin/Desktop/NN-PPM/data/seller pct\\pools_attributes_issued_201310.csv\n",
      "Done loading C:/Users/YuriTurygin/Desktop/NN-PPM/data/seller pct\\pools_attributes_issued_201311.csv\n",
      "Done loading C:/Users/YuriTurygin/Desktop/NN-PPM/data/seller pct\\pools_attributes_issued_201312.csv\n",
      "Done loading C:/Users/YuriTurygin/Desktop/NN-PPM/data/seller pct\\pools_attributes_issued_201401.csv\n",
      "Done loading C:/Users/YuriTurygin/Desktop/NN-PPM/data/seller pct\\pools_attributes_issued_201402.csv\n",
      "Done loading C:/Users/YuriTurygin/Desktop/NN-PPM/data/seller pct\\pools_attributes_issued_201403.csv\n",
      "Done loading C:/Users/YuriTurygin/Desktop/NN-PPM/data/seller pct\\pools_attributes_issued_201404.csv\n",
      "Done loading C:/Users/YuriTurygin/Desktop/NN-PPM/data/seller pct\\pools_attributes_issued_201405.csv\n",
      "Done loading C:/Users/YuriTurygin/Desktop/NN-PPM/data/seller pct\\pools_attributes_issued_201406.csv\n",
      "Done loading C:/Users/YuriTurygin/Desktop/NN-PPM/data/seller pct\\pools_attributes_issued_201407.csv\n",
      "Done loading C:/Users/YuriTurygin/Desktop/NN-PPM/data/seller pct\\pools_attributes_issued_201408.csv\n",
      "Done loading C:/Users/YuriTurygin/Desktop/NN-PPM/data/seller pct\\pools_attributes_issued_201409.csv\n",
      "Done loading C:/Users/YuriTurygin/Desktop/NN-PPM/data/seller pct\\pools_attributes_issued_201410.csv\n",
      "Done loading C:/Users/YuriTurygin/Desktop/NN-PPM/data/seller pct\\pools_attributes_issued_201411.csv\n",
      "Done loading C:/Users/YuriTurygin/Desktop/NN-PPM/data/seller pct\\pools_attributes_issued_201412.csv\n",
      "Done loading C:/Users/YuriTurygin/Desktop/NN-PPM/data/seller pct\\pools_attributes_issued_201501.csv\n",
      "Done loading C:/Users/YuriTurygin/Desktop/NN-PPM/data/seller pct\\pools_attributes_issued_201502.csv\n",
      "Done loading C:/Users/YuriTurygin/Desktop/NN-PPM/data/seller pct\\pools_attributes_issued_201503.csv\n",
      "Done loading C:/Users/YuriTurygin/Desktop/NN-PPM/data/seller pct\\pools_attributes_issued_201504.csv\n",
      "Done loading C:/Users/YuriTurygin/Desktop/NN-PPM/data/seller pct\\pools_attributes_issued_201505.csv\n",
      "Done loading C:/Users/YuriTurygin/Desktop/NN-PPM/data/seller pct\\pools_attributes_issued_201506.csv\n",
      "Done loading C:/Users/YuriTurygin/Desktop/NN-PPM/data/seller pct\\pools_attributes_issued_201507.csv\n",
      "Done loading C:/Users/YuriTurygin/Desktop/NN-PPM/data/seller pct\\pools_attributes_issued_201508.csv\n",
      "Done loading C:/Users/YuriTurygin/Desktop/NN-PPM/data/seller pct\\pools_attributes_issued_201509.csv\n",
      "Done loading C:/Users/YuriTurygin/Desktop/NN-PPM/data/seller pct\\pools_attributes_issued_201510.csv\n",
      "Done loading C:/Users/YuriTurygin/Desktop/NN-PPM/data/seller pct\\pools_attributes_issued_201511.csv\n",
      "Done loading C:/Users/YuriTurygin/Desktop/NN-PPM/data/seller pct\\pools_attributes_issued_201512.csv\n",
      "Done loading C:/Users/YuriTurygin/Desktop/NN-PPM/data/seller pct\\pools_attributes_issued_201601.csv\n",
      "Done loading C:/Users/YuriTurygin/Desktop/NN-PPM/data/seller pct\\pools_attributes_issued_201602.csv\n",
      "Done loading C:/Users/YuriTurygin/Desktop/NN-PPM/data/seller pct\\pools_attributes_issued_201603.csv\n",
      "Done loading C:/Users/YuriTurygin/Desktop/NN-PPM/data/seller pct\\pools_attributes_issued_201604.csv\n",
      "Done loading C:/Users/YuriTurygin/Desktop/NN-PPM/data/seller pct\\pools_attributes_issued_201605.csv\n",
      "Done loading C:/Users/YuriTurygin/Desktop/NN-PPM/data/seller pct\\pools_attributes_issued_201606.csv\n",
      "Done loading C:/Users/YuriTurygin/Desktop/NN-PPM/data/seller pct\\pools_attributes_issued_201607.csv\n",
      "Done loading C:/Users/YuriTurygin/Desktop/NN-PPM/data/seller pct\\pools_attributes_issued_201608.csv\n",
      "Done loading C:/Users/YuriTurygin/Desktop/NN-PPM/data/seller pct\\pools_attributes_issued_201609.csv\n",
      "Done loading C:/Users/YuriTurygin/Desktop/NN-PPM/data/seller pct\\pools_attributes_issued_201610.csv\n",
      "Done loading C:/Users/YuriTurygin/Desktop/NN-PPM/data/seller pct\\pools_attributes_issued_201611.csv\n",
      "Done loading C:/Users/YuriTurygin/Desktop/NN-PPM/data/seller pct\\pools_attributes_issued_201612.csv\n",
      "Done loading C:/Users/YuriTurygin/Desktop/NN-PPM/data/seller pct\\pools_attributes_issued_201701.csv\n",
      "Done loading C:/Users/YuriTurygin/Desktop/NN-PPM/data/seller pct\\pools_attributes_issued_201702.csv\n",
      "Done loading C:/Users/YuriTurygin/Desktop/NN-PPM/data/seller pct\\pools_attributes_issued_201703.csv\n",
      "Done loading C:/Users/YuriTurygin/Desktop/NN-PPM/data/seller pct\\pools_attributes_issued_201704.csv\n",
      "Done loading C:/Users/YuriTurygin/Desktop/NN-PPM/data/seller pct\\pools_attributes_issued_201705.csv\n",
      "Done loading C:/Users/YuriTurygin/Desktop/NN-PPM/data/seller pct\\pools_attributes_issued_201706.csv\n",
      "Done loading C:/Users/YuriTurygin/Desktop/NN-PPM/data/seller pct\\pools_attributes_issued_201707.csv\n",
      "Done loading C:/Users/YuriTurygin/Desktop/NN-PPM/data/seller pct\\pools_attributes_issued_201708.csv\n",
      "Done loading C:/Users/YuriTurygin/Desktop/NN-PPM/data/seller pct\\pools_attributes_issued_201709.csv\n",
      "Done loading C:/Users/YuriTurygin/Desktop/NN-PPM/data/seller pct\\pools_attributes_issued_201710.csv\n",
      "Done loading C:/Users/YuriTurygin/Desktop/NN-PPM/data/seller pct\\pools_attributes_issued_201711.csv\n",
      "Done loading C:/Users/YuriTurygin/Desktop/NN-PPM/data/seller pct\\pools_attributes_issued_201712.csv\n",
      "Done loading C:/Users/YuriTurygin/Desktop/NN-PPM/data/seller pct\\pools_attributes_issued_201801.csv\n",
      "Done loading C:/Users/YuriTurygin/Desktop/NN-PPM/data/seller pct\\pools_attributes_issued_201802.csv\n",
      "Done loading C:/Users/YuriTurygin/Desktop/NN-PPM/data/seller pct\\pools_attributes_issued_201803.csv\n",
      "Done loading C:/Users/YuriTurygin/Desktop/NN-PPM/data/seller pct\\pools_attributes_issued_201804.csv\n",
      "Done loading C:/Users/YuriTurygin/Desktop/NN-PPM/data/seller pct\\pools_attributes_issued_201805.csv\n",
      "Done loading C:/Users/YuriTurygin/Desktop/NN-PPM/data/seller pct\\pools_attributes_issued_201806.csv\n",
      "Done loading C:/Users/YuriTurygin/Desktop/NN-PPM/data/seller pct\\pools_attributes_issued_201807.csv\n",
      "Done loading C:/Users/YuriTurygin/Desktop/NN-PPM/data/seller pct\\pools_attributes_issued_201808.csv\n",
      "Done loading C:/Users/YuriTurygin/Desktop/NN-PPM/data/seller pct\\pools_attributes_issued_201809.csv\n",
      "Done loading C:/Users/YuriTurygin/Desktop/NN-PPM/data/seller pct\\pools_attributes_issued_201810.csv\n",
      "Done loading C:/Users/YuriTurygin/Desktop/NN-PPM/data/seller pct\\pools_attributes_issued_201811.csv\n",
      "Done loading C:/Users/YuriTurygin/Desktop/NN-PPM/data/seller pct\\pools_attributes_issued_201812.csv\n",
      "Done loading C:/Users/YuriTurygin/Desktop/NN-PPM/data/seller pct\\pools_attributes_issued_201901.csv\n",
      "Done loading C:/Users/YuriTurygin/Desktop/NN-PPM/data/seller pct\\pools_attributes_issued_201902.csv\n",
      "Done loading C:/Users/YuriTurygin/Desktop/NN-PPM/data/seller pct\\pools_attributes_issued_201903.csv\n",
      "Done loading C:/Users/YuriTurygin/Desktop/NN-PPM/data/seller pct\\pools_attributes_issued_201904.csv\n",
      "Done loading C:/Users/YuriTurygin/Desktop/NN-PPM/data/seller pct\\pools_attributes_issued_201905.csv\n",
      "Done loading C:/Users/YuriTurygin/Desktop/NN-PPM/data/seller pct\\pools_attributes_issued_201906.csv\n",
      "Done loading C:/Users/YuriTurygin/Desktop/NN-PPM/data/seller pct\\pools_attributes_issued_201907.csv\n",
      "Done loading C:/Users/YuriTurygin/Desktop/NN-PPM/data/seller pct\\pools_attributes_issued_201908.csv\n",
      "Done loading C:/Users/YuriTurygin/Desktop/NN-PPM/data/seller pct\\pools_attributes_issued_201909.csv\n",
      "Done loading C:/Users/YuriTurygin/Desktop/NN-PPM/data/seller pct\\pools_attributes_issued_201910.csv\n",
      "Done loading C:/Users/YuriTurygin/Desktop/NN-PPM/data/seller pct\\pools_attributes_issued_201911.csv\n",
      "Done loading C:/Users/YuriTurygin/Desktop/NN-PPM/data/seller pct\\pools_attributes_issued_201912.csv\n",
      "Done loading C:/Users/YuriTurygin/Desktop/NN-PPM/data/seller pct\\pools_attributes_issued_202001.csv\n",
      "Done loading C:/Users/YuriTurygin/Desktop/NN-PPM/data/seller pct\\pools_attributes_issued_202002.csv\n"
     ]
    }
   ],
   "source": [
    "# Read in all files with pools Seller info\n",
    "seller_df = pd.DataFrame()\n",
    "for file in pools_seller_pct_files:\n",
    "    one_month_issue_pools = pd.read_csv(file)\n",
    "    if len(seller_df)==0:\n",
    "        seller_df = one_month_issue_pools\n",
    "    else:\n",
    "        # df1.columns.difference(df2.columns)\n",
    "        # df2.columns.difference(df1.columns)\n",
    "        if all(seller_df.columns == one_month_issue_pools.columns):\n",
    "            seller_df = pd.concat([seller_df,one_month_issue_pools])\n",
    "    print('Done loading ' + file)"
   ]
  },
  {
   "cell_type": "code",
   "execution_count": 12,
   "metadata": {},
   "outputs": [
    {
     "output_type": "execute_result",
     "data": {
      "text/plain": [
       "Index(['poolno', 'asofdate', 'SellerPct_AMRHT', 'SellerPct_ALS',\n",
       "       'SellerPct_CAFULL', 'SellerPct_CNTL', 'SellerPct_CITIZ', 'SellerPct_53',\n",
       "       'SellerPct_FIR', 'SellerPct_FRDOM', 'SellerPct_GUILD',\n",
       "       'SellerPct_CHASE', 'SellerPct_LLSL', 'SellerPct_MATRX', 'SellerPct_NCM',\n",
       "       'SellerPct_NATIONST', 'SellerPct_NRESM', 'SellerPct_PNYMAC',\n",
       "       'SellerPct_PILOSI', 'SellerPct_QUICK', 'SellerPct_REG',\n",
       "       'SellerPct_RMSC', 'SellerPct_UNSHFI', 'SellerPct_WFHM', 'cusip',\n",
       "       'Prefix', 'Label'],\n",
       "      dtype='object')"
      ]
     },
     "metadata": {},
     "execution_count": 12
    }
   ],
   "source": [
    "seller_df.columns"
   ]
  },
  {
   "cell_type": "code",
   "execution_count": 13,
   "metadata": {},
   "outputs": [
    {
     "output_type": "execute_result",
     "data": {
      "text/plain": [
       "9636863"
      ]
     },
     "metadata": {},
     "execution_count": 13
    }
   ],
   "source": [
    "len(seller_df)"
   ]
  },
  {
   "cell_type": "code",
   "execution_count": 14,
   "metadata": {},
   "outputs": [],
   "source": [
    "dill.dump_session('notebook_env_all_3_dfs.db')"
   ]
  }
 ],
 "metadata": {
  "kernelspec": {
   "display_name": "Python 3",
   "language": "python",
   "name": "python3"
  },
  "language_info": {
   "codemirror_mode": {
    "name": "ipython",
    "version": 3
   },
   "file_extension": ".py",
   "mimetype": "text/x-python",
   "name": "python",
   "nbconvert_exporter": "python",
   "pygments_lexer": "ipython3",
   "version": "3.7.6-final"
  }
 },
 "nbformat": 4,
 "nbformat_minor": 2
}